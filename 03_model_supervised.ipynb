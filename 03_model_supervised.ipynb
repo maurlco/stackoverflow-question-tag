{
 "cells": [
  {
   "cell_type": "code",
   "execution_count": 11,
   "metadata": {
    "collapsed": true,
    "pycharm": {
     "name": "#%%\n"
    }
   },
   "outputs": [],
   "source": [
    "import numpy as np # linear algebra\n",
    "import pandas as pd # data processing, CSV file I/O (e.g. pd.read_csv)\n",
    "import warnings\n",
    "warnings.filterwarnings('ignore')\n",
    "\n",
    "\n",
    "# NLTK modules\n",
    "import nltk\n",
    "# nltk.download('punkt')\n",
    "# nltk.download('stopwords')\n",
    "# nltk.download('wordnet')\n",
    "\n",
    "import re\n",
    "\n",
    "from gensim.models import Word2Vec # Word2Vec module\n",
    "\n",
    "from sklearn.model_selection import train_test_split\n",
    "from sklearn.feature_extraction.text import TfidfVectorizer,CountVectorizer, TfidfTransformer\n",
    "from sklearn.preprocessing import LabelEncoder, Normalizer\n",
    "from sklearn.decomposition import TruncatedSVD, NMF\n",
    "from sklearn.pipeline import Pipeline\n",
    "from sklearn.naive_bayes import GaussianNB, MultinomialNB\n",
    "from sklearn.svm import SVC\n",
    "from sklearn.tree import DecisionTreeClassifier\n",
    "from sklearn.neural_network import MLPClassifier\n",
    "from sklearn.linear_model import SGDClassifier, LogisticRegression\n",
    "from sklearn.multiclass import OneVsRestClassifier\n",
    "from sklearn.ensemble import GradientBoostingClassifier\n",
    "from sklearn.metrics import precision_score, recall_score, f1_score, accuracy_score\n",
    "\n",
    "\n",
    "# Input data files are available in the read-only \"../input/\" directory\n",
    "# For example, running this (by clicking run or pressing Shift+Enter) will list all files under the input directory\n",
    "\n",
    "import os"
   ]
  },
  {
   "cell_type": "markdown",
   "source": [
    "# 1. Loading dataset"
   ],
   "metadata": {
    "collapsed": false,
    "pycharm": {
     "name": "#%% md\n"
    }
   }
  },
  {
   "cell_type": "code",
   "execution_count": 12,
   "outputs": [],
   "source": [
    "df = pd.read_csv('/Users/maurelco/Developer/Python/Projet 4/data/Cleaned/df_process_text_3.csv')"
   ],
   "metadata": {
    "collapsed": false,
    "pycharm": {
     "name": "#%%\n"
    }
   }
  },
  {
   "cell_type": "code",
   "execution_count": 13,
   "outputs": [
    {
     "data": {
      "text/plain": "                                                   Title  \\\n0      giving unix process exclusive rw access directory   \n1                    automatic repaint minimizing window   \n2      man-in-the-middle attack security threat ssh a...   \n3               managing data access simple winforms app   \n4                                 render basic html view   \n49995  bypass vertica error execution time exceeded r...   \n49996  conflicting conditional operation currently pr...   \n49997              problem lr_find pytorch fastai course   \n49998              jsonpatch escape slash jsonpatch+json   \n49999  org.gradle .internal .resolve .artifactnotfoun...   \n\n                                                    Body  \\\n0      way sandbox linux process certain directory gi...   \n1      jframe two panel one panel draw line working m...   \n2      expert network security pardon question smart ...   \n3      simple winforms data entry app us sqlite alway...   \n4      basic node.js app trying get ground using expr...   \n49995  using ssis tool ole db downloading data vertic...   \n49996  using f uploading file already created bucket ...   \n49997  following jupyter notebook course hit upon err...   \n49998  json wanted update field process my-process po...   \n49999  using version firebase google play service bui...   \n\n                                                    Tags  \\\n0                   linux ubuntu process sandbox selinux   \n1                      java graphics jframe jpanel paint   \n2        security ssh ssh-keys openssh man-in-the-middle   \n3             c# winforms sqlite datatable sqlconnection   \n4                javascript html node.js mongodb express   \n49995  sql-server ssas oledb sql-server-data-tools ve...   \n49996  python amazon-web-services amazon-s boto pytho...   \n49997  python machine-learning deep-learning pytorch ...   \n49998               java json rest json-patch http-patch   \n49999  android android-studio android-gradle-plugin g...   \n\n                                             _clean_tags  _len_body  \\\n0      ['linux', 'ubuntu', 'process', 'sandbox', 'sel...        526   \n1      ['java', 'graphics', 'jframe', 'jpanel', 'paint']       2969   \n2      ['security', 'ssh', 'ssh-keys', 'openssh', 'ma...        447   \n3      ['c#', 'winforms', 'sqlite', 'datatable', 'sql...       2537   \n4      ['javascript', 'html', 'node.js', 'mongodb', '...        335   \n49995  ['sql-server', 'ssas', 'oledb', 'sql-server-da...        206   \n49996  ['python', 'amazon-web-services', 'amazon-s', ...        301   \n49997  ['python', 'machine-learning', 'deep-learning'...        908   \n49998  ['java', 'json', 'rest', 'json-patch', 'http-p...        645   \n49999  ['android', 'android-studio', 'android-gradle-...      27209   \n\n                                                  Body_2  _len_body_2  \\\n0      sandbox linux process certain directory give p...          462   \n1      jframe two panel panel draw line working minim...         2855   \n2      expert network security pardon smart automatin...          414   \n3      simple winforms entry app u sqlite always sing...         2382   \n4      basic node.js app get ground express framework...          292   \n49995  ssis tool ole db downloading vertica database ...          186   \n49996  f uploading file already created bucket deleti...          268   \n49997  jupyter notebook course hit upon line cnn_lear...          781   \n49998  json wanted update field process my-process po...          566   \n49999  version firebase google play service build sta...        27143   \n\n                                                  Body_3  \\\n0      sandbox linux process certain directory proces...   \n1      jframe panel panel draw line minimized window ...   \n2      expert network security pardon smart automatin...   \n3      winforms entry app sqlite always single-user a...   \n4      basic node.js app get ground express framework...   \n49995  ssis tool ole db downloading vertica database ...   \n49996  uploading file bucket deleting bucket executio...   \n49997  jupyter notebook course hit upon line cnn_lear...   \n49998  json wanted field process my-process pod some-...   \n49999  version firebase google play service build sta...   \n\n                                                 Title_2  \n0      giving unix process exclusive rw access directory  \n1                    automatic repaint minimizing window  \n2      man-in-the-middle attack security threat ssh a...  \n3                      managing data access winforms app  \n4                                 render basic html view  \n49995  bypass vertica error execution time exceeded r...  \n49996  conflicting conditional operation progress bucket  \n49997              problem lr_find pytorch fastai course  \n49998              jsonpatch escape slash jsonpatch+json  \n49999  org.gradle .resolve .artifactnotfoundexception...  ",
      "text/html": "<div>\n<style scoped>\n    .dataframe tbody tr th:only-of-type {\n        vertical-align: middle;\n    }\n\n    .dataframe tbody tr th {\n        vertical-align: top;\n    }\n\n    .dataframe thead th {\n        text-align: right;\n    }\n</style>\n<table border=\"1\" class=\"dataframe\">\n  <thead>\n    <tr style=\"text-align: right;\">\n      <th></th>\n      <th>Title</th>\n      <th>Body</th>\n      <th>Tags</th>\n      <th>_clean_tags</th>\n      <th>_len_body</th>\n      <th>Body_2</th>\n      <th>_len_body_2</th>\n      <th>Body_3</th>\n      <th>Title_2</th>\n    </tr>\n  </thead>\n  <tbody>\n    <tr>\n      <th>0</th>\n      <td>giving unix process exclusive rw access directory</td>\n      <td>way sandbox linux process certain directory gi...</td>\n      <td>linux ubuntu process sandbox selinux</td>\n      <td>['linux', 'ubuntu', 'process', 'sandbox', 'sel...</td>\n      <td>526</td>\n      <td>sandbox linux process certain directory give p...</td>\n      <td>462</td>\n      <td>sandbox linux process certain directory proces...</td>\n      <td>giving unix process exclusive rw access directory</td>\n    </tr>\n    <tr>\n      <th>1</th>\n      <td>automatic repaint minimizing window</td>\n      <td>jframe two panel one panel draw line working m...</td>\n      <td>java graphics jframe jpanel paint</td>\n      <td>['java', 'graphics', 'jframe', 'jpanel', 'paint']</td>\n      <td>2969</td>\n      <td>jframe two panel panel draw line working minim...</td>\n      <td>2855</td>\n      <td>jframe panel panel draw line minimized window ...</td>\n      <td>automatic repaint minimizing window</td>\n    </tr>\n    <tr>\n      <th>2</th>\n      <td>man-in-the-middle attack security threat ssh a...</td>\n      <td>expert network security pardon question smart ...</td>\n      <td>security ssh ssh-keys openssh man-in-the-middle</td>\n      <td>['security', 'ssh', 'ssh-keys', 'openssh', 'ma...</td>\n      <td>447</td>\n      <td>expert network security pardon smart automatin...</td>\n      <td>414</td>\n      <td>expert network security pardon smart automatin...</td>\n      <td>man-in-the-middle attack security threat ssh a...</td>\n    </tr>\n    <tr>\n      <th>3</th>\n      <td>managing data access simple winforms app</td>\n      <td>simple winforms data entry app us sqlite alway...</td>\n      <td>c# winforms sqlite datatable sqlconnection</td>\n      <td>['c#', 'winforms', 'sqlite', 'datatable', 'sql...</td>\n      <td>2537</td>\n      <td>simple winforms entry app u sqlite always sing...</td>\n      <td>2382</td>\n      <td>winforms entry app sqlite always single-user a...</td>\n      <td>managing data access winforms app</td>\n    </tr>\n    <tr>\n      <th>4</th>\n      <td>render basic html view</td>\n      <td>basic node.js app trying get ground using expr...</td>\n      <td>javascript html node.js mongodb express</td>\n      <td>['javascript', 'html', 'node.js', 'mongodb', '...</td>\n      <td>335</td>\n      <td>basic node.js app get ground express framework...</td>\n      <td>292</td>\n      <td>basic node.js app get ground express framework...</td>\n      <td>render basic html view</td>\n    </tr>\n    <tr>\n      <th>49995</th>\n      <td>bypass vertica error execution time exceeded r...</td>\n      <td>using ssis tool ole db downloading data vertic...</td>\n      <td>sql-server ssas oledb sql-server-data-tools ve...</td>\n      <td>['sql-server', 'ssas', 'oledb', 'sql-server-da...</td>\n      <td>206</td>\n      <td>ssis tool ole db downloading vertica database ...</td>\n      <td>186</td>\n      <td>ssis tool ole db downloading vertica database ...</td>\n      <td>bypass vertica error execution time exceeded r...</td>\n    </tr>\n    <tr>\n      <th>49996</th>\n      <td>conflicting conditional operation currently pr...</td>\n      <td>using f uploading file already created bucket ...</td>\n      <td>python amazon-web-services amazon-s boto pytho...</td>\n      <td>['python', 'amazon-web-services', 'amazon-s', ...</td>\n      <td>301</td>\n      <td>f uploading file already created bucket deleti...</td>\n      <td>268</td>\n      <td>uploading file bucket deleting bucket executio...</td>\n      <td>conflicting conditional operation progress bucket</td>\n    </tr>\n    <tr>\n      <th>49997</th>\n      <td>problem lr_find pytorch fastai course</td>\n      <td>following jupyter notebook course hit upon err...</td>\n      <td>python machine-learning deep-learning pytorch ...</td>\n      <td>['python', 'machine-learning', 'deep-learning'...</td>\n      <td>908</td>\n      <td>jupyter notebook course hit upon line cnn_lear...</td>\n      <td>781</td>\n      <td>jupyter notebook course hit upon line cnn_lear...</td>\n      <td>problem lr_find pytorch fastai course</td>\n    </tr>\n    <tr>\n      <th>49998</th>\n      <td>jsonpatch escape slash jsonpatch+json</td>\n      <td>json wanted update field process my-process po...</td>\n      <td>java json rest json-patch http-patch</td>\n      <td>['java', 'json', 'rest', 'json-patch', 'http-p...</td>\n      <td>645</td>\n      <td>json wanted update field process my-process po...</td>\n      <td>566</td>\n      <td>json wanted field process my-process pod some-...</td>\n      <td>jsonpatch escape slash jsonpatch+json</td>\n    </tr>\n    <tr>\n      <th>49999</th>\n      <td>org.gradle .internal .resolve .artifactnotfoun...</td>\n      <td>using version firebase google play service bui...</td>\n      <td>android android-studio android-gradle-plugin g...</td>\n      <td>['android', 'android-studio', 'android-gradle-...</td>\n      <td>27209</td>\n      <td>version firebase google play service build sta...</td>\n      <td>27143</td>\n      <td>version firebase google play service build sta...</td>\n      <td>org.gradle .resolve .artifactnotfoundexception...</td>\n    </tr>\n  </tbody>\n</table>\n</div>"
     },
     "execution_count": 13,
     "metadata": {},
     "output_type": "execute_result"
    }
   ],
   "source": [
    "# print sample data\n",
    "df.head().append(df.tail())"
   ],
   "metadata": {
    "collapsed": false,
    "pycharm": {
     "name": "#%%\n"
    }
   }
  },
  {
   "cell_type": "code",
   "execution_count": 14,
   "outputs": [],
   "source": [
    "df = df.dropna()"
   ],
   "metadata": {
    "collapsed": false,
    "pycharm": {
     "name": "#%%\n"
    }
   }
  },
  {
   "cell_type": "code",
   "execution_count": 15,
   "outputs": [
    {
     "data": {
      "text/plain": "Title          0\nBody           0\nTags           0\n_clean_tags    0\n_len_body      0\nBody_2         0\n_len_body_2    0\nBody_3         0\nTitle_2        0\ndtype: int64"
     },
     "execution_count": 15,
     "metadata": {},
     "output_type": "execute_result"
    }
   ],
   "source": [
    "df.isna().sum()"
   ],
   "metadata": {
    "collapsed": false,
    "pycharm": {
     "name": "#%%\n"
    }
   }
  },
  {
   "cell_type": "code",
   "execution_count": 16,
   "outputs": [
    {
     "data": {
      "text/plain": "'sandbox linux process certain directory process exclusive rw access dir temporary directory e.g python scripting tool directory limiting much functionality process access directory except superusers course sandbox web service basically allows user arbitrary code authorization software process linux user user harm system temporary private directory file protected user webservice giving unix process exclusive rw access directory'"
     },
     "execution_count": 16,
     "metadata": {},
     "output_type": "execute_result"
    }
   ],
   "source": [
    "df['body_and_title_2'] = df['Body_3'] + \" \" +df['Title_2']\n",
    "df['body_and_title_2'].iloc[0]"
   ],
   "metadata": {
    "collapsed": false,
    "pycharm": {
     "name": "#%%\n"
    }
   }
  },
  {
   "cell_type": "code",
   "execution_count": 8,
   "outputs": [],
   "source": [
    "train, test = train_test_split(df, test_size=0.3, random_state=42)"
   ],
   "metadata": {
    "collapsed": false,
    "pycharm": {
     "name": "#%%\n"
    }
   }
  },
  {
   "cell_type": "code",
   "execution_count": 9,
   "outputs": [
    {
     "data": {
      "text/plain": "                words\n0                  c#\n1                java\n2          javascript\n3              python\n4             asp.net\n...               ...\n18038       cloudbees\n18039        djcelery\n18040    copywithzone\n18041  time-precision\n18042      http-patch\n\n[18043 rows x 1 columns]",
      "text/html": "<div>\n<style scoped>\n    .dataframe tbody tr th:only-of-type {\n        vertical-align: middle;\n    }\n\n    .dataframe tbody tr th {\n        vertical-align: top;\n    }\n\n    .dataframe thead th {\n        text-align: right;\n    }\n</style>\n<table border=\"1\" class=\"dataframe\">\n  <thead>\n    <tr style=\"text-align: right;\">\n      <th></th>\n      <th>words</th>\n    </tr>\n  </thead>\n  <tbody>\n    <tr>\n      <th>0</th>\n      <td>c#</td>\n    </tr>\n    <tr>\n      <th>1</th>\n      <td>java</td>\n    </tr>\n    <tr>\n      <th>2</th>\n      <td>javascript</td>\n    </tr>\n    <tr>\n      <th>3</th>\n      <td>python</td>\n    </tr>\n    <tr>\n      <th>4</th>\n      <td>asp.net</td>\n    </tr>\n    <tr>\n      <th>...</th>\n      <td>...</td>\n    </tr>\n    <tr>\n      <th>18038</th>\n      <td>cloudbees</td>\n    </tr>\n    <tr>\n      <th>18039</th>\n      <td>djcelery</td>\n    </tr>\n    <tr>\n      <th>18040</th>\n      <td>copywithzone</td>\n    </tr>\n    <tr>\n      <th>18041</th>\n      <td>time-precision</td>\n    </tr>\n    <tr>\n      <th>18042</th>\n      <td>http-patch</td>\n    </tr>\n  </tbody>\n</table>\n<p>18043 rows × 1 columns</p>\n</div>"
     },
     "execution_count": 9,
     "metadata": {},
     "output_type": "execute_result"
    }
   ],
   "source": [
    "tag_words = pd.read_csv('/Users/maurelco/Developer/Python/Projet 4/data/Cleaned/tag_words.csv')\n",
    "tag_words"
   ],
   "metadata": {
    "collapsed": false,
    "pycharm": {
     "name": "#%%\n"
    }
   }
  },
  {
   "cell_type": "code",
   "execution_count": null,
   "outputs": [],
   "source": [
    "from sklearn.preprocessing import LabelEncoder\n",
    "\n",
    "labelencoder = LabelEncoder()\n",
    "\n",
    "y_enc_train, labels = labelencoder(tag_words)\n",
    "\n",
    "# Split from the loaded dataset\n",
    "X_train, X_test, y_train, y_test = train_test_split(df['Body_3'], y_enc_train, test_size=0.3, shuffle=True)"
   ],
   "metadata": {
    "collapsed": false,
    "pycharm": {
     "name": "#%%\n"
    }
   }
  },
  {
   "cell_type": "code",
   "execution_count": 8,
   "outputs": [
    {
     "data": {
      "text/plain": "(34997, 10)"
     },
     "execution_count": 8,
     "metadata": {},
     "output_type": "execute_result"
    }
   ],
   "source": [
    "train.shape"
   ],
   "metadata": {
    "collapsed": false,
    "pycharm": {
     "name": "#%%\n"
    }
   }
  },
  {
   "cell_type": "code",
   "execution_count": 9,
   "outputs": [
    {
     "data": {
      "text/plain": "(15000, 10)"
     },
     "execution_count": 9,
     "metadata": {},
     "output_type": "execute_result"
    }
   ],
   "source": [
    "test.shape"
   ],
   "metadata": {
    "collapsed": false,
    "pycharm": {
     "name": "#%%\n"
    }
   }
  },
  {
   "cell_type": "code",
   "execution_count": 16,
   "outputs": [
    {
     "data": {
      "text/plain": "['scala apache-spark distributed-computing k-means bigdata',\n 'c# jquery json datatables asp.net -mvc',\n 'node.js ssl https openssl tls',\n 'rest api postman keycloak put',\n 'asp.net jquery asp.net -mvc data-binding drop-down-menu',\n 'ruby class module constants class-method',\n 'python python .x windows jupyter-notebook python-multiprocessing',\n 'java jsf caching jboss pojo',\n 'ruby-on-rails ruby activerecord query-optimization constants',\n 'php database codeigniter ms-access odbc',\n 'angular npm angular-cli fork yarnpkg',\n 'javascript date filter google-apps-script filtering',\n 'php mysql laravel eloquent laravel',\n 'python arrays numpy lstm sliding-window',\n 'delphi delphi delphi datasnap delphi-xe',\n 'php regex unicode preg-match preg-match-all',\n 'java python xls jexcelapi hssf',\n 'linux perl process ipc pipe',\n 'python django json python serialization',\n 'ios iphone objective-c nsdictionary afnetworking',\n 'c# combobox telerik telerik-grid telerik-mvc',\n 'coldfusion cfml coldfusion cfquery cfqueryparam',\n 'ios objective-c xcode storyboard xib',\n 'c++ c mocking java-native-interface cunit',\n 'php symfony session xmlhttprequest symfony',\n 'c# email smtp dkim domainkeys',\n 'apache python .x ubuntu mod-wsgi apxs',\n 'wpf data-binding treeview contextmenu hierarchicaldatatemplate',\n '.net api soap w c w c-validation',\n 'python html qt reportviewer qpainter',\n 'php laravel email queue laravel',\n 'java database hibernate jpa localization',\n 'python django navigation wagtail wagtail-snippet',\n 'php html mysql database pdo',\n 'c# asp.net -mvc validation customvalidator validationattribute',\n 'javascript jquery html css twitter-bootstrap',\n 'jquery html forms input pattern-matching',\n 'c# .net user-interface datagridview datatable',\n 'java multithreading arraylist collections brute-force',\n 'reactjs react-router relay relaymodern react-relay',\n 'c# .net propertygrid paint uitypeeditor',\n 'ruby-on-rails gem bundler bcrypt bcrypt-ruby',\n 'c# log net app-config log net-configuration log net-appender',\n 'javascript node.js reactjs webpack ecmascript',\n 'typo fluid extbase typo .x typo .x',\n 'javascript java selenium phantomjs ghostdriver',\n 'javascript jquery arrays function jquery-isotope',\n 'python debian setuptools nose cdbs',\n 'opengl-es glsl shader opengl-es fragment-shader',\n 'php session codeigniter arrays variables',\n '.net azure apache-kafka bitnami confluent-platform',\n 'android ios swift flutter onesignal',\n 'python machine-learning tensorflow anaconda jupyter-notebook',\n 'javascript jquery jquery-ui heroku autocomplete',\n 'wpf listview collections wpf-controls observablecollection',\n 'iphone objective-c cocoa-touch interface-builder uiwebview',\n 'google-app-engine ssl google-cloud-platform google-compute-engine mautic',\n 'android xml android-studio lint text-size',\n 'asp.net session variables controls wizard',\n 'android wcf ios odata odata j',\n 'php zend-framework checkbox zend-form zend-decorators',\n 'php node.js reactjs performance v js',\n 'python git heroku pip requirements.txt',\n 'java selenium dynamic webdriver elements',\n 'java sql-server hibernate jpa jboss',\n 'python numpy matplotlib data-visualization axis-labels',\n 'python apache-spark dataframe pyspark apache-spark-sql',\n 'spring mongodb spring-data gridfs spring-data-mongodb',\n 'linux git ubuntu github ssh',\n 'c++ regex qt cross-platform filenames',\n 'css text layout cross-browser truncate',\n 'javascript firebase firebase-realtime-database angular angularfire',\n 'c networking interop system endianness',\n 'html css firefox safari cross-browser',\n 'javascript extjs sencha-touch css-transforms pinchzoom',\n 'c# image bitmap crop picturebox',\n 'android ios flutter dialog customdialog',\n 'iphone objective-c events uibutton class-method',\n 'c# exception code-contracts throw invariants',\n 'ios uitableview uiview nsmutablearray uilabel',\n 'java header annotations retrofit retrofit',\n 'ios objective-c uitableview uicollectionview uicollectionviewcell',\n 'c# .net wpf database linq-to-sql',\n 'azure asp.net -core .net -core azure-sql-database azure-web-app-service',\n 'objective-c iphone cocoa-touch core-graphics image-manipulation',\n '.net wpf triggers datatrigger stackpanel',\n 'c# xamarin xamarin.android xamarin.forms ping',\n 'java events swing keyboard java-native-interface',\n 'java spring email heroku gmail',\n 'c++ stl iterator gdb dbx',\n 'ios objective-c memory-management automatic-ref-counting objective-c-blocks',\n 'django nginx websocket gunicorn uvicorn',\n 'php arrays json laravel base',\n 'android android-layout android-listview textview imageview',\n 'java spring jackson jax-rs resteasy',\n 'javascript mysql arrays json post',\n 'javascript angularjs json smarty loading',\n 'javascript jquery html load lazy-loading',\n 'sql database data-structures nosql photo-gallery',\n '.net sql linq-to-sql transactions read-uncommitted',\n 'ruby-on-rails streaming mount samba smb',\n 'angular typescript api angular angular -json-schema-form',\n 'jenkins input jenkins-pipeline jenkins-plugins pipeline',\n 'c# multithreading intel-mkl mathnet-numerics openblas',\n 'docker visual-studio-code docker-compose dockerfile docker-machine',\n 'c# azure azure-active-directory dynamics-crm multi-factor-authentication',\n 'android android-constraintlayout android-architecture-components android-snackbar android-motionlayout',\n 'javascript properties document tibco spotfire',\n 'c# sharepoint moss rpc file-upload',\n 'c# sql linq linq-to-entities sql-like',\n 'c# .net ssis decimal numeric',\n 'javascript jquery canvas svg fabricjs',\n 'javascript c# jquery html asp.net',\n 'javascript jquery html charts chart.js',\n 'ruby arrays variables methods arguments',\n 'c# wpf data-binding mvvm dependency-properties',\n 'java spring spring-mvc spring-data spring-web',\n 'javascript node.js express grpc grpc-node',\n 'ios objective-c uitableview core-data nsfetchedresultscontroller',\n 'python qt qt pyqt pyqt',\n '.net asp.net -core .net -core asp.net -core netcoreapp',\n 'cross-platform air desktop-application packaging xulrunner',\n 'sql-server tsql backup variables filenames',\n 'c character scanf getchar getc',\n 'firebase flutter dart firebase-realtime-database google-cloud-firestore',\n 'android android-ndk java-native-interface android-library native-code',\n 'android eclipse adt workspace eclipse-adt',\n 'c# .net webresponse getresponse lockup',\n 'java maven logging log j aspectj',\n 'javascript ruby-on-rails ruby-on-rails recaptcha turbolinks',\n 'iphone multithreading listview callback notifications',\n 'ios arrays swift functional-programming reduce',\n 'mysql sql database group-by distinct',\n 'javascript reactjs react-native checkbox ecmascript',\n 'java swing jframe awt jfilechooser',\n 'c# wpf datetime combobox datepicker',\n 'node.js typescript npm yarnpkg yarn-workspaces',\n 'google-app-engine load-balancing google-compute-engine google-cloud-endpoints google-cloud-platform',\n 'java python rabbitmq celery celery-task',\n 'javascript html node.js image amazon-s',\n 'c struct padding atomic compare-and-swap',\n 'c structure printf status unions',\n 'javascript excel angular file js-xlsx',\n 'javascript jquery twitter-bootstrap twitter-bootstrap bootstrap-typeahead',\n 'php mysql excel save ob-start',\n 'javascript node.js webpack babeljs transpiler',\n 'javascript jquery ruby-on-rails ruby-on-rails rubygems',\n 'matlab image-processing signal-processing histogram contrast',\n 'emacs clojure slime aquamacs paredit',\n 'c# wpf xaml dll build-error',\n 'android performance android-studio android-volley retrofit',\n 'wordpress csv comments export-to-csv posts',\n 'xml loops powershell batch-file replace',\n 'c# pdf fonts pdfsharp migradoc',\n 'r api curl rcurl httr',\n 'css reference compilation sass zurb-foundation',\n 'c++ class templates c++ member',\n 'java mysql sql spring jdbctemplate',\n 'java spring-boot hibernate jpa connection-pooling',\n 'apache-flex actionscript datagrid mxml itemrenderer',\n 'java android xml string resources',\n 'javascript python django angularjs angularjs-routing',\n 'python gtk cairo gtk pango',\n 'reactjs material-ui accessibility screen-readers nvda',\n '.net .net -core azure-devops mono docker-image',\n 'c# .net encryption mono cryptography',\n 'java spring pagination spring-data spring-restcontroller',\n 'javascript jquery html wordpress drop-down-menu',\n 'java opengl jogl lwjgl frustum',\n 'c# .net wpf xaml combobox',\n 'javascript jquery html css radio-button',\n 'machine-learning scikit-learn data-mining deep-learning data-analysis',\n 'java sql database sqlite query-performance',\n 'sql sql-server tsql sql-delete duplicate-data',\n 'python text parameters scikit-learn classification',\n 'javascript php html yii yii',\n 'angularjs forms angular-ui-router angularjs-validation ng-messages',\n 'javascript node.js html video electron',\n 'xml xslt xslt xslt transformation',\n 'python django loops django-templates closures',\n 'php mysql file mp format',\n 'javascript android html cordova html-framework',\n 'flutter dart if-statement conditional-statements openweathermap',\n 'c eclipse gcc mingw warnings',\n 'javascript jquery jquery-ui autocomplete jquery-autocomplete',\n 'c# asp.net -core .net -core windows-services asp.net -core',\n 'c++ c macros c-preprocessor stringification',\n 'c++ c networking unix ntp',\n 'ios html cookies local-storage ios',\n 'c# asp.net asp.net -mvc email asp.net -mvc',\n 'amazon-web-services aws-lambda amazon-ecs serverless aws-fargate',\n 'javascript google-chrome firefox soap cors',\n 'css osgi wicket httpservice static-content',\n 'android intellij-idea dependencies gradle android-studio',\n 'jquery user-interface dialog tabs confirm',\n 'python python encoding character-encoding beautifulsoup',\n 'javascript jquery html ajax playframework',\n 'ios xcode macos ios-simulator osx-mavericks',\n 'javascript jquery css background background-image',\n 'openerp onchange odoo invoice accounting',\n 'algorithm optimization hashtable performance solid-state-drive',\n 'c# .net string performance optimization',\n 'python function math symbols sign',\n 'javascript performance google-analytics tracking web-traffic',\n 'javascript angularjs angular expression detection',\n 'nhibernate session dependency-injection components ioc-container',\n 'ios objective-c metaclass objective-c-runtime objective-c-category',\n 'c# wpf xaml listview icons',\n 'javascript c# jquery asp.net security',\n 'c++ arrays c++ complextype valarray',\n 'c# .net c++ windows-mobile winapi',\n 'vue.js bootstrap progress-bar reactive-programming dashboard',\n 'javascript string printing integer biginteger',\n 'c++ include game-engine glfw glew',\n 'asp.net -ajax asp.net cassini intranet ultidev',\n 'c# gps photo exif xmp',\n 'c++ c++ move move-semantics move-constructor',\n 'node.js mongodb express mongoose mongoose-schema',\n 'python .x loops testing input mocking',\n 'c# model-view-controller unity-container repository-pattern unit-of-work',\n 'c# asp.net dynamic attributes web-controls',\n 'node.js session express connect cors',\n 'java tomcat jboss websocket vert.x',\n 'android migration android-support-library androidx android-jetifier',\n '.net vb.net regex string formatting',\n 'javascript php html mysql date',\n 'python regex string search data-structures',\n 'c# asp.net security .net blogengine.net',\n 'c++ c visual-studio msbuild driver',\n 'php apache file upload symfony',\n 'django postgresql azure azure-blob-storage azure-cdn',\n 'java mysql jsp servlets netbeans',\n 'java android delphi class delphi-xe',\n 'asp.net nhibernate rhino-commons rhino-tools unitofworkapplication',\n 'iphone email provisioning signing keychain',\n 'java tomcat web-applications junit cxf',\n 'sql sql-server architecture logging cdc',\n 'xcode macos linker linker-errors freetype',\n 'r shiny progress-bar ipc future',\n 'ios xcode swift nsdatecomponents localnotification',\n 'wpf testing path canvas hit',\n 'c++ windows -universal c++-cx thread-local-storage wack',\n 'javascript node.js typescript promise es -promise',\n 'image deployment kubernetes record history',\n 'python pandas csv header header-row',\n 'android android-intent android-activity camera startactivityforresult',\n 'iphone file atomic corruption stdio',\n 'javascript excel csv sharepoint xlsx',\n 'node.js ethereum solidity web web js',\n 'ruby-on-rails hosting rubygems passenger dreamhost',\n 'python r pyspark data.table pyspark-sql',\n 'sql sql-server indexing primary-key clustered-index',\n 'c# .net unity d generics type-conversion',\n 'javascript html jquery css swiper.js',\n 'php mysql database laravel connection',\n 'java android sql sqlite android-room',\n 'java mysql hibernate jpa cascade',\n 'refactoring ibm-midrange agile rpgle agile-processes',\n 'javascript jquery asp.net asp.net -mvc razor',\n 'jsf tree custom-component jsf naming-containers',\n 'python import module package parent',\n 'java eclipse eclipse-plugin bdd qaf',\n 'search language-agnostic geometry fuzzy-search space-partitioning',\n 'ios push-notification firebase google-cloud-messaging firebase-cloud-messaging',\n 'php smarty prestashop jquery-select prestashop',\n 'jquery jquery-mobile cordova scroll scrollview',\n 'c++ tree operating-system filesystems inode',\n 'c# foreach datatable sqldataadapter openform',\n 'ios objective-c nsmutablearray nsorderedset nsmutableorderedset',\n 'c++ templates syntax operators operator-overloading',\n 'python image numpy matplotlib scipy',\n 'java android kotlin observable rx-java',\n 'image subdirectory backwards-compatibility mediastore android',\n 'html css textarea scrollbar overflow',\n 'javascript node.js facebook facebook-graph-api messenger',\n 'android xml kotlin xml-parsing custom-controls',\n 'java c++ interpolation spline cubic',\n 'java javafx data-binding javafx javafx',\n 'c# methods interface parameter-passing interface-implementation',\n 'apache-spark apache-spark-sql hbase batch-processing amazon-emr',\n 'java sql oracle mybatis ibatis',\n 'python django django-models django-forms django-templates',\n 'java security http encryption man-in-the-middle',\n 'python file flask werkzeug os.path',\n 'java json mongodb jersey jackson',\n 'android android-activity widget android-intent android-pendingintent',\n 'json spring rest jpa jakarta-ee',\n 'php wordpress woocommerce coupon shipping-method',\n 'ruby-on-rails ruby rspec rspec-rails rspec',\n 'c# .net graphics directx d',\n 'haskell functional-programming recursion lisp scheme',\n 'javascript json node.js angularjs gruntjs',\n 'c# forms post web checkbox',\n 'ios objective-c iphone ocr tesseract',\n 'java redirect https httpurlconnection http-redirect',\n 'javascript jquery select reset sumoselect.js',\n 'java android multithreading rx-java reactive-programming',\n 'c# entity-framework-core amazon-rds database-migration github-actions',\n 'javascript html css salesforce visualforce',\n 'python sql database search performance',\n 'mysql ruby-on-rails date time timezone',\n 'c# xml xpath namespaces selectsinglenode',\n 'python datetime pandas reshape melt',\n 'c# video directx directshow media',\n '.net asp.net web-services xsd asmx',\n 'arrays matlab performance matrix matrix-indexing',\n 'c# xml xml-namespaces xmldocument prefix',\n 'java jakarta-ee jboss-arquillian wildfly wildfly-swarm',\n 'java sockets client-server chat serversocket',\n 'c++ class oop static field',\n 'c++ multithreading c++ output stdthread',\n 'php mysql solr lucene search-engine',\n 'r gis spatial r-raster terra',\n 'ios xcode github gitignore cocoapods',\n 'c# arrays list generics findall',\n 'javascript arrays json multidimensional-array grouping',\n 'c# sql linq sql-server linq-to-sql',\n 'c algorithm signals microcontroller trigonometry',\n 'css asp.net -mvc iis font-face font-awesome',\n 'android database sqlite android-studio android-sqlite',\n 'javascript reactjs react-router microsoft-graph-api msal',\n 'python django json google-maps markerclusterer',\n '.net deployment connection-string sql-server-express app-config',\n 'ios swift image widget widgetkit',\n 'oracle plsql tail-recursion intermediate-language tail-call-optimization',\n 'python file mp duplicates id',\n 'c# asp.net -mvc cookies action httpcookie',\n 'c# azure mqtt hmac azure-iot-hub',\n 'javascript algorithm statistics probability statistics-bootstrap',\n 'linux development-environment debian freebsd archlinux',\n 'python fortran windows anaconda f py',\n 'php mysql sql database web-development-server',\n 'java android decompiling recompile apktool',\n 'java javascript jquery ajax gwt',\n 'python .x bash docker alias singularity-container',\n 'scala eclipse-plugin osgi eclipse-rcp lift',\n 'asp.net tdd dependency-injection mocking persistence',\n 'javascript jquery arrays string html-table',\n 'html r xpath web-scraping scrape',\n 'c++ gcc constructor copy-constructor implicit-conversion',\n 'html ios iphone email html-email',\n 'actionscript garbage-collection object for-loop multidimensional-array',\n 'c# .net security fxcop code-access-security',\n 'java apache-spark encoding utf bigdata',\n 'java spring spring-boot localization thymeleaf',\n 'jakarta-ee jax-rs jwt-auth microprofile payara-micro',\n 'msbuild nuget teamcity continuous-deployment .net -standard',\n 'c# asp.net -mvc entity-framework ef-code-first entity-framework-migrations',\n 'django unicode ascii matching approximate',\n 'c unix header-files standard-library libc',\n 'django python .x django-models django-rest-framework django-views',\n 'json angular lodash angular json-server',\n 'c++ c++ vector stl embedded',\n 'jquery html css twitter-bootstrap jqgrid',\n 'algorithm hash hashtable pearson perfect-hash',\n '.net mysql installation compilation mysql-connector',\n 'iphone ios ipad ios abpersonviewcontroller',\n 'blackberry java-me themes blackberry-simulator lwuit',\n 'javascript jquery html jsp datatables',\n 'apache-flex silverlight asynchronous javafx fluent-interface',\n 'windows visual-studio visual-studio windows platform',\n 'c# .net winforms listview textbox',\n 'php jquery ajax loops append',\n 'r distance latitude-longitude spatial geosphere',\n 'html vb.net internet-explorer download filestream',\n 'c linux apache cgi libc',\n 'c# image-processing fft convolution ifft',\n 'php arrays laravel collections array-merge',\n 'javascript html reactjs react-native highcharts',\n 'javascript html image-processing html -canvas computer-vision',\n 'java text-files javafx classloader relative-path',\n 'postgresql memory centos centos postgresql',\n 'javascript node.js json typescript web-worker',\n 'c# nhibernate concurrency transactions optimistic-concurrency',\n 'c# azure compression httpclient gzip',\n 'c++ c embedded clock omap',\n 'iphone objective-c uinavigationcontroller stack nsmutablearray',\n 'c# .net console-application system.diagnostics getfileversion',\n 'c# asp.net asp.net -mvc asp.net -mvc request-timed-out',\n 'c++ error-handling int overflow detection',\n 'python numpy python-c-api intel-mkl python-c-extension',\n 'javascript php jquery html recaptcha',\n 'c# .net wpf xaml triggers',\n 'linux fedora rpm yum package-managers',\n 'java eclipse maven jar maven-jar-plugin',\n 'html ios autolayout uilabel nsattributedstring',\n 'python string floating-point floating-accuracy ieee',\n 'oracle plsql insert bulkinsert forall',\n 'android html css xml android-layout',\n 'c# database sqlite windows-phone nosql',\n 'jquery debugging internet-explorer replace clone',\n 'c++ python math count entropy',\n 'javascript jquery css parallax bxslider',\n 'node.js sqlite express utf hindi',\n 'node.js angular mongodb express mean-stack',\n 'python multithreading locking wait task-queue',\n 'flash actionscript arrays casting flash-cs',\n 'php json laravel laravel json-api',\n 'java spring session spring-boot repository',\n 'c# asp.net xml .net csv',\n 'eclipse apache-flex debugging flex flexbuilder',\n 'javascript asynchronous async-await promise ecmascript',\n 'ios objective-c uiwebview user-agent nsmutableurlrequest',\n 'java xml security xml-validation owasp',\n 'c select exec fork pipe',\n 'javascript jquery html dom events',\n 'javascript php mysql post video',\n 'java spring spring-boot http spring-ws',\n 'android view android-fragments onclick onclicklistener',\n 'ios iphone uinavigationbar uisearchbar uisearchdisplaycontroller',\n 'java android device android -pie hardware-programming',\n 'python datetime timezone utc pytz',\n 'java android certificate ssl-certificate keystore',\n 'javascript jquery dom jquery-plugins qtip',\n 'javascript c# jquery asp.net ajax',\n 'java multithreading concurrency executorservice futuretask',\n 'swift swiftui textfield formatter observableobject',\n 'javascript html css checkbox font-awesome',\n 'reactjs redux cors axios slack-api',\n 'ios objective-c image macos core-graphics',\n '.net windows vb.net winforms namespaces',\n 'c loops linux-kernel network-programming udp',\n 'ruby-on-rails ruby activerecord relational-database has-one',\n 'linux operating-system kernel bsd osdev',\n 'ios swift core-graphics uibezierpath mkoverlay',\n 'objective-c macos animation d maya',\n 'c# wpf multithreading dispatcher postmessage',\n 'linux multithreading embedded gdb pthreads',\n 'sql sql-server function stored-procedures sql-update',\n 'typo typo .x tx-news typo -extensions tx-gridelements',\n 'javascript jquery html json angularjs',\n 'android arm reverse-engineering elf apk',\n 'javascript css list scroll ionic-framework',\n 'java hibernate jpa persistence openjpa',\n 'c++ class inline forward-declaration circular-dependency',\n 'objective-c unicode keyboard character emoji',\n 'angular nginx kubernetes angular asp.net -core-webapi',\n 'c# .net winforms visual-studio rhino-licensing',\n '.net exception c++-cli destructor raii',\n 'ios iphone objective-c xcode ipad',\n 'css button text height font-size',\n 'php unicode utf character-encoding latin',\n 'css npm fonts font-awesome font-awesome',\n 'ios swift xcode file app-distribution',\n 'terraform kubernetes-helm nginx-ingress azure-aks terraform-provider-azure',\n 'android xml android-manifest manifest samsung-mobile',\n 'angularjs search angular filter pipe',\n 'unit-testing python .x flask contextmanager flask-testing',\n 'python python .x for-loop global-variables global',\n 'java session servlets kml google-earth',\n 'angular typescript rxjs angular-material frontend',\n 'c# sql .net entity-framework entity-framework-migrations',\n '.net xml xslt transform scope',\n 'c timer interrupt iar',\n 'if-statement filter powerbi dax slicers',\n 'c# .net linux mono storage',\n 'firebase navigation flutter analytics init',\n 'r dataframe character numeric transpose',\n 'php mysql arrays json foreach',\n '.net javascript aes rijndaelmanaged pbkdf',\n 'javascript ajax post file-upload extjs',\n 'selenium cucumber screenshot scenarios selenide',\n 'c# performance testing webclient load-testing',\n 'c# .net xml visual-studio xml-serialization',\n 'python sockets linux-kernel kernel-module netlink',\n 'r dataframe subset slice data-analysis',\n 'java security ssl keystore jks',\n 'rest events microservices event-driven saga',\n 'objective-c ipad ios uisplitviewcontroller navigationbar',\n 'android android-layout material-design android-cardview material-components-android',\n 'android kotlin kotlin-coroutines kotlin-flow android-ktx',\n 'java rest spring-boot jpa jpql',\n 'java spring unit-testing spring-boot mockito',\n 'reactjs redux react-redux electron redux-persist',\n 'windows redirect batch-file if-statement string',\n 'cmake embedded-linux yocto bitbake build-system',\n 'angularjs unit-testing jasmine karma-jasmine angular-mock',\n 'windows delphi components system-tray trayicon',\n 'tensorflow keras conv-neural-network pytorch image-segmentation',\n 'mysql ruby-on-rails activerecord ruby-on-rails mysql',\n 'java c++ c eclipse build',\n 'c# .net wpf enums converters',\n 'apache jboss wildfly virtualhost proxypass',\n 'ruby-on-rails ruby devise redis sidekiq',\n 'java android html email jakarta-mail',\n 'ruby-on-rails ruby git heroku activeadmin',\n 'php wordpress woocommerce cart hook-woocommerce',\n 'single-sign-on kerberos saml openam pingfederate',\n 'c# android asp.net web-services apk',\n 'android variables text widget textview',\n 'c server client polling unix-socket',\n 'php javascript jquery zend-framework ember.js',\n 'ios cocoa-touch uitableview uikit uiaccessibility',\n 'android audio android-fragments android-mediaplayer navigation-drawer',\n 'iphone ios objective-c ios sprite-kit',\n 'c# winforms profile corruption user-config',\n 'javascript php jquery html ajax',\n 'linux linux-kernel interrupt scheduler multicore',\n 'java xml rest post content-disposition',\n 'javascript html ios accessibility voiceover',\n 'javascript jquery html ajax http-post',\n 'java eclipse servlets jakarta-ee eclipse-plugin',\n 'javascript jquery html popup fancybox',\n 'yii crud foreign-key-relationship drop-down-menu database-table',\n 'python c sockets buffer send',\n 'android android-layout android-intent android-listview android-fragments',\n 'c# nhibernate inheritance fluent-nhibernate fluent-nhibernate-mapping',\n 'c# sql json dynamic sqlkata',\n 'jquery validation forms variables textbox',\n 'java spring spring-boot akka kamon',\n 'javascript jquery google-maps jquery-plugins map',\n 'jenkins continuous-integration continuous-deployment jenkins-workflow jenkins-pipeline',\n 'c# linq entity-framework linq-to-entities entity-framework',\n 'reactjs webpack rollupjs code-splitting lerna',\n 'sql-server xml tsql xpath xquery-sql',\n 'ruby-on-rails ruby file-upload amazon-s carrierwave',\n 'java swing layout alignment boxlayout',\n 'c++ windows visual-c++ lan unc',\n 'c# .net performance boxing value-type',\n 'asp.net -mvc datetime data-annotations model-binding unobtrusive-validation',\n '.net wcf web-services certificate wshttpbinding',\n 'python apache-spark dataframe pyspark apache-spark-sql',\n 'visual-studio debugging dll configuration linker',\n 'c++ class multidimensional-array dynamic jagged-arrays',\n 'django routing path media admin',\n 'java registry licensing preferences truelicense',\n '.net jquery asp.net -mvc ajax model-binding',\n 'sql sql-server tsql sql-server view',\n 'r excel tidyr readr readxl',\n 'c++ object virtual declaration abstract',\n 'javascript node.js sharp multer-s imagemin',\n 'c# .net windows security active-directory',\n 'java spring spring-boot junit mocking',\n 'java unit-testing spring integration-testing jdbctemplate',\n 'ios swift user-interface swiftui xcode',\n 'sql sql-server sql-server optimization join',\n 'php dom symfony domdocument web-crawler',\n 'java spring tomcat startup spring-java-config',\n 'c++ qt qt qt-creator qmake',\n 'jquery html css google-chrome twitter-bootstrap',\n 'php mysql laravel eloquent laravel-query-builder',\n 'qt ubuntu ssl embedded qt',\n 'c++ qt boost shared-ptr qobject',\n 'c++ multithreading x atomic compare-and-swap',\n 'java spring oracle jdbc hikaricp',\n 'java spring spring-boot junit spring-rest',\n 'delphi controls flicker delphi -seattle tpagecontrol',\n 'python regex language-agnostic string nlp',\n 'java combobox javafx javafx fxml',\n 'mysql security sql-injection ddos botnet',\n 'javascript image image-processing canvas computer-vision',\n 'c# xaml windows-phone windows-phone progress-bar',\n 'ajax jsf servlets tomcat url-mapping',\n 'android screen-orientation android-lifecycle oncreate android-orientation',\n 'html r url shiny leaflet',\n 'android android-layout button android-linearlayout padding',\n 'python web permissions flask jinja',\n 'javascript polymer polymer webfonts web-component',\n 'ios swift avplayer app-transport-security embedded-video',\n 'java networking serversocket portforwarding windows-firewall',\n 'javascript jquery html undefined referenceerror',\n 'html vue.js vuejs pre v-model',\n 'ubuntu x qt window-managers compiz',\n 'windows winapi unicode codepages fat',\n 'ios swift memory-leaks uisearchbar uisearchcontroller',\n 'node.js reactjs graphql relay react-router-relay',\n 'java maven cucumber bamboo x-ray',\n 'python .x web-scraping beautifulsoup ethereum innerhtml',\n 'java json api request response',\n 'android string split android-edittext android-textinputlayout',\n 'ios iphone objective-c uiview cagradientlayer',\n 'javascript html css typescript angular',\n 'java authentication certificate x certificate public-key-encryption',\n 'python for-loop nested bioinformatics dna-sequence',\n 'iphone memory sdk sqlite memory-leaks',\n 'c++ xcode macos linker-errors sfml',\n 'iphone core-data nstableview nsfetchedresultscontroller sectionheader',\n 'windows cmd alias conemu cmder',\n 'c ruby unix filesystems symlink',\n 'android firebase gradle android-gradle-plugin nativescript',\n 'php arrays image indexing href',\n 'authentication kotlin base sha ktor',\n 'javascript php jquery html css',\n 'asp.net updatepanel repeater accordion microsoft-ajax',\n 'javascript google-maps leaflet openstreetmap projection',\n 'reactjs google-chrome streaming http-live-streaming shaka',\n 'sql sql-server sql-server sql-server sql-server -r',\n 'vue.js vuex vuetify.js sortablejs vue-data-tables',\n 'string com mfc visual-c++ atl',\n 'android android-studio kotlin android-navigation android-jetpack',\n 'c# linq generics lambda linq-expressions',\n 'javascript import module export es -modules',\n 'php windows apache authentication sam',\n 'apache-flex actionscript flex cairngorm flexunit',\n 'objective-c iphone cocoa-touch uikit ipad',\n 'swift animation uiview scale alpha',\n 'javascript date timezone wso wso -esb',\n 'jquery asp.net css asp.net -mvc styles',\n 'c++ qt signals-slots plugin-architecture qtplugin',\n 'javascript jquery slider slideshow mousehover',\n 'selenium firefox protractor automated-tests karma-jasmine',\n 'java sockets udp package datagram',\n 'linux powershell ssh vagrant hyper-v',\n 'android android-studio installation android -marshmallow android-studio',\n 'java android ios iphone cryptography',\n 'java algorithm math java java-stream',\n 'ruby-on-rails ruby twitter-bootstrap placeholder slim-lang',\n 'java spring-mvc log j slf j websphere',\n 'javascript php jquery codeigniter sorting',\n 'c# wpf visual-studio tabcontrol tabitem',\n 'java jquery jsp file-upload struts',\n 'jquery replace this fadein fadeout',\n 'c# open-source mono jpeg html-to-jpeg',\n 'android ios reactjs progressive-web-apps onesignal',\n 'python django datetime serialization python-datetime',\n 'java spring jsf jakarta-ee java-ee',\n 'jsf events inheritance primefaces composite-component',\n 'java excel excel-formula apache-poi expression-evaluation',\n 'javascript php ajax wordpress woocommerce',\n 'javascript html mysql node.js ejs',\n 'c# android unity d udp broadcast',\n 'python loops pandas dataframe vectorization',\n 'matlab object image-processing matrix area',\n 'ajax asp.net -mvc jquery asp.net -mvc razor',\n 'iphone cocoa png core-graphics png',\n 'c# asp.net sql sql-server gridview',\n 'javascript c# asp.net -mvc rich-text-editor data-conversion',\n 'python mysql listbox tkinter mysql-python',\n 'java eclipse maven tomcat localhost',\n 'azure-storage azure-blob-storage parquet apache-drill azure-storage-files',\n 'iphone objective-c cocoa-touch ipad interface-builder',\n 'java arrays multidimensional-array copy deep-copy',\n 'java android random numbers generator',\n 'java hibernate jpa orm lazy-initialization',\n 'php image colors rgb hsv',\n 'java swing netbeans heap-memory jtextarea',\n 'mysql select if-statement set case',\n 'java jackson pojo dozer mapper',\n 'c++ arrays arduino avr progmem',\n 'javascript jquery html css wordpress',\n 'java content-management-system jackrabbit jcr sling',\n 'c# wpf mvvm binding avalonedit',\n 'c# .net wcf proxy datetimeoffset',\n 'mysql sql spring spring-boot spring-data-jpa',\n 'php mysql curl autoscaling horizontal-scaling',\n 'html css image styles size',\n 'javascript jquery html css sweetalert',\n 'emacs latex elisp folding auctex',\n 'php http variables curl header',\n 'android ssl proxy connection charles-proxy',\n 'ios swift drop-down-menu uibutton uinavigationbar',\n 'c# asp.net excel web-applications datatable',\n 'javascript php jquery wordpress foreach',\n 'r shiny format pivot-table shinyapps',\n 'javascript arrays prototype interceptor defineproperty',\n 'unit-testing junit java microservices spark-java',\n 'android ajax cordova cors cordova-plugins',\n 'php jquery security json sqlite',\n 'c# xml linq linq-to-xml frequency',\n 'jenkins deployment automation ansible travis-ci',\n 'java web-services jaxb wsdl wsimport',\n 'c# asp.net nhibernate interface asp.net',\n 'javascript angular angular angular-formly ngx-formly',\n 'php google-app-engine twitter localhost twitter-oauth',\n 'c++ sockets tcp pthreads beagleboneblack',\n 'python git heroku flask nltk',\n 'java reflection proxy classcastexception geotools',\n 'android facebook api oauth token',\n 'c# visual-studio windows-phone zooming scrollviewer',\n 'c++ qt qml qtquick qtquickcontrols',\n 'android database sqlite cursor clone',\n 'c# winforms log net richtextbox appender',\n 'css asp.net .net razor webgrid',\n 'javascript http-post spotify refresh-token insomnia',\n 'javascript testing selenium embedded-resource execute',\n 'python python machine-learning cluster-analysis k-means',\n 'django django-forms tags django-templates wagtail',\n 'c# sql-server powershell sqlcmd pshost',\n 'c# wpf xaml methods user-controls',\n 'javascript vue.js internationalization nuxt.js vue-i n',\n 'java android toolbar statusbar navigationview',\n '.net scalability upgrade vb -migration obsolete',\n 'iphone ios objective-c ipad uiwebview',\n 'java spring-boot networking proxy spring-boot-configuration',\n 'c# entity-framework windows-installer custom-action entity-framework-migrations',\n '.net performance collections list hash',\n 'java java-me authentication midp lcdui',\n 'delphi translation firemonkey listboxitem delphi-xe',\n 'java spring web-services spring-mvc soap',\n 'c# .net windows visual-c++ atl',\n 'jquery css function jquery-selectors addclass',\n 'c# javascript asp.net file-upload xmlhttprequest',\n 'sql sql-server function sql-server sql-server',\n 'file go text printing network-printers',\n 'r coordinates gis spatial raster',\n 'c++ arrays memory parameters arguments',\n 'python list lambda fuzzywuzzy partial-matches',\n 'java android gradle android-gradle-plugin build.gradle',\n 'php css wordpress image slider',\n 'ruby-on-rails ruby actionmailer jobs sidekiq',\n 'android imageview android-volley networkimageview scaletype',\n 'ruby-on-rails ruby linux http centos',\n 'php laravel laravel builder laravel',\n 'regex flex-lexer regex-lookarounds lexer jflex',\n 'c windows debugging cross-platform stack-trace',\n 'javascript php jquery ajax dialog',\n 'windows visual-studio sql-server windows-server remote-debugging',\n 'c# .net excel ms-word epplus',\n 'javascript html firefox browser tabs',\n 'java spring asynchronous timertask spring-scheduled',\n 'kubernetes certificate metrics rbac k s',\n 'c++ vim editor syntax-highlighting buffer',\n 'ruby-on-rails date localization internationalization ruby-on-rails',\n 'c# javascript asp.net post cross-domain',\n 'file assembly x dos tasm',\n 'visual-studio visual-studio windows iis-express visual-studio',\n 'python python .x multithreading queue deque',\n 'android broadcastreceiver android-service boot android-broadcast',\n 'javascript jquery html css nivo-slider',\n 'ios ipad ios uitextfield uiinterfaceorientation',\n 'iphone objective-c cocoa-touch uikit ipad',\n 'android cordova push-notification phonegap-plugins autostart',\n 'javascript jquery html promise jquery-deferred',\n 'web-services rest xml-rpc provider weather',\n 'python windows python windows sage',\n 'python keras reinforcement-learning openai-gym q-learning',\n 'reactjs heroku service-worker create-react-app heroku-cli',\n 'windows batch-file ssh telnet prompt',\n 'wpf web visualization entity-relationship diagram',\n 'python excel pyinstaller cx-freeze xlwings',\n 'sql tuples relational-algebra database-relations relational-model',\n 'ios objective-c react-native react-native-ios react-native-native-module',\n 'android integration-testing robolectric runtimeexception test-runner',\n 'java methods parent-child super display',\n 'c# ajax asp.net -web-api binding model-binding',\n 'windows datetime winapi operating-system posix',\n 'asp.net -mvc entity-framework view lambda viewmodel',\n 'networking routing vpn router portforwarding',\n 'android xaml xamarin.forms xamarin.android material-components-android',\n 'linux curl command-line wget api-key',\n 'java android eclipse emulation avd',\n 'java spring-boot jpa h polymorphic-associations',\n '.net vb.net winforms controls focus',\n 'python python .x user-interface tkinter background',\n 'unit-testing testing matlab tdd stub',\n 'python dictionary integer key sorting',\n '.net linq linq-to-sql dql documentum',\n 'firebase pipe streaming google-cloud-functions busboy',\n 'python excel pandas row matching',\n 'javascript html node.js charts flot',\n 'java android xml android-layout listview',\n 'python pandas dataframe pandas-groupby numeric',\n 'c# asp.net -core .net -core asp.net -core-webapi kestrel-http-server',\n 'groovy ant classloader groovy-grape taskdef',\n 'mysql sql if-statement phpmyadmin case-when',\n 'visual-studio bit bit setup-project installshield merge-module',\n 'r excel graph plot scatter-plot',\n 'php fonts pdf-generation tcpdf fpdf',\n 'c# loops variables undefined local',\n 'java android multithreading asynchronous android-service',\n 'python plugins multithreading teamcity sleep',\n 'c# xaml mvvm windows-phone popup',\n 'sql oracle oracle g where-clause date-arithmetic',\n 'java sql sql-server xml dom j',\n 'php unit-testing zend-framework testing phpunit',\n 'c# asp.net asp.net -mvc asp.net -core directory-traversal',\n 'python multithreading python .x parallel-processing multiprocessing',\n 'linux shell sed command xargs',\n 'events angular typescript promise eventemitter',\n 'java eclipse maven intellij-idea classpath',\n 'python python .x parallel-processing shared-memory python-multiprocessing',\n 'android linux shell exec jsch',\n 'ios objective-c xcode module frameworks',\n 'c# silverlight silverlight audio pcm',\n 'javascript jquery html asp.net asp.net -mvc',\n 'c# pdf itextsharp itext pdf-parsing',\n 'ios objective-c nsxmlparser nsxml nsxmlparserdelegate',\n 'javascript php ajax variables parameter-passing',\n 'git jenkins gitlab gitlab-ci drone.io',\n 'android macos android-studio android-sdk-tools android-sdk-manager',\n 'iphone ipad scroll ipod-touch google-forms',\n 'c++ c if-statement compilation switch-statement',\n 'mysql node.js docker docker-compose dockerfile',\n 'c# unity d animation trigonometry game-development',\n 'sql sql-server stored-procedures remote-server advantage-database-server',\n 'c++ postgresql double endianness libpq',\n 'jquery forms sharepoint drop-down-menu html-select',\n 'c# wpf windows-runtime windows-store-apps tcpclient',\n 'java rest spring-mvc spring-boot curl',\n 'c++ unicode visual-studio messagebox ansi',\n 'asp.net .net vb.net visual-studio runatserver',\n 'android listview templates android-activity webview',\n 'machine-learning nlp neural-network sentiment-analysis perceptron',\n 'c sockets udp winsock sendto',\n 'javascript jquery variables initialization global-variables',\n 'reactjs npm webpack build create-react-app',\n 'algorithm math matrix big-o time-complexity',\n 'css polymer polymer web-component shadow-dom',\n 'vb.net sockets networking tcp portforwarding',\n 'excel macos browser-cache office-addins office-js',\n 'swift png textures metal metalkit',\n 'python file-upload sftp paramiko pysftp',\n 'c# .net oop inheritance casting',\n 'python macos code-coverage virtualenv nosetests',\n 'node.js angular controller components angular',\n 'c# .net vb.net audio naudio',\n 'asp.net javascript performance internet-explorer telerik',\n 'python numpy matplotlib pyserial graphing',\n 'python pandas csv datatables combinations',\n 'javascript node.js express angular typescript',\n 'ios objective-c nsurlconnection social-framework slrequest',\n 'apache-flex flash flex adobe alchemy',\n 'python tsql python pyodbc django-pyodbc',\n 'matlab tree regression random-forest cart-analysis',\n 'java android xml android-fragments android-menu',\n 'java android eclipse android-studio build.gradle',\n 'c# asp.net asp.net -mvc asp.net -mvc razor',\n 'javascript runtime-error layer adobe-indesign extendscript',\n 'winapi ipc mutex fpc waitforsingleobject',\n 'jquery scroll hide effects show',\n 'python python .x google-chrome google-chrome-devtools chrome-devtools-protocol',\n 'javascript php jquery mysql wordpress',\n 'reactjs npm webpack next.js uglifyjs',\n 'java gradle intellij-idea libgdx lombok',\n 'python excel pandas merge glob',\n 'android text textfield android-jetpack android-jetpack-compose',\n 'node.js angularjs jasmine karma-runner jasmine-node',\n 'java python matlab machine-learning linear-algebra',\n 'ios video uiwebview youtube mpmovieplayercontroller',\n 'c# database linq save entity',\n 'javascript jquery ajax forms promise',\n 'swift generics bit-fields swift bitvector',\n 'php html function url page-title',\n 'java performance subset combinatorics lexicographic',\n 'android gradle dependencies android-library transitive-dependency',\n 'javascript jquery angularjs json angularjs-directive',\n 'java scala snmp snmp j scala-dispatch',\n 'http caching httpwebrequest http-status-codes cache-control',\n 'python numpy tensorflow keras scikit-image',\n 'iphone objective-c image transparency alpha',\n 'c# sockets networking remote-desktop rdp',\n 'java arrays swing button actionlistener',\n 'xamarin xamarin.ios xamarin.forms picker custom-renderer',\n 'c gcc gdb reverse-engineering buffer-overflow',\n 'firebase firebase-realtime-database android-recyclerview searchview firebaseui',\n 'javascript jquery asp.net jquery-ui repeater',\n 'sql postgresql gis rdbms postgis',\n 'javascript printing html -canvas imagick dpi',\n 'vba visual-studio debugging com catia',\n 'node.js image pdf pdfkit cover',\n 'python api token openstack xauth',\n 'amazon-web-services lambda redis localhost econnrefused',\n 'java sorting jsp struts struts -jquery',\n 'python theano pymc pymc arviz',\n 'dll visual-studio xamarin.android xamarin.forms object-model',\n 'php jquery ajax apache nginx',\n 'java android firebase google-cloud-firestore android-paging',\n 'php mysql oracle zend-framework zend-db',\n 'python sql database random sqlalchemy',\n 'calendar exchange-server http-status-code webdav exchange-server',\n 'c# .net multithreading concurrency concurrentdictionary',\n 'sql-server linq entity-framework linq-to-entities ienumerable',\n 'python ruby cocoa pyobjc ruby-cocoa',\n 'mysql database database-design orm combinations',\n 'ios objective-c uitableview memory-management admob',\n 'java spring spring-boot spring-security cors',\n 'google-apps-script google-admin-sdk google-directory-api google-groups-api google-groups-migration',\n 'c++ function reference prototype overloading',\n 'c# azure .net -core azure-webjobs azure-webjobssdk',\n 'ruby sinatra passenger rack dreamhost',\n 'regex regex-negation regex-lookarounds regex-group regex-greedy',\n 'java spring-boot junit pact micronaut',\n 'c# asp.net gridview controls edititemtemplate',\n 'scala akka typesafe typesafe-config hocon',\n 'java android xml android-layout ratingbar',\n 'python ruby-on-rails heroku web-scraping scrapy',\n 'file ubuntu process load output',\n 'angular typescript pagination server-side ag-grid-angular',\n 'xcode macos kernel-extension xcrun notarize',\n 'javascript c# .net sharepoint sharepoint',\n '.net xml delphi xsd schema',\n 'javascript php jquery html mysql',\n 'java android google-maps permissions location',\n 'css angular angular-material angular angular-material',\n 'c# .net web-services code-generation t',\n 'javascript node.js express filesaver.js js-xlsx',\n 'qt reflection metadata classname qmetaobject',\n 'javascript excel date activex format',\n 'c# .net unicode f# character-entities',\n 'c# linq generics c# reflection',\n 'android bluetooth-lowenergy wireshark uart sniffer',\n 'javascript reactjs asynchronous react-redux redux-thunk',\n 'php html css google-api screenshot',\n 'linux linker g++ sdl pkg-config',\n 'c# generics events delegates constraints',\n 'c++ pointers vector copy object-slicing',\n 'python amazon-web-services amazon-dynamodb aws-lambda alexa-skills-kit',\n 'javascript vue.js dom vuejs html-framework',\n 'python asynchronous python .x wsgi tornado',\n 'ios swift google-maps google-maps-api google-maps-markers',\n 'sql database tsql reporting-services flowchart',\n 'javascript arrays regex performance regex-group',\n 'c++ multithreading boost boost-thread boost-mutex',\n 'ios objective-c uiwebview youtube-api uiwebviewdelegate',\n 'html css bootstrap tabs angular',\n 'reactjs macos react-native mobile ssid',\n 'python json dictionary eval abstract-syntax-tree',\n 'java android jar path apk',\n 'javascript jquery json parsing dynamic',\n 'javascript reactjs onclick onkeypress googleplacesautocomplete',\n 'c++ windows visual-studio winapi common-controls',\n 'javascript jquery xml json format-conversion',\n 'mysql database mariadb innodb bufferpool',\n 'php laravel amazon-web-services amazon-sqs jobs',\n 'c# .net linq-to-sql inheritance lambda',\n 'ios xcode shadow scenekit scnlight',\n 'javascript function loops math ember.js',\n 'web save document scripting store',\n 'c debugging dll gcc mingw',\n 'c++ build makefile scons subdirectory',\n 'c# .net outlook-addin ribbon-control winforms-interop',\n 'java algorithm graph-algorithm minimum-spanning-tree kruskals-algorithm',\n 'android button user-interface position screen',\n 'python amazon-web-services http elasticsearch aws-lambda',\n 'python parsing selenium-webdriver phantomjs multiprocessing',\n 'php html css tags knapsack-problem',\n 'javascript php getjson urlencode decodeuricomponent',\n 'angular go encryption aes cryptojs',\n 'python gis netcdf matplotlib-basemap netcdf',\n 'python django django-templates request referrer',\n 'jquery scripting png external animated',\n 'python excel pywin autosize vba',\n 'linux apache tomcat centos mod-jk',\n 'php magento csv tree categories',\n 'c# performance text stream csv',\n 'sql database sybase query-optimization database-optimization',\n 'python sentiment-analysis wordnet pos-tagger data-augmentation',\n 'android json kotlin gson data-class',\n 'javascript css dynamic refresh element',\n 'unit-testing google-chrome ionic karma-runner isparta',\n 'c# .net visual-studio visual-studio visual-studio',\n 'java javascript jquery tomcat jsf',\n 'python python ipython ipython-notebook zipline',\n 'matlab machine-learning cluster-analysis scatter-plot optics-algorithm',\n 'c# security active-directory security-roles iprincipal',\n 'php postgresql floating-point doctrine integer',\n 'java spring spring-boot rest http-delete',\n 'iphone sdk speech-recognition arabic speech-to-text',\n 'javascript html css reactjs twitter-bootstrap',\n 'reactjs typescript react-hooks material-ui mui-datatable',\n 'java web-services jakarta-ee glassfish jax-ws',\n 'ios swift uikit swiftui xcode',\n 'eclipse maven aspectj spring-roo aspectj-maven-plugin',\n 'c++ cuda parallel-processing gpu gpgpu',\n 'c# .net image gdi+ colormatrix',\n 'scala aws-sdk emr amazon-emr elastic-map-reduce',\n 'c# asp.net dll custom-controls ascx',\n 'php actionscript zend-framework bytearray amf',\n 'android android-contentresolver mediastore android-external-storage android',\n 'java rest postman protocol-buffers dhclient',\n 'c# json web-services rest asp.net -web-api',\n 'c# sql-server nhibernate ado.net transactions',\n 'java compare character ascii diacritics',\n 'php sql session e-commerce cart',\n 'github https dns github-pages dnsmasq',\n 'twitter-bootstrap gulp laravel font-awesome laravel-elixir',\n '.net vb.net visual-studio coordinates rectangles',\n 'c# linq gridview join bind',\n 'javascript jquery events drag-and-drop jquery-ui-sortable',\n 'jquery elixir phoenix-framework node.js -client phoenix-channels',\n 'c++ class function map macros',\n 'java json rest jackson spring-rest',\n 'c++ c visual-c++ c++ initialization',\n 'jsp servlets jpa model-view-controller ejb',\n 'php http rest iis laravel',\n '.net database sqlite odbc c++-cli',\n 'javascript php jquery ajax forms',\n 'android retrofit retrofit kotlin-coroutines retrofit',\n 'linux drive hard-drive dd computer-forensics',\n 'sql date timestamp where-clause database-agnostic',\n 'c# xaml binding combobox textbox',\n 'html ruby-on-rails xml nginx ruby-on-rails',\n 'python dictionary type-hinting mypy python-typing',\n 'c# asp.net -mvc asp.net -mvc razor razorengine',\n 'ios xcode swift alamofire code-signing',\n 'spring spring-boot properties yaml lombok',\n 'python image opencv image-processing text',\n 'php javascript jquery ajax dhtml',\n 'ruby-on-rails ruby code-generation types customization',\n 'c# linq-to-sql repository domain-driven-design design-patterns',\n 'java timeout weblogic transactions jta',\n 'c opencv struct common-lisp cffi',\n '.net events focus keydown tabindex',\n 'javascript node.js server-side nodemailer serverside-javascript',\n 'php laravel logging permissions monolog',\n 'java spring-boot spring-cloud netflix-eureka spring-cloud-gateway',\n 'android android-studio gradle adb stetho',\n 'sql tsql sql-server view sql-order-by',\n 'java swt dispose eclipse-gef draw d',\n 'sqlite cordova angular transactions ionic',\n ...]"
     },
     "execution_count": 16,
     "metadata": {},
     "output_type": "execute_result"
    }
   ],
   "source": [
    "y_train = list(train['Tags'])\n",
    "y_train"
   ],
   "metadata": {
    "collapsed": false,
    "pycharm": {
     "name": "#%%\n"
    }
   }
  },
  {
   "cell_type": "markdown",
   "source": [
    "### 1. Approche FIT on TITTLE + BODY and TRANSFORM on TITLE + BODY"
   ],
   "metadata": {
    "collapsed": false,
    "pycharm": {
     "name": "#%% md\n"
    }
   }
  },
  {
   "cell_type": "code",
   "execution_count": 19,
   "outputs": [],
   "source": [
    "vectorizer_1 = CountVectorizer(\n",
    "    lowercase=False,\n",
    "    analyzer='word',\n",
    "    min_df=3,\n",
    "    max_df= 0.90,\n",
    "    token_pattern= r'[a-zA_\\-+#]*\\.?[a-zA_\\+#]+',\n",
    "    )\n",
    "matrix_train_1 = vectorizer_1.fit_transform(list_title_body_train)"
   ],
   "metadata": {
    "collapsed": false,
    "pycharm": {
     "name": "#%%\n"
    }
   }
  },
  {
   "cell_type": "code",
   "execution_count": 20,
   "outputs": [],
   "source": [
    "matrix_test_1 = vectorizer_1.transform(list_title_body_test)"
   ],
   "metadata": {
    "collapsed": false,
    "pycharm": {
     "name": "#%%\n"
    }
   }
  },
  {
   "cell_type": "code",
   "execution_count": 21,
   "outputs": [
    {
     "data": {
      "text/plain": "<bound method CountVectorizer.get_feature_names of CountVectorizer(lowercase=False, max_df=0.9, min_df=3,\n                token_pattern='[a-zA_\\\\-+#]*\\\\.?[a-zA_\\\\+#]+')>"
     },
     "execution_count": 21,
     "metadata": {},
     "output_type": "execute_result"
    }
   ],
   "source": [
    "vectorizer_1.get_feature_names"
   ],
   "metadata": {
    "collapsed": false,
    "pycharm": {
     "name": "#%%\n"
    }
   }
  },
  {
   "cell_type": "code",
   "execution_count": 31,
   "outputs": [
    {
     "data": {
      "text/plain": "38095    experimented partition cardinality k k+ call p...\n36016    little experience jquery json great little tut...\n40355    parse certificate chain node http request test...\n33940    set keycloak server ldap user take advantage s...\n41708    achieve effect asp.net mvc jquery got drop lis...\n                               ...                        \n11284    version corda buildscript ext.corda_release_ve...\n44735    ffmpeg android several post theme non build ff...\n38161    javascript json jquery easy jsp contain drop l...\n860      spirit helpful solved installed redhat suse en...\n15796    always unresolved dependency showing android p...\nName: body_and_title_2, Length: 34997, dtype: object"
     },
     "execution_count": 31,
     "metadata": {},
     "output_type": "execute_result"
    }
   ],
   "source": [
    "train['body_and_title_2']"
   ],
   "metadata": {
    "collapsed": false,
    "pycharm": {
     "name": "#%%\n"
    }
   }
  },
  {
   "cell_type": "code",
   "execution_count": null,
   "outputs": [],
   "source": [],
   "metadata": {
    "collapsed": false,
    "pycharm": {
     "name": "#%%\n"
    }
   }
  },
  {
   "cell_type": "code",
   "execution_count": 10,
   "outputs": [
    {
     "data": {
      "text/plain": "(34997, 15503)"
     },
     "execution_count": 10,
     "metadata": {},
     "output_type": "execute_result"
    }
   ],
   "source": [
    "from sklearn.feature_extraction.text import CountVectorizer\n",
    "count_vect = CountVectorizer(\n",
    "    lowercase=False,\n",
    "    analyzer='word',\n",
    "    token_pattern= r'[a-zA_\\-+#]*\\.?[a-zA_\\+#]+'\n",
    ")\n",
    "y_train_counts = count_vect.fit_transform(train['Tags'])\n",
    "y_train_counts.shape"
   ],
   "metadata": {
    "collapsed": false,
    "pycharm": {
     "name": "#%%\n"
    }
   }
  },
  {
   "cell_type": "code",
   "execution_count": 17,
   "outputs": [
    {
     "data": {
      "text/plain": "(34997, 353163)"
     },
     "execution_count": 17,
     "metadata": {},
     "output_type": "execute_result"
    }
   ],
   "source": [
    "from sklearn.feature_extraction.text import CountVectorizer\n",
    "count_vect = CountVectorizer(\n",
    "    lowercase=False,\n",
    "    analyzer='word',\n",
    "    token_pattern= r'[a-zA_\\-+#]*\\.?[a-zA_\\+#]+'\n",
    ")\n",
    "X_train_counts = count_vect.fit_transform(train['body_and_title_2'])\n",
    "X_train_counts.shape"
   ],
   "metadata": {
    "collapsed": false,
    "pycharm": {
     "name": "#%%\n"
    }
   }
  },
  {
   "cell_type": "code",
   "execution_count": 30,
   "outputs": [
    {
     "data": {
      "text/plain": "<34997x353163 sparse matrix of type '<class 'numpy.int64'>'\n\twith 2080915 stored elements in Compressed Sparse Row format>"
     },
     "execution_count": 30,
     "metadata": {},
     "output_type": "execute_result"
    }
   ],
   "source": [
    "X_train_counts"
   ],
   "metadata": {
    "collapsed": false,
    "pycharm": {
     "name": "#%%\n"
    }
   }
  },
  {
   "cell_type": "code",
   "execution_count": 18,
   "outputs": [
    {
     "data": {
      "text/plain": "(34997, 353163)"
     },
     "execution_count": 18,
     "metadata": {},
     "output_type": "execute_result"
    }
   ],
   "source": [
    "tfidf_transformer = TfidfTransformer()\n",
    "X_train_tfidf = tfidf_transformer.fit_transform(X_train_counts)\n",
    "X_train_tfidf.shape"
   ],
   "metadata": {
    "collapsed": false,
    "pycharm": {
     "name": "#%%\n"
    }
   }
  },
  {
   "cell_type": "code",
   "execution_count": 32,
   "outputs": [
    {
     "data": {
      "text/plain": "<34997x353163 sparse matrix of type '<class 'numpy.float64'>'\n\twith 2080915 stored elements in Compressed Sparse Row format>"
     },
     "execution_count": 32,
     "metadata": {},
     "output_type": "execute_result"
    }
   ],
   "source": [
    "X_train_tfidf"
   ],
   "metadata": {
    "collapsed": false,
    "pycharm": {
     "name": "#%%\n"
    }
   }
  },
  {
   "cell_type": "code",
   "execution_count": null,
   "outputs": [],
   "source": [
    "from sklearn.naive_bayes import MultinomialNB\n",
    "clf = MultinomialNB().fit(X_train_tfidf,train['Tags'])"
   ],
   "metadata": {
    "collapsed": false,
    "pycharm": {
     "name": "#%%\n",
     "is_executing": true
    }
   }
  },
  {
   "cell_type": "code",
   "execution_count": 19,
   "outputs": [],
   "source": [
    "sgd = SGDClassifier(random_state=0,loss='log',alpha=0.01,penalty='elasticnet')\n",
    "lr = LogisticRegression(C=1.0)\n",
    "svc = SVC(kernel='linear')\n",
    "nb = MultinomialNB()"
   ],
   "metadata": {
    "collapsed": false,
    "pycharm": {
     "name": "#%%\n"
    }
   }
  },
  {
   "cell_type": "code",
   "execution_count": 21,
   "outputs": [
    {
     "data": {
      "text/plain": "['scala apache-spark distributed-computing k-means bigdata',\n 'c# jquery json datatables asp.net -mvc',\n 'node.js ssl https openssl tls',\n 'rest api postman keycloak put',\n 'asp.net jquery asp.net -mvc data-binding drop-down-menu',\n 'ruby class module constants class-method',\n 'python python .x windows jupyter-notebook python-multiprocessing',\n 'java jsf caching jboss pojo',\n 'ruby-on-rails ruby activerecord query-optimization constants',\n 'php database codeigniter ms-access odbc',\n 'angular npm angular-cli fork yarnpkg',\n 'javascript date filter google-apps-script filtering',\n 'php mysql laravel eloquent laravel',\n 'python arrays numpy lstm sliding-window',\n 'delphi delphi delphi datasnap delphi-xe',\n 'php regex unicode preg-match preg-match-all',\n 'java python xls jexcelapi hssf',\n 'linux perl process ipc pipe',\n 'python django json python serialization',\n 'ios iphone objective-c nsdictionary afnetworking',\n 'c# combobox telerik telerik-grid telerik-mvc',\n 'coldfusion cfml coldfusion cfquery cfqueryparam',\n 'ios objective-c xcode storyboard xib',\n 'c++ c mocking java-native-interface cunit',\n 'php symfony session xmlhttprequest symfony',\n 'c# email smtp dkim domainkeys',\n 'apache python .x ubuntu mod-wsgi apxs',\n 'wpf data-binding treeview contextmenu hierarchicaldatatemplate',\n '.net api soap w c w c-validation',\n 'python html qt reportviewer qpainter',\n 'php laravel email queue laravel',\n 'java database hibernate jpa localization',\n 'python django navigation wagtail wagtail-snippet',\n 'php html mysql database pdo',\n 'c# asp.net -mvc validation customvalidator validationattribute',\n 'javascript jquery html css twitter-bootstrap',\n 'jquery html forms input pattern-matching',\n 'c# .net user-interface datagridview datatable',\n 'java multithreading arraylist collections brute-force',\n 'reactjs react-router relay relaymodern react-relay',\n 'c# .net propertygrid paint uitypeeditor',\n 'ruby-on-rails gem bundler bcrypt bcrypt-ruby',\n 'c# log net app-config log net-configuration log net-appender',\n 'javascript node.js reactjs webpack ecmascript',\n 'typo fluid extbase typo .x typo .x',\n 'javascript java selenium phantomjs ghostdriver',\n 'javascript jquery arrays function jquery-isotope',\n 'python debian setuptools nose cdbs',\n 'opengl-es glsl shader opengl-es fragment-shader',\n 'php session codeigniter arrays variables',\n '.net azure apache-kafka bitnami confluent-platform',\n 'android ios swift flutter onesignal',\n 'python machine-learning tensorflow anaconda jupyter-notebook',\n 'javascript jquery jquery-ui heroku autocomplete',\n 'wpf listview collections wpf-controls observablecollection',\n 'iphone objective-c cocoa-touch interface-builder uiwebview',\n 'google-app-engine ssl google-cloud-platform google-compute-engine mautic',\n 'android xml android-studio lint text-size',\n 'asp.net session variables controls wizard',\n 'android wcf ios odata odata j',\n 'php zend-framework checkbox zend-form zend-decorators',\n 'php node.js reactjs performance v js',\n 'python git heroku pip requirements.txt',\n 'java selenium dynamic webdriver elements',\n 'java sql-server hibernate jpa jboss',\n 'python numpy matplotlib data-visualization axis-labels',\n 'python apache-spark dataframe pyspark apache-spark-sql',\n 'spring mongodb spring-data gridfs spring-data-mongodb',\n 'linux git ubuntu github ssh',\n 'c++ regex qt cross-platform filenames',\n 'css text layout cross-browser truncate',\n 'javascript firebase firebase-realtime-database angular angularfire',\n 'c networking interop system endianness',\n 'html css firefox safari cross-browser',\n 'javascript extjs sencha-touch css-transforms pinchzoom',\n 'c# image bitmap crop picturebox',\n 'android ios flutter dialog customdialog',\n 'iphone objective-c events uibutton class-method',\n 'c# exception code-contracts throw invariants',\n 'ios uitableview uiview nsmutablearray uilabel',\n 'java header annotations retrofit retrofit',\n 'ios objective-c uitableview uicollectionview uicollectionviewcell',\n 'c# .net wpf database linq-to-sql',\n 'azure asp.net -core .net -core azure-sql-database azure-web-app-service',\n 'objective-c iphone cocoa-touch core-graphics image-manipulation',\n '.net wpf triggers datatrigger stackpanel',\n 'c# xamarin xamarin.android xamarin.forms ping',\n 'java events swing keyboard java-native-interface',\n 'java spring email heroku gmail',\n 'c++ stl iterator gdb dbx',\n 'ios objective-c memory-management automatic-ref-counting objective-c-blocks',\n 'django nginx websocket gunicorn uvicorn',\n 'php arrays json laravel base',\n 'android android-layout android-listview textview imageview',\n 'java spring jackson jax-rs resteasy',\n 'javascript mysql arrays json post',\n 'javascript angularjs json smarty loading',\n 'javascript jquery html load lazy-loading',\n 'sql database data-structures nosql photo-gallery',\n '.net sql linq-to-sql transactions read-uncommitted',\n 'ruby-on-rails streaming mount samba smb',\n 'angular typescript api angular angular -json-schema-form',\n 'jenkins input jenkins-pipeline jenkins-plugins pipeline',\n 'c# multithreading intel-mkl mathnet-numerics openblas',\n 'docker visual-studio-code docker-compose dockerfile docker-machine',\n 'c# azure azure-active-directory dynamics-crm multi-factor-authentication',\n 'android android-constraintlayout android-architecture-components android-snackbar android-motionlayout',\n 'javascript properties document tibco spotfire',\n 'c# sharepoint moss rpc file-upload',\n 'c# sql linq linq-to-entities sql-like',\n 'c# .net ssis decimal numeric',\n 'javascript jquery canvas svg fabricjs',\n 'javascript c# jquery html asp.net',\n 'javascript jquery html charts chart.js',\n 'ruby arrays variables methods arguments',\n 'c# wpf data-binding mvvm dependency-properties',\n 'java spring spring-mvc spring-data spring-web',\n 'javascript node.js express grpc grpc-node',\n 'ios objective-c uitableview core-data nsfetchedresultscontroller',\n 'python qt qt pyqt pyqt',\n '.net asp.net -core .net -core asp.net -core netcoreapp',\n 'cross-platform air desktop-application packaging xulrunner',\n 'sql-server tsql backup variables filenames',\n 'c character scanf getchar getc',\n 'firebase flutter dart firebase-realtime-database google-cloud-firestore',\n 'android android-ndk java-native-interface android-library native-code',\n 'android eclipse adt workspace eclipse-adt',\n 'c# .net webresponse getresponse lockup',\n 'java maven logging log j aspectj',\n 'javascript ruby-on-rails ruby-on-rails recaptcha turbolinks',\n 'iphone multithreading listview callback notifications',\n 'ios arrays swift functional-programming reduce',\n 'mysql sql database group-by distinct',\n 'javascript reactjs react-native checkbox ecmascript',\n 'java swing jframe awt jfilechooser',\n 'c# wpf datetime combobox datepicker',\n 'node.js typescript npm yarnpkg yarn-workspaces',\n 'google-app-engine load-balancing google-compute-engine google-cloud-endpoints google-cloud-platform',\n 'java python rabbitmq celery celery-task',\n 'javascript html node.js image amazon-s',\n 'c struct padding atomic compare-and-swap',\n 'c structure printf status unions',\n 'javascript excel angular file js-xlsx',\n 'javascript jquery twitter-bootstrap twitter-bootstrap bootstrap-typeahead',\n 'php mysql excel save ob-start',\n 'javascript node.js webpack babeljs transpiler',\n 'javascript jquery ruby-on-rails ruby-on-rails rubygems',\n 'matlab image-processing signal-processing histogram contrast',\n 'emacs clojure slime aquamacs paredit',\n 'c# wpf xaml dll build-error',\n 'android performance android-studio android-volley retrofit',\n 'wordpress csv comments export-to-csv posts',\n 'xml loops powershell batch-file replace',\n 'c# pdf fonts pdfsharp migradoc',\n 'r api curl rcurl httr',\n 'css reference compilation sass zurb-foundation',\n 'c++ class templates c++ member',\n 'java mysql sql spring jdbctemplate',\n 'java spring-boot hibernate jpa connection-pooling',\n 'apache-flex actionscript datagrid mxml itemrenderer',\n 'java android xml string resources',\n 'javascript python django angularjs angularjs-routing',\n 'python gtk cairo gtk pango',\n 'reactjs material-ui accessibility screen-readers nvda',\n '.net .net -core azure-devops mono docker-image',\n 'c# .net encryption mono cryptography',\n 'java spring pagination spring-data spring-restcontroller',\n 'javascript jquery html wordpress drop-down-menu',\n 'java opengl jogl lwjgl frustum',\n 'c# .net wpf xaml combobox',\n 'javascript jquery html css radio-button',\n 'machine-learning scikit-learn data-mining deep-learning data-analysis',\n 'java sql database sqlite query-performance',\n 'sql sql-server tsql sql-delete duplicate-data',\n 'python text parameters scikit-learn classification',\n 'javascript php html yii yii',\n 'angularjs forms angular-ui-router angularjs-validation ng-messages',\n 'javascript node.js html video electron',\n 'xml xslt xslt xslt transformation',\n 'python django loops django-templates closures',\n 'php mysql file mp format',\n 'javascript android html cordova html-framework',\n 'flutter dart if-statement conditional-statements openweathermap',\n 'c eclipse gcc mingw warnings',\n 'javascript jquery jquery-ui autocomplete jquery-autocomplete',\n 'c# asp.net -core .net -core windows-services asp.net -core',\n 'c++ c macros c-preprocessor stringification',\n 'c++ c networking unix ntp',\n 'ios html cookies local-storage ios',\n 'c# asp.net asp.net -mvc email asp.net -mvc',\n 'amazon-web-services aws-lambda amazon-ecs serverless aws-fargate',\n 'javascript google-chrome firefox soap cors',\n 'css osgi wicket httpservice static-content',\n 'android intellij-idea dependencies gradle android-studio',\n 'jquery user-interface dialog tabs confirm',\n 'python python encoding character-encoding beautifulsoup',\n 'javascript jquery html ajax playframework',\n 'ios xcode macos ios-simulator osx-mavericks',\n 'javascript jquery css background background-image',\n 'openerp onchange odoo invoice accounting',\n 'algorithm optimization hashtable performance solid-state-drive',\n 'c# .net string performance optimization',\n 'python function math symbols sign',\n 'javascript performance google-analytics tracking web-traffic',\n 'javascript angularjs angular expression detection',\n 'nhibernate session dependency-injection components ioc-container',\n 'ios objective-c metaclass objective-c-runtime objective-c-category',\n 'c# wpf xaml listview icons',\n 'javascript c# jquery asp.net security',\n 'c++ arrays c++ complextype valarray',\n 'c# .net c++ windows-mobile winapi',\n 'vue.js bootstrap progress-bar reactive-programming dashboard',\n 'javascript string printing integer biginteger',\n 'c++ include game-engine glfw glew',\n 'asp.net -ajax asp.net cassini intranet ultidev',\n 'c# gps photo exif xmp',\n 'c++ c++ move move-semantics move-constructor',\n 'node.js mongodb express mongoose mongoose-schema',\n 'python .x loops testing input mocking',\n 'c# model-view-controller unity-container repository-pattern unit-of-work',\n 'c# asp.net dynamic attributes web-controls',\n 'node.js session express connect cors',\n 'java tomcat jboss websocket vert.x',\n 'android migration android-support-library androidx android-jetifier',\n '.net vb.net regex string formatting',\n 'javascript php html mysql date',\n 'python regex string search data-structures',\n 'c# asp.net security .net blogengine.net',\n 'c++ c visual-studio msbuild driver',\n 'php apache file upload symfony',\n 'django postgresql azure azure-blob-storage azure-cdn',\n 'java mysql jsp servlets netbeans',\n 'java android delphi class delphi-xe',\n 'asp.net nhibernate rhino-commons rhino-tools unitofworkapplication',\n 'iphone email provisioning signing keychain',\n 'java tomcat web-applications junit cxf',\n 'sql sql-server architecture logging cdc',\n 'xcode macos linker linker-errors freetype',\n 'r shiny progress-bar ipc future',\n 'ios xcode swift nsdatecomponents localnotification',\n 'wpf testing path canvas hit',\n 'c++ windows -universal c++-cx thread-local-storage wack',\n 'javascript node.js typescript promise es -promise',\n 'image deployment kubernetes record history',\n 'python pandas csv header header-row',\n 'android android-intent android-activity camera startactivityforresult',\n 'iphone file atomic corruption stdio',\n 'javascript excel csv sharepoint xlsx',\n 'node.js ethereum solidity web web js',\n 'ruby-on-rails hosting rubygems passenger dreamhost',\n 'python r pyspark data.table pyspark-sql',\n 'sql sql-server indexing primary-key clustered-index',\n 'c# .net unity d generics type-conversion',\n 'javascript html jquery css swiper.js',\n 'php mysql database laravel connection',\n 'java android sql sqlite android-room',\n 'java mysql hibernate jpa cascade',\n 'refactoring ibm-midrange agile rpgle agile-processes',\n 'javascript jquery asp.net asp.net -mvc razor',\n 'jsf tree custom-component jsf naming-containers',\n 'python import module package parent',\n 'java eclipse eclipse-plugin bdd qaf',\n 'search language-agnostic geometry fuzzy-search space-partitioning',\n 'ios push-notification firebase google-cloud-messaging firebase-cloud-messaging',\n 'php smarty prestashop jquery-select prestashop',\n 'jquery jquery-mobile cordova scroll scrollview',\n 'c++ tree operating-system filesystems inode',\n 'c# foreach datatable sqldataadapter openform',\n 'ios objective-c nsmutablearray nsorderedset nsmutableorderedset',\n 'c++ templates syntax operators operator-overloading',\n 'python image numpy matplotlib scipy',\n 'java android kotlin observable rx-java',\n 'image subdirectory backwards-compatibility mediastore android',\n 'html css textarea scrollbar overflow',\n 'javascript node.js facebook facebook-graph-api messenger',\n 'android xml kotlin xml-parsing custom-controls',\n 'java c++ interpolation spline cubic',\n 'java javafx data-binding javafx javafx',\n 'c# methods interface parameter-passing interface-implementation',\n 'apache-spark apache-spark-sql hbase batch-processing amazon-emr',\n 'java sql oracle mybatis ibatis',\n 'python django django-models django-forms django-templates',\n 'java security http encryption man-in-the-middle',\n 'python file flask werkzeug os.path',\n 'java json mongodb jersey jackson',\n 'android android-activity widget android-intent android-pendingintent',\n 'json spring rest jpa jakarta-ee',\n 'php wordpress woocommerce coupon shipping-method',\n 'ruby-on-rails ruby rspec rspec-rails rspec',\n 'c# .net graphics directx d',\n 'haskell functional-programming recursion lisp scheme',\n 'javascript json node.js angularjs gruntjs',\n 'c# forms post web checkbox',\n 'ios objective-c iphone ocr tesseract',\n 'java redirect https httpurlconnection http-redirect',\n 'javascript jquery select reset sumoselect.js',\n 'java android multithreading rx-java reactive-programming',\n 'c# entity-framework-core amazon-rds database-migration github-actions',\n 'javascript html css salesforce visualforce',\n 'python sql database search performance',\n 'mysql ruby-on-rails date time timezone',\n 'c# xml xpath namespaces selectsinglenode',\n 'python datetime pandas reshape melt',\n 'c# video directx directshow media',\n '.net asp.net web-services xsd asmx',\n 'arrays matlab performance matrix matrix-indexing',\n 'c# xml xml-namespaces xmldocument prefix',\n 'java jakarta-ee jboss-arquillian wildfly wildfly-swarm',\n 'java sockets client-server chat serversocket',\n 'c++ class oop static field',\n 'c++ multithreading c++ output stdthread',\n 'php mysql solr lucene search-engine',\n 'r gis spatial r-raster terra',\n 'ios xcode github gitignore cocoapods',\n 'c# arrays list generics findall',\n 'javascript arrays json multidimensional-array grouping',\n 'c# sql linq sql-server linq-to-sql',\n 'c algorithm signals microcontroller trigonometry',\n 'css asp.net -mvc iis font-face font-awesome',\n 'android database sqlite android-studio android-sqlite',\n 'javascript reactjs react-router microsoft-graph-api msal',\n 'python django json google-maps markerclusterer',\n '.net deployment connection-string sql-server-express app-config',\n 'ios swift image widget widgetkit',\n 'oracle plsql tail-recursion intermediate-language tail-call-optimization',\n 'python file mp duplicates id',\n 'c# asp.net -mvc cookies action httpcookie',\n 'c# azure mqtt hmac azure-iot-hub',\n 'javascript algorithm statistics probability statistics-bootstrap',\n 'linux development-environment debian freebsd archlinux',\n 'python fortran windows anaconda f py',\n 'php mysql sql database web-development-server',\n 'java android decompiling recompile apktool',\n 'java javascript jquery ajax gwt',\n 'python .x bash docker alias singularity-container',\n 'scala eclipse-plugin osgi eclipse-rcp lift',\n 'asp.net tdd dependency-injection mocking persistence',\n 'javascript jquery arrays string html-table',\n 'html r xpath web-scraping scrape',\n 'c++ gcc constructor copy-constructor implicit-conversion',\n 'html ios iphone email html-email',\n 'actionscript garbage-collection object for-loop multidimensional-array',\n 'c# .net security fxcop code-access-security',\n 'java apache-spark encoding utf bigdata',\n 'java spring spring-boot localization thymeleaf',\n 'jakarta-ee jax-rs jwt-auth microprofile payara-micro',\n 'msbuild nuget teamcity continuous-deployment .net -standard',\n 'c# asp.net -mvc entity-framework ef-code-first entity-framework-migrations',\n 'django unicode ascii matching approximate',\n 'c unix header-files standard-library libc',\n 'django python .x django-models django-rest-framework django-views',\n 'json angular lodash angular json-server',\n 'c++ c++ vector stl embedded',\n 'jquery html css twitter-bootstrap jqgrid',\n 'algorithm hash hashtable pearson perfect-hash',\n '.net mysql installation compilation mysql-connector',\n 'iphone ios ipad ios abpersonviewcontroller',\n 'blackberry java-me themes blackberry-simulator lwuit',\n 'javascript jquery html jsp datatables',\n 'apache-flex silverlight asynchronous javafx fluent-interface',\n 'windows visual-studio visual-studio windows platform',\n 'c# .net winforms listview textbox',\n 'php jquery ajax loops append',\n 'r distance latitude-longitude spatial geosphere',\n 'html vb.net internet-explorer download filestream',\n 'c linux apache cgi libc',\n 'c# image-processing fft convolution ifft',\n 'php arrays laravel collections array-merge',\n 'javascript html reactjs react-native highcharts',\n 'javascript html image-processing html -canvas computer-vision',\n 'java text-files javafx classloader relative-path',\n 'postgresql memory centos centos postgresql',\n 'javascript node.js json typescript web-worker',\n 'c# nhibernate concurrency transactions optimistic-concurrency',\n 'c# azure compression httpclient gzip',\n 'c++ c embedded clock omap',\n 'iphone objective-c uinavigationcontroller stack nsmutablearray',\n 'c# .net console-application system.diagnostics getfileversion',\n 'c# asp.net asp.net -mvc asp.net -mvc request-timed-out',\n 'c++ error-handling int overflow detection',\n 'python numpy python-c-api intel-mkl python-c-extension',\n 'javascript php jquery html recaptcha',\n 'c# .net wpf xaml triggers',\n 'linux fedora rpm yum package-managers',\n 'java eclipse maven jar maven-jar-plugin',\n 'html ios autolayout uilabel nsattributedstring',\n 'python string floating-point floating-accuracy ieee',\n 'oracle plsql insert bulkinsert forall',\n 'android html css xml android-layout',\n 'c# database sqlite windows-phone nosql',\n 'jquery debugging internet-explorer replace clone',\n 'c++ python math count entropy',\n 'javascript jquery css parallax bxslider',\n 'node.js sqlite express utf hindi',\n 'node.js angular mongodb express mean-stack',\n 'python multithreading locking wait task-queue',\n 'flash actionscript arrays casting flash-cs',\n 'php json laravel laravel json-api',\n 'java spring session spring-boot repository',\n 'c# asp.net xml .net csv',\n 'eclipse apache-flex debugging flex flexbuilder',\n 'javascript asynchronous async-await promise ecmascript',\n 'ios objective-c uiwebview user-agent nsmutableurlrequest',\n 'java xml security xml-validation owasp',\n 'c select exec fork pipe',\n 'javascript jquery html dom events',\n 'javascript php mysql post video',\n 'java spring spring-boot http spring-ws',\n 'android view android-fragments onclick onclicklistener',\n 'ios iphone uinavigationbar uisearchbar uisearchdisplaycontroller',\n 'java android device android -pie hardware-programming',\n 'python datetime timezone utc pytz',\n 'java android certificate ssl-certificate keystore',\n 'javascript jquery dom jquery-plugins qtip',\n 'javascript c# jquery asp.net ajax',\n 'java multithreading concurrency executorservice futuretask',\n 'swift swiftui textfield formatter observableobject',\n 'javascript html css checkbox font-awesome',\n 'reactjs redux cors axios slack-api',\n 'ios objective-c image macos core-graphics',\n '.net windows vb.net winforms namespaces',\n 'c loops linux-kernel network-programming udp',\n 'ruby-on-rails ruby activerecord relational-database has-one',\n 'linux operating-system kernel bsd osdev',\n 'ios swift core-graphics uibezierpath mkoverlay',\n 'objective-c macos animation d maya',\n 'c# wpf multithreading dispatcher postmessage',\n 'linux multithreading embedded gdb pthreads',\n 'sql sql-server function stored-procedures sql-update',\n 'typo typo .x tx-news typo -extensions tx-gridelements',\n 'javascript jquery html json angularjs',\n 'android arm reverse-engineering elf apk',\n 'javascript css list scroll ionic-framework',\n 'java hibernate jpa persistence openjpa',\n 'c++ class inline forward-declaration circular-dependency',\n 'objective-c unicode keyboard character emoji',\n 'angular nginx kubernetes angular asp.net -core-webapi',\n 'c# .net winforms visual-studio rhino-licensing',\n '.net exception c++-cli destructor raii',\n 'ios iphone objective-c xcode ipad',\n 'css button text height font-size',\n 'php unicode utf character-encoding latin',\n 'css npm fonts font-awesome font-awesome',\n 'ios swift xcode file app-distribution',\n 'terraform kubernetes-helm nginx-ingress azure-aks terraform-provider-azure',\n 'android xml android-manifest manifest samsung-mobile',\n 'angularjs search angular filter pipe',\n 'unit-testing python .x flask contextmanager flask-testing',\n 'python python .x for-loop global-variables global',\n 'java session servlets kml google-earth',\n 'angular typescript rxjs angular-material frontend',\n 'c# sql .net entity-framework entity-framework-migrations',\n '.net xml xslt transform scope',\n 'c timer interrupt iar',\n 'if-statement filter powerbi dax slicers',\n 'c# .net linux mono storage',\n 'firebase navigation flutter analytics init',\n 'r dataframe character numeric transpose',\n 'php mysql arrays json foreach',\n '.net javascript aes rijndaelmanaged pbkdf',\n 'javascript ajax post file-upload extjs',\n 'selenium cucumber screenshot scenarios selenide',\n 'c# performance testing webclient load-testing',\n 'c# .net xml visual-studio xml-serialization',\n 'python sockets linux-kernel kernel-module netlink',\n 'r dataframe subset slice data-analysis',\n 'java security ssl keystore jks',\n 'rest events microservices event-driven saga',\n 'objective-c ipad ios uisplitviewcontroller navigationbar',\n 'android android-layout material-design android-cardview material-components-android',\n 'android kotlin kotlin-coroutines kotlin-flow android-ktx',\n 'java rest spring-boot jpa jpql',\n 'java spring unit-testing spring-boot mockito',\n 'reactjs redux react-redux electron redux-persist',\n 'windows redirect batch-file if-statement string',\n 'cmake embedded-linux yocto bitbake build-system',\n 'angularjs unit-testing jasmine karma-jasmine angular-mock',\n 'windows delphi components system-tray trayicon',\n 'tensorflow keras conv-neural-network pytorch image-segmentation',\n 'mysql ruby-on-rails activerecord ruby-on-rails mysql',\n 'java c++ c eclipse build',\n 'c# .net wpf enums converters',\n 'apache jboss wildfly virtualhost proxypass',\n 'ruby-on-rails ruby devise redis sidekiq',\n 'java android html email jakarta-mail',\n 'ruby-on-rails ruby git heroku activeadmin',\n 'php wordpress woocommerce cart hook-woocommerce',\n 'single-sign-on kerberos saml openam pingfederate',\n 'c# android asp.net web-services apk',\n 'android variables text widget textview',\n 'c server client polling unix-socket',\n 'php javascript jquery zend-framework ember.js',\n 'ios cocoa-touch uitableview uikit uiaccessibility',\n 'android audio android-fragments android-mediaplayer navigation-drawer',\n 'iphone ios objective-c ios sprite-kit',\n 'c# winforms profile corruption user-config',\n 'javascript php jquery html ajax',\n 'linux linux-kernel interrupt scheduler multicore',\n 'java xml rest post content-disposition',\n 'javascript html ios accessibility voiceover',\n 'javascript jquery html ajax http-post',\n 'java eclipse servlets jakarta-ee eclipse-plugin',\n 'javascript jquery html popup fancybox',\n 'yii crud foreign-key-relationship drop-down-menu database-table',\n 'python c sockets buffer send',\n 'android android-layout android-intent android-listview android-fragments',\n 'c# nhibernate inheritance fluent-nhibernate fluent-nhibernate-mapping',\n 'c# sql json dynamic sqlkata',\n 'jquery validation forms variables textbox',\n 'java spring spring-boot akka kamon',\n 'javascript jquery google-maps jquery-plugins map',\n 'jenkins continuous-integration continuous-deployment jenkins-workflow jenkins-pipeline',\n 'c# linq entity-framework linq-to-entities entity-framework',\n 'reactjs webpack rollupjs code-splitting lerna',\n 'sql-server xml tsql xpath xquery-sql',\n 'ruby-on-rails ruby file-upload amazon-s carrierwave',\n 'java swing layout alignment boxlayout',\n 'c++ windows visual-c++ lan unc',\n 'c# .net performance boxing value-type',\n 'asp.net -mvc datetime data-annotations model-binding unobtrusive-validation',\n '.net wcf web-services certificate wshttpbinding',\n 'python apache-spark dataframe pyspark apache-spark-sql',\n 'visual-studio debugging dll configuration linker',\n 'c++ class multidimensional-array dynamic jagged-arrays',\n 'django routing path media admin',\n 'java registry licensing preferences truelicense',\n '.net jquery asp.net -mvc ajax model-binding',\n 'sql sql-server tsql sql-server view',\n 'r excel tidyr readr readxl',\n 'c++ object virtual declaration abstract',\n 'javascript node.js sharp multer-s imagemin',\n 'c# .net windows security active-directory',\n 'java spring spring-boot junit mocking',\n 'java unit-testing spring integration-testing jdbctemplate',\n 'ios swift user-interface swiftui xcode',\n 'sql sql-server sql-server optimization join',\n 'php dom symfony domdocument web-crawler',\n 'java spring tomcat startup spring-java-config',\n 'c++ qt qt qt-creator qmake',\n 'jquery html css google-chrome twitter-bootstrap',\n 'php mysql laravel eloquent laravel-query-builder',\n 'qt ubuntu ssl embedded qt',\n 'c++ qt boost shared-ptr qobject',\n 'c++ multithreading x atomic compare-and-swap',\n 'java spring oracle jdbc hikaricp',\n 'java spring spring-boot junit spring-rest',\n 'delphi controls flicker delphi -seattle tpagecontrol',\n 'python regex language-agnostic string nlp',\n 'java combobox javafx javafx fxml',\n 'mysql security sql-injection ddos botnet',\n 'javascript image image-processing canvas computer-vision',\n 'c# xaml windows-phone windows-phone progress-bar',\n 'ajax jsf servlets tomcat url-mapping',\n 'android screen-orientation android-lifecycle oncreate android-orientation',\n 'html r url shiny leaflet',\n 'android android-layout button android-linearlayout padding',\n 'python web permissions flask jinja',\n 'javascript polymer polymer webfonts web-component',\n 'ios swift avplayer app-transport-security embedded-video',\n 'java networking serversocket portforwarding windows-firewall',\n 'javascript jquery html undefined referenceerror',\n 'html vue.js vuejs pre v-model',\n 'ubuntu x qt window-managers compiz',\n 'windows winapi unicode codepages fat',\n 'ios swift memory-leaks uisearchbar uisearchcontroller',\n 'node.js reactjs graphql relay react-router-relay',\n 'java maven cucumber bamboo x-ray',\n 'python .x web-scraping beautifulsoup ethereum innerhtml',\n 'java json api request response',\n 'android string split android-edittext android-textinputlayout',\n 'ios iphone objective-c uiview cagradientlayer',\n 'javascript html css typescript angular',\n 'java authentication certificate x certificate public-key-encryption',\n 'python for-loop nested bioinformatics dna-sequence',\n 'iphone memory sdk sqlite memory-leaks',\n 'c++ xcode macos linker-errors sfml',\n 'iphone core-data nstableview nsfetchedresultscontroller sectionheader',\n 'windows cmd alias conemu cmder',\n 'c ruby unix filesystems symlink',\n 'android firebase gradle android-gradle-plugin nativescript',\n 'php arrays image indexing href',\n 'authentication kotlin base sha ktor',\n 'javascript php jquery html css',\n 'asp.net updatepanel repeater accordion microsoft-ajax',\n 'javascript google-maps leaflet openstreetmap projection',\n 'reactjs google-chrome streaming http-live-streaming shaka',\n 'sql sql-server sql-server sql-server sql-server -r',\n 'vue.js vuex vuetify.js sortablejs vue-data-tables',\n 'string com mfc visual-c++ atl',\n 'android android-studio kotlin android-navigation android-jetpack',\n 'c# linq generics lambda linq-expressions',\n 'javascript import module export es -modules',\n 'php windows apache authentication sam',\n 'apache-flex actionscript flex cairngorm flexunit',\n 'objective-c iphone cocoa-touch uikit ipad',\n 'swift animation uiview scale alpha',\n 'javascript date timezone wso wso -esb',\n 'jquery asp.net css asp.net -mvc styles',\n 'c++ qt signals-slots plugin-architecture qtplugin',\n 'javascript jquery slider slideshow mousehover',\n 'selenium firefox protractor automated-tests karma-jasmine',\n 'java sockets udp package datagram',\n 'linux powershell ssh vagrant hyper-v',\n 'android android-studio installation android -marshmallow android-studio',\n 'java android ios iphone cryptography',\n 'java algorithm math java java-stream',\n 'ruby-on-rails ruby twitter-bootstrap placeholder slim-lang',\n 'java spring-mvc log j slf j websphere',\n 'javascript php jquery codeigniter sorting',\n 'c# wpf visual-studio tabcontrol tabitem',\n 'java jquery jsp file-upload struts',\n 'jquery replace this fadein fadeout',\n 'c# open-source mono jpeg html-to-jpeg',\n 'android ios reactjs progressive-web-apps onesignal',\n 'python django datetime serialization python-datetime',\n 'java spring jsf jakarta-ee java-ee',\n 'jsf events inheritance primefaces composite-component',\n 'java excel excel-formula apache-poi expression-evaluation',\n 'javascript php ajax wordpress woocommerce',\n 'javascript html mysql node.js ejs',\n 'c# android unity d udp broadcast',\n 'python loops pandas dataframe vectorization',\n 'matlab object image-processing matrix area',\n 'ajax asp.net -mvc jquery asp.net -mvc razor',\n 'iphone cocoa png core-graphics png',\n 'c# asp.net sql sql-server gridview',\n 'javascript c# asp.net -mvc rich-text-editor data-conversion',\n 'python mysql listbox tkinter mysql-python',\n 'java eclipse maven tomcat localhost',\n 'azure-storage azure-blob-storage parquet apache-drill azure-storage-files',\n 'iphone objective-c cocoa-touch ipad interface-builder',\n 'java arrays multidimensional-array copy deep-copy',\n 'java android random numbers generator',\n 'java hibernate jpa orm lazy-initialization',\n 'php image colors rgb hsv',\n 'java swing netbeans heap-memory jtextarea',\n 'mysql select if-statement set case',\n 'java jackson pojo dozer mapper',\n 'c++ arrays arduino avr progmem',\n 'javascript jquery html css wordpress',\n 'java content-management-system jackrabbit jcr sling',\n 'c# wpf mvvm binding avalonedit',\n 'c# .net wcf proxy datetimeoffset',\n 'mysql sql spring spring-boot spring-data-jpa',\n 'php mysql curl autoscaling horizontal-scaling',\n 'html css image styles size',\n 'javascript jquery html css sweetalert',\n 'emacs latex elisp folding auctex',\n 'php http variables curl header',\n 'android ssl proxy connection charles-proxy',\n 'ios swift drop-down-menu uibutton uinavigationbar',\n 'c# asp.net excel web-applications datatable',\n 'javascript php jquery wordpress foreach',\n 'r shiny format pivot-table shinyapps',\n 'javascript arrays prototype interceptor defineproperty',\n 'unit-testing junit java microservices spark-java',\n 'android ajax cordova cors cordova-plugins',\n 'php jquery security json sqlite',\n 'c# xml linq linq-to-xml frequency',\n 'jenkins deployment automation ansible travis-ci',\n 'java web-services jaxb wsdl wsimport',\n 'c# asp.net nhibernate interface asp.net',\n 'javascript angular angular angular-formly ngx-formly',\n 'php google-app-engine twitter localhost twitter-oauth',\n 'c++ sockets tcp pthreads beagleboneblack',\n 'python git heroku flask nltk',\n 'java reflection proxy classcastexception geotools',\n 'android facebook api oauth token',\n 'c# visual-studio windows-phone zooming scrollviewer',\n 'c++ qt qml qtquick qtquickcontrols',\n 'android database sqlite cursor clone',\n 'c# winforms log net richtextbox appender',\n 'css asp.net .net razor webgrid',\n 'javascript http-post spotify refresh-token insomnia',\n 'javascript testing selenium embedded-resource execute',\n 'python python machine-learning cluster-analysis k-means',\n 'django django-forms tags django-templates wagtail',\n 'c# sql-server powershell sqlcmd pshost',\n 'c# wpf xaml methods user-controls',\n 'javascript vue.js internationalization nuxt.js vue-i n',\n 'java android toolbar statusbar navigationview',\n '.net scalability upgrade vb -migration obsolete',\n 'iphone ios objective-c ipad uiwebview',\n 'java spring-boot networking proxy spring-boot-configuration',\n 'c# entity-framework windows-installer custom-action entity-framework-migrations',\n '.net performance collections list hash',\n 'java java-me authentication midp lcdui',\n 'delphi translation firemonkey listboxitem delphi-xe',\n 'java spring web-services spring-mvc soap',\n 'c# .net windows visual-c++ atl',\n 'jquery css function jquery-selectors addclass',\n 'c# javascript asp.net file-upload xmlhttprequest',\n 'sql sql-server function sql-server sql-server',\n 'file go text printing network-printers',\n 'r coordinates gis spatial raster',\n 'c++ arrays memory parameters arguments',\n 'python list lambda fuzzywuzzy partial-matches',\n 'java android gradle android-gradle-plugin build.gradle',\n 'php css wordpress image slider',\n 'ruby-on-rails ruby actionmailer jobs sidekiq',\n 'android imageview android-volley networkimageview scaletype',\n 'ruby-on-rails ruby linux http centos',\n 'php laravel laravel builder laravel',\n 'regex flex-lexer regex-lookarounds lexer jflex',\n 'c windows debugging cross-platform stack-trace',\n 'javascript php jquery ajax dialog',\n 'windows visual-studio sql-server windows-server remote-debugging',\n 'c# .net excel ms-word epplus',\n 'javascript html firefox browser tabs',\n 'java spring asynchronous timertask spring-scheduled',\n 'kubernetes certificate metrics rbac k s',\n 'c++ vim editor syntax-highlighting buffer',\n 'ruby-on-rails date localization internationalization ruby-on-rails',\n 'c# javascript asp.net post cross-domain',\n 'file assembly x dos tasm',\n 'visual-studio visual-studio windows iis-express visual-studio',\n 'python python .x multithreading queue deque',\n 'android broadcastreceiver android-service boot android-broadcast',\n 'javascript jquery html css nivo-slider',\n 'ios ipad ios uitextfield uiinterfaceorientation',\n 'iphone objective-c cocoa-touch uikit ipad',\n 'android cordova push-notification phonegap-plugins autostart',\n 'javascript jquery html promise jquery-deferred',\n 'web-services rest xml-rpc provider weather',\n 'python windows python windows sage',\n 'python keras reinforcement-learning openai-gym q-learning',\n 'reactjs heroku service-worker create-react-app heroku-cli',\n 'windows batch-file ssh telnet prompt',\n 'wpf web visualization entity-relationship diagram',\n 'python excel pyinstaller cx-freeze xlwings',\n 'sql tuples relational-algebra database-relations relational-model',\n 'ios objective-c react-native react-native-ios react-native-native-module',\n 'android integration-testing robolectric runtimeexception test-runner',\n 'java methods parent-child super display',\n 'c# ajax asp.net -web-api binding model-binding',\n 'windows datetime winapi operating-system posix',\n 'asp.net -mvc entity-framework view lambda viewmodel',\n 'networking routing vpn router portforwarding',\n 'android xaml xamarin.forms xamarin.android material-components-android',\n 'linux curl command-line wget api-key',\n 'java android eclipse emulation avd',\n 'java spring-boot jpa h polymorphic-associations',\n '.net vb.net winforms controls focus',\n 'python python .x user-interface tkinter background',\n 'unit-testing testing matlab tdd stub',\n 'python dictionary integer key sorting',\n '.net linq linq-to-sql dql documentum',\n 'firebase pipe streaming google-cloud-functions busboy',\n 'python excel pandas row matching',\n 'javascript html node.js charts flot',\n 'java android xml android-layout listview',\n 'python pandas dataframe pandas-groupby numeric',\n 'c# asp.net -core .net -core asp.net -core-webapi kestrel-http-server',\n 'groovy ant classloader groovy-grape taskdef',\n 'mysql sql if-statement phpmyadmin case-when',\n 'visual-studio bit bit setup-project installshield merge-module',\n 'r excel graph plot scatter-plot',\n 'php fonts pdf-generation tcpdf fpdf',\n 'c# loops variables undefined local',\n 'java android multithreading asynchronous android-service',\n 'python plugins multithreading teamcity sleep',\n 'c# xaml mvvm windows-phone popup',\n 'sql oracle oracle g where-clause date-arithmetic',\n 'java sql sql-server xml dom j',\n 'php unit-testing zend-framework testing phpunit',\n 'c# asp.net asp.net -mvc asp.net -core directory-traversal',\n 'python multithreading python .x parallel-processing multiprocessing',\n 'linux shell sed command xargs',\n 'events angular typescript promise eventemitter',\n 'java eclipse maven intellij-idea classpath',\n 'python python .x parallel-processing shared-memory python-multiprocessing',\n 'android linux shell exec jsch',\n 'ios objective-c xcode module frameworks',\n 'c# silverlight silverlight audio pcm',\n 'javascript jquery html asp.net asp.net -mvc',\n 'c# pdf itextsharp itext pdf-parsing',\n 'ios objective-c nsxmlparser nsxml nsxmlparserdelegate',\n 'javascript php ajax variables parameter-passing',\n 'git jenkins gitlab gitlab-ci drone.io',\n 'android macos android-studio android-sdk-tools android-sdk-manager',\n 'iphone ipad scroll ipod-touch google-forms',\n 'c++ c if-statement compilation switch-statement',\n 'mysql node.js docker docker-compose dockerfile',\n 'c# unity d animation trigonometry game-development',\n 'sql sql-server stored-procedures remote-server advantage-database-server',\n 'c++ postgresql double endianness libpq',\n 'jquery forms sharepoint drop-down-menu html-select',\n 'c# wpf windows-runtime windows-store-apps tcpclient',\n 'java rest spring-mvc spring-boot curl',\n 'c++ unicode visual-studio messagebox ansi',\n 'asp.net .net vb.net visual-studio runatserver',\n 'android listview templates android-activity webview',\n 'machine-learning nlp neural-network sentiment-analysis perceptron',\n 'c sockets udp winsock sendto',\n 'javascript jquery variables initialization global-variables',\n 'reactjs npm webpack build create-react-app',\n 'algorithm math matrix big-o time-complexity',\n 'css polymer polymer web-component shadow-dom',\n 'vb.net sockets networking tcp portforwarding',\n 'excel macos browser-cache office-addins office-js',\n 'swift png textures metal metalkit',\n 'python file-upload sftp paramiko pysftp',\n 'c# .net oop inheritance casting',\n 'python macos code-coverage virtualenv nosetests',\n 'node.js angular controller components angular',\n 'c# .net vb.net audio naudio',\n 'asp.net javascript performance internet-explorer telerik',\n 'python numpy matplotlib pyserial graphing',\n 'python pandas csv datatables combinations',\n 'javascript node.js express angular typescript',\n 'ios objective-c nsurlconnection social-framework slrequest',\n 'apache-flex flash flex adobe alchemy',\n 'python tsql python pyodbc django-pyodbc',\n 'matlab tree regression random-forest cart-analysis',\n 'java android xml android-fragments android-menu',\n 'java android eclipse android-studio build.gradle',\n 'c# asp.net asp.net -mvc asp.net -mvc razor',\n 'javascript runtime-error layer adobe-indesign extendscript',\n 'winapi ipc mutex fpc waitforsingleobject',\n 'jquery scroll hide effects show',\n 'python python .x google-chrome google-chrome-devtools chrome-devtools-protocol',\n 'javascript php jquery mysql wordpress',\n 'reactjs npm webpack next.js uglifyjs',\n 'java gradle intellij-idea libgdx lombok',\n 'python excel pandas merge glob',\n 'android text textfield android-jetpack android-jetpack-compose',\n 'node.js angularjs jasmine karma-runner jasmine-node',\n 'java python matlab machine-learning linear-algebra',\n 'ios video uiwebview youtube mpmovieplayercontroller',\n 'c# database linq save entity',\n 'javascript jquery ajax forms promise',\n 'swift generics bit-fields swift bitvector',\n 'php html function url page-title',\n 'java performance subset combinatorics lexicographic',\n 'android gradle dependencies android-library transitive-dependency',\n 'javascript jquery angularjs json angularjs-directive',\n 'java scala snmp snmp j scala-dispatch',\n 'http caching httpwebrequest http-status-codes cache-control',\n 'python numpy tensorflow keras scikit-image',\n 'iphone objective-c image transparency alpha',\n 'c# sockets networking remote-desktop rdp',\n 'java arrays swing button actionlistener',\n 'xamarin xamarin.ios xamarin.forms picker custom-renderer',\n 'c gcc gdb reverse-engineering buffer-overflow',\n 'firebase firebase-realtime-database android-recyclerview searchview firebaseui',\n 'javascript jquery asp.net jquery-ui repeater',\n 'sql postgresql gis rdbms postgis',\n 'javascript printing html -canvas imagick dpi',\n 'vba visual-studio debugging com catia',\n 'node.js image pdf pdfkit cover',\n 'python api token openstack xauth',\n 'amazon-web-services lambda redis localhost econnrefused',\n 'java sorting jsp struts struts -jquery',\n 'python theano pymc pymc arviz',\n 'dll visual-studio xamarin.android xamarin.forms object-model',\n 'php jquery ajax apache nginx',\n 'java android firebase google-cloud-firestore android-paging',\n 'php mysql oracle zend-framework zend-db',\n 'python sql database random sqlalchemy',\n 'calendar exchange-server http-status-code webdav exchange-server',\n 'c# .net multithreading concurrency concurrentdictionary',\n 'sql-server linq entity-framework linq-to-entities ienumerable',\n 'python ruby cocoa pyobjc ruby-cocoa',\n 'mysql database database-design orm combinations',\n 'ios objective-c uitableview memory-management admob',\n 'java spring spring-boot spring-security cors',\n 'google-apps-script google-admin-sdk google-directory-api google-groups-api google-groups-migration',\n 'c++ function reference prototype overloading',\n 'c# azure .net -core azure-webjobs azure-webjobssdk',\n 'ruby sinatra passenger rack dreamhost',\n 'regex regex-negation regex-lookarounds regex-group regex-greedy',\n 'java spring-boot junit pact micronaut',\n 'c# asp.net gridview controls edititemtemplate',\n 'scala akka typesafe typesafe-config hocon',\n 'java android xml android-layout ratingbar',\n 'python ruby-on-rails heroku web-scraping scrapy',\n 'file ubuntu process load output',\n 'angular typescript pagination server-side ag-grid-angular',\n 'xcode macos kernel-extension xcrun notarize',\n 'javascript c# .net sharepoint sharepoint',\n '.net xml delphi xsd schema',\n 'javascript php jquery html mysql',\n 'java android google-maps permissions location',\n 'css angular angular-material angular angular-material',\n 'c# .net web-services code-generation t',\n 'javascript node.js express filesaver.js js-xlsx',\n 'qt reflection metadata classname qmetaobject',\n 'javascript excel date activex format',\n 'c# .net unicode f# character-entities',\n 'c# linq generics c# reflection',\n 'android bluetooth-lowenergy wireshark uart sniffer',\n 'javascript reactjs asynchronous react-redux redux-thunk',\n 'php html css google-api screenshot',\n 'linux linker g++ sdl pkg-config',\n 'c# generics events delegates constraints',\n 'c++ pointers vector copy object-slicing',\n 'python amazon-web-services amazon-dynamodb aws-lambda alexa-skills-kit',\n 'javascript vue.js dom vuejs html-framework',\n 'python asynchronous python .x wsgi tornado',\n 'ios swift google-maps google-maps-api google-maps-markers',\n 'sql database tsql reporting-services flowchart',\n 'javascript arrays regex performance regex-group',\n 'c++ multithreading boost boost-thread boost-mutex',\n 'ios objective-c uiwebview youtube-api uiwebviewdelegate',\n 'html css bootstrap tabs angular',\n 'reactjs macos react-native mobile ssid',\n 'python json dictionary eval abstract-syntax-tree',\n 'java android jar path apk',\n 'javascript jquery json parsing dynamic',\n 'javascript reactjs onclick onkeypress googleplacesautocomplete',\n 'c++ windows visual-studio winapi common-controls',\n 'javascript jquery xml json format-conversion',\n 'mysql database mariadb innodb bufferpool',\n 'php laravel amazon-web-services amazon-sqs jobs',\n 'c# .net linq-to-sql inheritance lambda',\n 'ios xcode shadow scenekit scnlight',\n 'javascript function loops math ember.js',\n 'web save document scripting store',\n 'c debugging dll gcc mingw',\n 'c++ build makefile scons subdirectory',\n 'c# .net outlook-addin ribbon-control winforms-interop',\n 'java algorithm graph-algorithm minimum-spanning-tree kruskals-algorithm',\n 'android button user-interface position screen',\n 'python amazon-web-services http elasticsearch aws-lambda',\n 'python parsing selenium-webdriver phantomjs multiprocessing',\n 'php html css tags knapsack-problem',\n 'javascript php getjson urlencode decodeuricomponent',\n 'angular go encryption aes cryptojs',\n 'python gis netcdf matplotlib-basemap netcdf',\n 'python django django-templates request referrer',\n 'jquery scripting png external animated',\n 'python excel pywin autosize vba',\n 'linux apache tomcat centos mod-jk',\n 'php magento csv tree categories',\n 'c# performance text stream csv',\n 'sql database sybase query-optimization database-optimization',\n 'python sentiment-analysis wordnet pos-tagger data-augmentation',\n 'android json kotlin gson data-class',\n 'javascript css dynamic refresh element',\n 'unit-testing google-chrome ionic karma-runner isparta',\n 'c# .net visual-studio visual-studio visual-studio',\n 'java javascript jquery tomcat jsf',\n 'python python ipython ipython-notebook zipline',\n 'matlab machine-learning cluster-analysis scatter-plot optics-algorithm',\n 'c# security active-directory security-roles iprincipal',\n 'php postgresql floating-point doctrine integer',\n 'java spring spring-boot rest http-delete',\n 'iphone sdk speech-recognition arabic speech-to-text',\n 'javascript html css reactjs twitter-bootstrap',\n 'reactjs typescript react-hooks material-ui mui-datatable',\n 'java web-services jakarta-ee glassfish jax-ws',\n 'ios swift uikit swiftui xcode',\n 'eclipse maven aspectj spring-roo aspectj-maven-plugin',\n 'c++ cuda parallel-processing gpu gpgpu',\n 'c# .net image gdi+ colormatrix',\n 'scala aws-sdk emr amazon-emr elastic-map-reduce',\n 'c# asp.net dll custom-controls ascx',\n 'php actionscript zend-framework bytearray amf',\n 'android android-contentresolver mediastore android-external-storage android',\n 'java rest postman protocol-buffers dhclient',\n 'c# json web-services rest asp.net -web-api',\n 'c# sql-server nhibernate ado.net transactions',\n 'java compare character ascii diacritics',\n 'php sql session e-commerce cart',\n 'github https dns github-pages dnsmasq',\n 'twitter-bootstrap gulp laravel font-awesome laravel-elixir',\n '.net vb.net visual-studio coordinates rectangles',\n 'c# linq gridview join bind',\n 'javascript jquery events drag-and-drop jquery-ui-sortable',\n 'jquery elixir phoenix-framework node.js -client phoenix-channels',\n 'c++ class function map macros',\n 'java json rest jackson spring-rest',\n 'c++ c visual-c++ c++ initialization',\n 'jsp servlets jpa model-view-controller ejb',\n 'php http rest iis laravel',\n '.net database sqlite odbc c++-cli',\n 'javascript php jquery ajax forms',\n 'android retrofit retrofit kotlin-coroutines retrofit',\n 'linux drive hard-drive dd computer-forensics',\n 'sql date timestamp where-clause database-agnostic',\n 'c# xaml binding combobox textbox',\n 'html ruby-on-rails xml nginx ruby-on-rails',\n 'python dictionary type-hinting mypy python-typing',\n 'c# asp.net -mvc asp.net -mvc razor razorengine',\n 'ios xcode swift alamofire code-signing',\n 'spring spring-boot properties yaml lombok',\n 'python image opencv image-processing text',\n 'php javascript jquery ajax dhtml',\n 'ruby-on-rails ruby code-generation types customization',\n 'c# linq-to-sql repository domain-driven-design design-patterns',\n 'java timeout weblogic transactions jta',\n 'c opencv struct common-lisp cffi',\n '.net events focus keydown tabindex',\n 'javascript node.js server-side nodemailer serverside-javascript',\n 'php laravel logging permissions monolog',\n 'java spring-boot spring-cloud netflix-eureka spring-cloud-gateway',\n 'android android-studio gradle adb stetho',\n 'sql tsql sql-server view sql-order-by',\n 'java swt dispose eclipse-gef draw d',\n 'sqlite cordova angular transactions ionic',\n ...]"
     },
     "execution_count": 21,
     "metadata": {},
     "output_type": "execute_result"
    }
   ],
   "source": [
    "y_train"
   ],
   "metadata": {
    "collapsed": false,
    "pycharm": {
     "name": "#%%\n"
    }
   }
  },
  {
   "cell_type": "code",
   "execution_count": 22,
   "outputs": [
    {
     "data": {
      "text/plain": "<34997x353163 sparse matrix of type '<class 'numpy.float64'>'\n\twith 2080915 stored elements in Compressed Sparse Row format>"
     },
     "execution_count": 22,
     "metadata": {},
     "output_type": "execute_result"
    }
   ],
   "source": [
    "X_train_tfidf"
   ],
   "metadata": {
    "collapsed": false,
    "pycharm": {
     "name": "#%%\n"
    }
   }
  },
  {
   "cell_type": "code",
   "execution_count": 20,
   "outputs": [
    {
     "ename": "KeyboardInterrupt",
     "evalue": "",
     "output_type": "error",
     "traceback": [
      "\u001B[0;31m---------------------------------------------------------------------------\u001B[0m",
      "\u001B[0;31mKeyboardInterrupt\u001B[0m                         Traceback (most recent call last)",
      "Input \u001B[0;32mIn [20]\u001B[0m, in \u001B[0;36m<cell line: 2>\u001B[0;34m()\u001B[0m\n\u001B[1;32m      1\u001B[0m \u001B[38;5;66;03m# One vs Restclassifier\u001B[39;00m\n\u001B[0;32m----> 2\u001B[0m orc_clf \u001B[38;5;241m=\u001B[39m \u001B[43mOneVsRestClassifier\u001B[49m\u001B[43m(\u001B[49m\u001B[43mestimator\u001B[49m\u001B[38;5;241;43m=\u001B[39;49m\u001B[43msvc\u001B[49m\u001B[43m)\u001B[49m\u001B[38;5;241;43m.\u001B[39;49m\u001B[43mfit\u001B[49m\u001B[43m(\u001B[49m\u001B[43mX_train_tfidf\u001B[49m\u001B[43m,\u001B[49m\u001B[43m \u001B[49m\u001B[43my_train\u001B[49m\u001B[43m)\u001B[49m\n",
      "File \u001B[0;32m~/opt/anaconda3/lib/python3.9/site-packages/sklearn/multiclass.py:327\u001B[0m, in \u001B[0;36mOneVsRestClassifier.fit\u001B[0;34m(self, X, y)\u001B[0m\n\u001B[1;32m    323\u001B[0m columns \u001B[38;5;241m=\u001B[39m (col\u001B[38;5;241m.\u001B[39mtoarray()\u001B[38;5;241m.\u001B[39mravel() \u001B[38;5;28;01mfor\u001B[39;00m col \u001B[38;5;129;01min\u001B[39;00m Y\u001B[38;5;241m.\u001B[39mT)\n\u001B[1;32m    324\u001B[0m \u001B[38;5;66;03m# In cases where individual estimators are very fast to train setting\u001B[39;00m\n\u001B[1;32m    325\u001B[0m \u001B[38;5;66;03m# n_jobs > 1 in can results in slower performance due to the overhead\u001B[39;00m\n\u001B[1;32m    326\u001B[0m \u001B[38;5;66;03m# of spawning threads.  See joblib issue #112.\u001B[39;00m\n\u001B[0;32m--> 327\u001B[0m \u001B[38;5;28mself\u001B[39m\u001B[38;5;241m.\u001B[39mestimators_ \u001B[38;5;241m=\u001B[39m \u001B[43mParallel\u001B[49m\u001B[43m(\u001B[49m\u001B[43mn_jobs\u001B[49m\u001B[38;5;241;43m=\u001B[39;49m\u001B[38;5;28;43mself\u001B[39;49m\u001B[38;5;241;43m.\u001B[39;49m\u001B[43mn_jobs\u001B[49m\u001B[43m,\u001B[49m\u001B[43m \u001B[49m\u001B[43mverbose\u001B[49m\u001B[38;5;241;43m=\u001B[39;49m\u001B[38;5;28;43mself\u001B[39;49m\u001B[38;5;241;43m.\u001B[39;49m\u001B[43mverbose\u001B[49m\u001B[43m)\u001B[49m\u001B[43m(\u001B[49m\n\u001B[1;32m    328\u001B[0m \u001B[43m    \u001B[49m\u001B[43mdelayed\u001B[49m\u001B[43m(\u001B[49m\u001B[43m_fit_binary\u001B[49m\u001B[43m)\u001B[49m\u001B[43m(\u001B[49m\n\u001B[1;32m    329\u001B[0m \u001B[43m        \u001B[49m\u001B[38;5;28;43mself\u001B[39;49m\u001B[38;5;241;43m.\u001B[39;49m\u001B[43mestimator\u001B[49m\u001B[43m,\u001B[49m\n\u001B[1;32m    330\u001B[0m \u001B[43m        \u001B[49m\u001B[43mX\u001B[49m\u001B[43m,\u001B[49m\n\u001B[1;32m    331\u001B[0m \u001B[43m        \u001B[49m\u001B[43mcolumn\u001B[49m\u001B[43m,\u001B[49m\n\u001B[1;32m    332\u001B[0m \u001B[43m        \u001B[49m\u001B[43mclasses\u001B[49m\u001B[38;5;241;43m=\u001B[39;49m\u001B[43m[\u001B[49m\n\u001B[1;32m    333\u001B[0m \u001B[43m            \u001B[49m\u001B[38;5;124;43m\"\u001B[39;49m\u001B[38;5;124;43mnot \u001B[39;49m\u001B[38;5;132;43;01m%s\u001B[39;49;00m\u001B[38;5;124;43m\"\u001B[39;49m\u001B[43m \u001B[49m\u001B[38;5;241;43m%\u001B[39;49m\u001B[43m \u001B[49m\u001B[38;5;28;43mself\u001B[39;49m\u001B[38;5;241;43m.\u001B[39;49m\u001B[43mlabel_binarizer_\u001B[49m\u001B[38;5;241;43m.\u001B[39;49m\u001B[43mclasses_\u001B[49m\u001B[43m[\u001B[49m\u001B[43mi\u001B[49m\u001B[43m]\u001B[49m\u001B[43m,\u001B[49m\n\u001B[1;32m    334\u001B[0m \u001B[43m            \u001B[49m\u001B[38;5;28;43mself\u001B[39;49m\u001B[38;5;241;43m.\u001B[39;49m\u001B[43mlabel_binarizer_\u001B[49m\u001B[38;5;241;43m.\u001B[39;49m\u001B[43mclasses_\u001B[49m\u001B[43m[\u001B[49m\u001B[43mi\u001B[49m\u001B[43m]\u001B[49m\u001B[43m,\u001B[49m\n\u001B[1;32m    335\u001B[0m \u001B[43m        \u001B[49m\u001B[43m]\u001B[49m\u001B[43m,\u001B[49m\n\u001B[1;32m    336\u001B[0m \u001B[43m    \u001B[49m\u001B[43m)\u001B[49m\n\u001B[1;32m    337\u001B[0m \u001B[43m    \u001B[49m\u001B[38;5;28;43;01mfor\u001B[39;49;00m\u001B[43m \u001B[49m\u001B[43mi\u001B[49m\u001B[43m,\u001B[49m\u001B[43m \u001B[49m\u001B[43mcolumn\u001B[49m\u001B[43m \u001B[49m\u001B[38;5;129;43;01min\u001B[39;49;00m\u001B[43m \u001B[49m\u001B[38;5;28;43menumerate\u001B[39;49m\u001B[43m(\u001B[49m\u001B[43mcolumns\u001B[49m\u001B[43m)\u001B[49m\n\u001B[1;32m    338\u001B[0m \u001B[43m\u001B[49m\u001B[43m)\u001B[49m\n\u001B[1;32m    340\u001B[0m \u001B[38;5;28;01mif\u001B[39;00m \u001B[38;5;28mhasattr\u001B[39m(\u001B[38;5;28mself\u001B[39m\u001B[38;5;241m.\u001B[39mestimators_[\u001B[38;5;241m0\u001B[39m], \u001B[38;5;124m\"\u001B[39m\u001B[38;5;124mn_features_in_\u001B[39m\u001B[38;5;124m\"\u001B[39m):\n\u001B[1;32m    341\u001B[0m     \u001B[38;5;28mself\u001B[39m\u001B[38;5;241m.\u001B[39mn_features_in_ \u001B[38;5;241m=\u001B[39m \u001B[38;5;28mself\u001B[39m\u001B[38;5;241m.\u001B[39mestimators_[\u001B[38;5;241m0\u001B[39m]\u001B[38;5;241m.\u001B[39mn_features_in_\n",
      "File \u001B[0;32m~/opt/anaconda3/lib/python3.9/site-packages/joblib/parallel.py:1046\u001B[0m, in \u001B[0;36mParallel.__call__\u001B[0;34m(self, iterable)\u001B[0m\n\u001B[1;32m   1043\u001B[0m \u001B[38;5;28;01mif\u001B[39;00m \u001B[38;5;28mself\u001B[39m\u001B[38;5;241m.\u001B[39mdispatch_one_batch(iterator):\n\u001B[1;32m   1044\u001B[0m     \u001B[38;5;28mself\u001B[39m\u001B[38;5;241m.\u001B[39m_iterating \u001B[38;5;241m=\u001B[39m \u001B[38;5;28mself\u001B[39m\u001B[38;5;241m.\u001B[39m_original_iterator \u001B[38;5;129;01mis\u001B[39;00m \u001B[38;5;129;01mnot\u001B[39;00m \u001B[38;5;28;01mNone\u001B[39;00m\n\u001B[0;32m-> 1046\u001B[0m \u001B[38;5;28;01mwhile\u001B[39;00m \u001B[38;5;28;43mself\u001B[39;49m\u001B[38;5;241;43m.\u001B[39;49m\u001B[43mdispatch_one_batch\u001B[49m\u001B[43m(\u001B[49m\u001B[43miterator\u001B[49m\u001B[43m)\u001B[49m:\n\u001B[1;32m   1047\u001B[0m     \u001B[38;5;28;01mpass\u001B[39;00m\n\u001B[1;32m   1049\u001B[0m \u001B[38;5;28;01mif\u001B[39;00m pre_dispatch \u001B[38;5;241m==\u001B[39m \u001B[38;5;124m\"\u001B[39m\u001B[38;5;124mall\u001B[39m\u001B[38;5;124m\"\u001B[39m \u001B[38;5;129;01mor\u001B[39;00m n_jobs \u001B[38;5;241m==\u001B[39m \u001B[38;5;241m1\u001B[39m:\n\u001B[1;32m   1050\u001B[0m     \u001B[38;5;66;03m# The iterable was consumed all at once by the above for loop.\u001B[39;00m\n\u001B[1;32m   1051\u001B[0m     \u001B[38;5;66;03m# No need to wait for async callbacks to trigger to\u001B[39;00m\n\u001B[1;32m   1052\u001B[0m     \u001B[38;5;66;03m# consumption.\u001B[39;00m\n",
      "File \u001B[0;32m~/opt/anaconda3/lib/python3.9/site-packages/joblib/parallel.py:861\u001B[0m, in \u001B[0;36mParallel.dispatch_one_batch\u001B[0;34m(self, iterator)\u001B[0m\n\u001B[1;32m    859\u001B[0m     \u001B[38;5;28;01mreturn\u001B[39;00m \u001B[38;5;28;01mFalse\u001B[39;00m\n\u001B[1;32m    860\u001B[0m \u001B[38;5;28;01melse\u001B[39;00m:\n\u001B[0;32m--> 861\u001B[0m     \u001B[38;5;28;43mself\u001B[39;49m\u001B[38;5;241;43m.\u001B[39;49m\u001B[43m_dispatch\u001B[49m\u001B[43m(\u001B[49m\u001B[43mtasks\u001B[49m\u001B[43m)\u001B[49m\n\u001B[1;32m    862\u001B[0m     \u001B[38;5;28;01mreturn\u001B[39;00m \u001B[38;5;28;01mTrue\u001B[39;00m\n",
      "File \u001B[0;32m~/opt/anaconda3/lib/python3.9/site-packages/joblib/parallel.py:779\u001B[0m, in \u001B[0;36mParallel._dispatch\u001B[0;34m(self, batch)\u001B[0m\n\u001B[1;32m    777\u001B[0m \u001B[38;5;28;01mwith\u001B[39;00m \u001B[38;5;28mself\u001B[39m\u001B[38;5;241m.\u001B[39m_lock:\n\u001B[1;32m    778\u001B[0m     job_idx \u001B[38;5;241m=\u001B[39m \u001B[38;5;28mlen\u001B[39m(\u001B[38;5;28mself\u001B[39m\u001B[38;5;241m.\u001B[39m_jobs)\n\u001B[0;32m--> 779\u001B[0m     job \u001B[38;5;241m=\u001B[39m \u001B[38;5;28;43mself\u001B[39;49m\u001B[38;5;241;43m.\u001B[39;49m\u001B[43m_backend\u001B[49m\u001B[38;5;241;43m.\u001B[39;49m\u001B[43mapply_async\u001B[49m\u001B[43m(\u001B[49m\u001B[43mbatch\u001B[49m\u001B[43m,\u001B[49m\u001B[43m \u001B[49m\u001B[43mcallback\u001B[49m\u001B[38;5;241;43m=\u001B[39;49m\u001B[43mcb\u001B[49m\u001B[43m)\u001B[49m\n\u001B[1;32m    780\u001B[0m     \u001B[38;5;66;03m# A job can complete so quickly than its callback is\u001B[39;00m\n\u001B[1;32m    781\u001B[0m     \u001B[38;5;66;03m# called before we get here, causing self._jobs to\u001B[39;00m\n\u001B[1;32m    782\u001B[0m     \u001B[38;5;66;03m# grow. To ensure correct results ordering, .insert is\u001B[39;00m\n\u001B[1;32m    783\u001B[0m     \u001B[38;5;66;03m# used (rather than .append) in the following line\u001B[39;00m\n\u001B[1;32m    784\u001B[0m     \u001B[38;5;28mself\u001B[39m\u001B[38;5;241m.\u001B[39m_jobs\u001B[38;5;241m.\u001B[39minsert(job_idx, job)\n",
      "File \u001B[0;32m~/opt/anaconda3/lib/python3.9/site-packages/joblib/_parallel_backends.py:208\u001B[0m, in \u001B[0;36mSequentialBackend.apply_async\u001B[0;34m(self, func, callback)\u001B[0m\n\u001B[1;32m    206\u001B[0m \u001B[38;5;28;01mdef\u001B[39;00m \u001B[38;5;21mapply_async\u001B[39m(\u001B[38;5;28mself\u001B[39m, func, callback\u001B[38;5;241m=\u001B[39m\u001B[38;5;28;01mNone\u001B[39;00m):\n\u001B[1;32m    207\u001B[0m     \u001B[38;5;124;03m\"\"\"Schedule a func to be run\"\"\"\u001B[39;00m\n\u001B[0;32m--> 208\u001B[0m     result \u001B[38;5;241m=\u001B[39m \u001B[43mImmediateResult\u001B[49m\u001B[43m(\u001B[49m\u001B[43mfunc\u001B[49m\u001B[43m)\u001B[49m\n\u001B[1;32m    209\u001B[0m     \u001B[38;5;28;01mif\u001B[39;00m callback:\n\u001B[1;32m    210\u001B[0m         callback(result)\n",
      "File \u001B[0;32m~/opt/anaconda3/lib/python3.9/site-packages/joblib/_parallel_backends.py:572\u001B[0m, in \u001B[0;36mImmediateResult.__init__\u001B[0;34m(self, batch)\u001B[0m\n\u001B[1;32m    569\u001B[0m \u001B[38;5;28;01mdef\u001B[39;00m \u001B[38;5;21m__init__\u001B[39m(\u001B[38;5;28mself\u001B[39m, batch):\n\u001B[1;32m    570\u001B[0m     \u001B[38;5;66;03m# Don't delay the application, to avoid keeping the input\u001B[39;00m\n\u001B[1;32m    571\u001B[0m     \u001B[38;5;66;03m# arguments in memory\u001B[39;00m\n\u001B[0;32m--> 572\u001B[0m     \u001B[38;5;28mself\u001B[39m\u001B[38;5;241m.\u001B[39mresults \u001B[38;5;241m=\u001B[39m \u001B[43mbatch\u001B[49m\u001B[43m(\u001B[49m\u001B[43m)\u001B[49m\n",
      "File \u001B[0;32m~/opt/anaconda3/lib/python3.9/site-packages/joblib/parallel.py:262\u001B[0m, in \u001B[0;36mBatchedCalls.__call__\u001B[0;34m(self)\u001B[0m\n\u001B[1;32m    258\u001B[0m \u001B[38;5;28;01mdef\u001B[39;00m \u001B[38;5;21m__call__\u001B[39m(\u001B[38;5;28mself\u001B[39m):\n\u001B[1;32m    259\u001B[0m     \u001B[38;5;66;03m# Set the default nested backend to self._backend but do not set the\u001B[39;00m\n\u001B[1;32m    260\u001B[0m     \u001B[38;5;66;03m# change the default number of processes to -1\u001B[39;00m\n\u001B[1;32m    261\u001B[0m     \u001B[38;5;28;01mwith\u001B[39;00m parallel_backend(\u001B[38;5;28mself\u001B[39m\u001B[38;5;241m.\u001B[39m_backend, n_jobs\u001B[38;5;241m=\u001B[39m\u001B[38;5;28mself\u001B[39m\u001B[38;5;241m.\u001B[39m_n_jobs):\n\u001B[0;32m--> 262\u001B[0m         \u001B[38;5;28;01mreturn\u001B[39;00m [func(\u001B[38;5;241m*\u001B[39margs, \u001B[38;5;241m*\u001B[39m\u001B[38;5;241m*\u001B[39mkwargs)\n\u001B[1;32m    263\u001B[0m                 \u001B[38;5;28;01mfor\u001B[39;00m func, args, kwargs \u001B[38;5;129;01min\u001B[39;00m \u001B[38;5;28mself\u001B[39m\u001B[38;5;241m.\u001B[39mitems]\n",
      "File \u001B[0;32m~/opt/anaconda3/lib/python3.9/site-packages/joblib/parallel.py:262\u001B[0m, in \u001B[0;36m<listcomp>\u001B[0;34m(.0)\u001B[0m\n\u001B[1;32m    258\u001B[0m \u001B[38;5;28;01mdef\u001B[39;00m \u001B[38;5;21m__call__\u001B[39m(\u001B[38;5;28mself\u001B[39m):\n\u001B[1;32m    259\u001B[0m     \u001B[38;5;66;03m# Set the default nested backend to self._backend but do not set the\u001B[39;00m\n\u001B[1;32m    260\u001B[0m     \u001B[38;5;66;03m# change the default number of processes to -1\u001B[39;00m\n\u001B[1;32m    261\u001B[0m     \u001B[38;5;28;01mwith\u001B[39;00m parallel_backend(\u001B[38;5;28mself\u001B[39m\u001B[38;5;241m.\u001B[39m_backend, n_jobs\u001B[38;5;241m=\u001B[39m\u001B[38;5;28mself\u001B[39m\u001B[38;5;241m.\u001B[39m_n_jobs):\n\u001B[0;32m--> 262\u001B[0m         \u001B[38;5;28;01mreturn\u001B[39;00m [\u001B[43mfunc\u001B[49m\u001B[43m(\u001B[49m\u001B[38;5;241;43m*\u001B[39;49m\u001B[43margs\u001B[49m\u001B[43m,\u001B[49m\u001B[43m \u001B[49m\u001B[38;5;241;43m*\u001B[39;49m\u001B[38;5;241;43m*\u001B[39;49m\u001B[43mkwargs\u001B[49m\u001B[43m)\u001B[49m\n\u001B[1;32m    263\u001B[0m                 \u001B[38;5;28;01mfor\u001B[39;00m func, args, kwargs \u001B[38;5;129;01min\u001B[39;00m \u001B[38;5;28mself\u001B[39m\u001B[38;5;241m.\u001B[39mitems]\n",
      "File \u001B[0;32m~/opt/anaconda3/lib/python3.9/site-packages/sklearn/utils/fixes.py:117\u001B[0m, in \u001B[0;36m_FuncWrapper.__call__\u001B[0;34m(self, *args, **kwargs)\u001B[0m\n\u001B[1;32m    115\u001B[0m \u001B[38;5;28;01mdef\u001B[39;00m \u001B[38;5;21m__call__\u001B[39m(\u001B[38;5;28mself\u001B[39m, \u001B[38;5;241m*\u001B[39margs, \u001B[38;5;241m*\u001B[39m\u001B[38;5;241m*\u001B[39mkwargs):\n\u001B[1;32m    116\u001B[0m     \u001B[38;5;28;01mwith\u001B[39;00m config_context(\u001B[38;5;241m*\u001B[39m\u001B[38;5;241m*\u001B[39m\u001B[38;5;28mself\u001B[39m\u001B[38;5;241m.\u001B[39mconfig):\n\u001B[0;32m--> 117\u001B[0m         \u001B[38;5;28;01mreturn\u001B[39;00m \u001B[38;5;28;43mself\u001B[39;49m\u001B[38;5;241;43m.\u001B[39;49m\u001B[43mfunction\u001B[49m\u001B[43m(\u001B[49m\u001B[38;5;241;43m*\u001B[39;49m\u001B[43margs\u001B[49m\u001B[43m,\u001B[49m\u001B[43m \u001B[49m\u001B[38;5;241;43m*\u001B[39;49m\u001B[38;5;241;43m*\u001B[39;49m\u001B[43mkwargs\u001B[49m\u001B[43m)\u001B[49m\n",
      "File \u001B[0;32m~/opt/anaconda3/lib/python3.9/site-packages/sklearn/multiclass.py:83\u001B[0m, in \u001B[0;36m_fit_binary\u001B[0;34m(estimator, X, y, classes)\u001B[0m\n\u001B[1;32m     81\u001B[0m \u001B[38;5;28;01melse\u001B[39;00m:\n\u001B[1;32m     82\u001B[0m     estimator \u001B[38;5;241m=\u001B[39m clone(estimator)\n\u001B[0;32m---> 83\u001B[0m     \u001B[43mestimator\u001B[49m\u001B[38;5;241;43m.\u001B[39;49m\u001B[43mfit\u001B[49m\u001B[43m(\u001B[49m\u001B[43mX\u001B[49m\u001B[43m,\u001B[49m\u001B[43m \u001B[49m\u001B[43my\u001B[49m\u001B[43m)\u001B[49m\n\u001B[1;32m     84\u001B[0m \u001B[38;5;28;01mreturn\u001B[39;00m estimator\n",
      "File \u001B[0;32m~/opt/anaconda3/lib/python3.9/site-packages/sklearn/svm/_base.py:251\u001B[0m, in \u001B[0;36mBaseLibSVM.fit\u001B[0;34m(self, X, y, sample_weight)\u001B[0m\n\u001B[1;32m    248\u001B[0m     \u001B[38;5;28mprint\u001B[39m(\u001B[38;5;124m\"\u001B[39m\u001B[38;5;124m[LibSVM]\u001B[39m\u001B[38;5;124m\"\u001B[39m, end\u001B[38;5;241m=\u001B[39m\u001B[38;5;124m\"\u001B[39m\u001B[38;5;124m\"\u001B[39m)\n\u001B[1;32m    250\u001B[0m seed \u001B[38;5;241m=\u001B[39m rnd\u001B[38;5;241m.\u001B[39mrandint(np\u001B[38;5;241m.\u001B[39miinfo(\u001B[38;5;124m\"\u001B[39m\u001B[38;5;124mi\u001B[39m\u001B[38;5;124m\"\u001B[39m)\u001B[38;5;241m.\u001B[39mmax)\n\u001B[0;32m--> 251\u001B[0m \u001B[43mfit\u001B[49m\u001B[43m(\u001B[49m\u001B[43mX\u001B[49m\u001B[43m,\u001B[49m\u001B[43m \u001B[49m\u001B[43my\u001B[49m\u001B[43m,\u001B[49m\u001B[43m \u001B[49m\u001B[43msample_weight\u001B[49m\u001B[43m,\u001B[49m\u001B[43m \u001B[49m\u001B[43msolver_type\u001B[49m\u001B[43m,\u001B[49m\u001B[43m \u001B[49m\u001B[43mkernel\u001B[49m\u001B[43m,\u001B[49m\u001B[43m \u001B[49m\u001B[43mrandom_seed\u001B[49m\u001B[38;5;241;43m=\u001B[39;49m\u001B[43mseed\u001B[49m\u001B[43m)\u001B[49m\n\u001B[1;32m    252\u001B[0m \u001B[38;5;66;03m# see comment on the other call to np.iinfo in this file\u001B[39;00m\n\u001B[1;32m    254\u001B[0m \u001B[38;5;28mself\u001B[39m\u001B[38;5;241m.\u001B[39mshape_fit_ \u001B[38;5;241m=\u001B[39m X\u001B[38;5;241m.\u001B[39mshape \u001B[38;5;28;01mif\u001B[39;00m \u001B[38;5;28mhasattr\u001B[39m(X, \u001B[38;5;124m\"\u001B[39m\u001B[38;5;124mshape\u001B[39m\u001B[38;5;124m\"\u001B[39m) \u001B[38;5;28;01melse\u001B[39;00m (n_samples,)\n",
      "File \u001B[0;32m~/opt/anaconda3/lib/python3.9/site-packages/sklearn/svm/_base.py:374\u001B[0m, in \u001B[0;36mBaseLibSVM._sparse_fit\u001B[0;34m(self, X, y, sample_weight, solver_type, kernel, random_seed)\u001B[0m\n\u001B[1;32m    360\u001B[0m kernel_type \u001B[38;5;241m=\u001B[39m \u001B[38;5;28mself\u001B[39m\u001B[38;5;241m.\u001B[39m_sparse_kernels\u001B[38;5;241m.\u001B[39mindex(kernel)\n\u001B[1;32m    362\u001B[0m libsvm_sparse\u001B[38;5;241m.\u001B[39mset_verbosity_wrap(\u001B[38;5;28mself\u001B[39m\u001B[38;5;241m.\u001B[39mverbose)\n\u001B[1;32m    364\u001B[0m (\n\u001B[1;32m    365\u001B[0m     \u001B[38;5;28mself\u001B[39m\u001B[38;5;241m.\u001B[39msupport_,\n\u001B[1;32m    366\u001B[0m     \u001B[38;5;28mself\u001B[39m\u001B[38;5;241m.\u001B[39msupport_vectors_,\n\u001B[1;32m    367\u001B[0m     dual_coef_data,\n\u001B[1;32m    368\u001B[0m     \u001B[38;5;28mself\u001B[39m\u001B[38;5;241m.\u001B[39mintercept_,\n\u001B[1;32m    369\u001B[0m     \u001B[38;5;28mself\u001B[39m\u001B[38;5;241m.\u001B[39m_n_support,\n\u001B[1;32m    370\u001B[0m     \u001B[38;5;28mself\u001B[39m\u001B[38;5;241m.\u001B[39m_probA,\n\u001B[1;32m    371\u001B[0m     \u001B[38;5;28mself\u001B[39m\u001B[38;5;241m.\u001B[39m_probB,\n\u001B[1;32m    372\u001B[0m     \u001B[38;5;28mself\u001B[39m\u001B[38;5;241m.\u001B[39mfit_status_,\n\u001B[1;32m    373\u001B[0m     \u001B[38;5;28mself\u001B[39m\u001B[38;5;241m.\u001B[39m_num_iter,\n\u001B[0;32m--> 374\u001B[0m ) \u001B[38;5;241m=\u001B[39m \u001B[43mlibsvm_sparse\u001B[49m\u001B[38;5;241;43m.\u001B[39;49m\u001B[43mlibsvm_sparse_train\u001B[49m\u001B[43m(\u001B[49m\n\u001B[1;32m    375\u001B[0m \u001B[43m    \u001B[49m\u001B[43mX\u001B[49m\u001B[38;5;241;43m.\u001B[39;49m\u001B[43mshape\u001B[49m\u001B[43m[\u001B[49m\u001B[38;5;241;43m1\u001B[39;49m\u001B[43m]\u001B[49m\u001B[43m,\u001B[49m\n\u001B[1;32m    376\u001B[0m \u001B[43m    \u001B[49m\u001B[43mX\u001B[49m\u001B[38;5;241;43m.\u001B[39;49m\u001B[43mdata\u001B[49m\u001B[43m,\u001B[49m\n\u001B[1;32m    377\u001B[0m \u001B[43m    \u001B[49m\u001B[43mX\u001B[49m\u001B[38;5;241;43m.\u001B[39;49m\u001B[43mindices\u001B[49m\u001B[43m,\u001B[49m\n\u001B[1;32m    378\u001B[0m \u001B[43m    \u001B[49m\u001B[43mX\u001B[49m\u001B[38;5;241;43m.\u001B[39;49m\u001B[43mindptr\u001B[49m\u001B[43m,\u001B[49m\n\u001B[1;32m    379\u001B[0m \u001B[43m    \u001B[49m\u001B[43my\u001B[49m\u001B[43m,\u001B[49m\n\u001B[1;32m    380\u001B[0m \u001B[43m    \u001B[49m\u001B[43msolver_type\u001B[49m\u001B[43m,\u001B[49m\n\u001B[1;32m    381\u001B[0m \u001B[43m    \u001B[49m\u001B[43mkernel_type\u001B[49m\u001B[43m,\u001B[49m\n\u001B[1;32m    382\u001B[0m \u001B[43m    \u001B[49m\u001B[38;5;28;43mself\u001B[39;49m\u001B[38;5;241;43m.\u001B[39;49m\u001B[43mdegree\u001B[49m\u001B[43m,\u001B[49m\n\u001B[1;32m    383\u001B[0m \u001B[43m    \u001B[49m\u001B[38;5;28;43mself\u001B[39;49m\u001B[38;5;241;43m.\u001B[39;49m\u001B[43m_gamma\u001B[49m\u001B[43m,\u001B[49m\n\u001B[1;32m    384\u001B[0m \u001B[43m    \u001B[49m\u001B[38;5;28;43mself\u001B[39;49m\u001B[38;5;241;43m.\u001B[39;49m\u001B[43mcoef0\u001B[49m\u001B[43m,\u001B[49m\n\u001B[1;32m    385\u001B[0m \u001B[43m    \u001B[49m\u001B[38;5;28;43mself\u001B[39;49m\u001B[38;5;241;43m.\u001B[39;49m\u001B[43mtol\u001B[49m\u001B[43m,\u001B[49m\n\u001B[1;32m    386\u001B[0m \u001B[43m    \u001B[49m\u001B[38;5;28;43mself\u001B[39;49m\u001B[38;5;241;43m.\u001B[39;49m\u001B[43mC\u001B[49m\u001B[43m,\u001B[49m\n\u001B[1;32m    387\u001B[0m \u001B[43m    \u001B[49m\u001B[38;5;28;43mself\u001B[39;49m\u001B[38;5;241;43m.\u001B[39;49m\u001B[43mclass_weight_\u001B[49m\u001B[43m,\u001B[49m\n\u001B[1;32m    388\u001B[0m \u001B[43m    \u001B[49m\u001B[43msample_weight\u001B[49m\u001B[43m,\u001B[49m\n\u001B[1;32m    389\u001B[0m \u001B[43m    \u001B[49m\u001B[38;5;28;43mself\u001B[39;49m\u001B[38;5;241;43m.\u001B[39;49m\u001B[43mnu\u001B[49m\u001B[43m,\u001B[49m\n\u001B[1;32m    390\u001B[0m \u001B[43m    \u001B[49m\u001B[38;5;28;43mself\u001B[39;49m\u001B[38;5;241;43m.\u001B[39;49m\u001B[43mcache_size\u001B[49m\u001B[43m,\u001B[49m\n\u001B[1;32m    391\u001B[0m \u001B[43m    \u001B[49m\u001B[38;5;28;43mself\u001B[39;49m\u001B[38;5;241;43m.\u001B[39;49m\u001B[43mepsilon\u001B[49m\u001B[43m,\u001B[49m\n\u001B[1;32m    392\u001B[0m \u001B[43m    \u001B[49m\u001B[38;5;28;43mint\u001B[39;49m\u001B[43m(\u001B[49m\u001B[38;5;28;43mself\u001B[39;49m\u001B[38;5;241;43m.\u001B[39;49m\u001B[43mshrinking\u001B[49m\u001B[43m)\u001B[49m\u001B[43m,\u001B[49m\n\u001B[1;32m    393\u001B[0m \u001B[43m    \u001B[49m\u001B[38;5;28;43mint\u001B[39;49m\u001B[43m(\u001B[49m\u001B[38;5;28;43mself\u001B[39;49m\u001B[38;5;241;43m.\u001B[39;49m\u001B[43mprobability\u001B[49m\u001B[43m)\u001B[49m\u001B[43m,\u001B[49m\n\u001B[1;32m    394\u001B[0m \u001B[43m    \u001B[49m\u001B[38;5;28;43mself\u001B[39;49m\u001B[38;5;241;43m.\u001B[39;49m\u001B[43mmax_iter\u001B[49m\u001B[43m,\u001B[49m\n\u001B[1;32m    395\u001B[0m \u001B[43m    \u001B[49m\u001B[43mrandom_seed\u001B[49m\u001B[43m,\u001B[49m\n\u001B[1;32m    396\u001B[0m \u001B[43m\u001B[49m\u001B[43m)\u001B[49m\n\u001B[1;32m    398\u001B[0m \u001B[38;5;28mself\u001B[39m\u001B[38;5;241m.\u001B[39m_warn_from_fit_status()\n\u001B[1;32m    400\u001B[0m \u001B[38;5;28;01mif\u001B[39;00m \u001B[38;5;28mhasattr\u001B[39m(\u001B[38;5;28mself\u001B[39m, \u001B[38;5;124m\"\u001B[39m\u001B[38;5;124mclasses_\u001B[39m\u001B[38;5;124m\"\u001B[39m):\n",
      "File \u001B[0;32msklearn/svm/_libsvm_sparse.pyx:196\u001B[0m, in \u001B[0;36msklearn.svm._libsvm_sparse.libsvm_sparse_train\u001B[0;34m()\u001B[0m\n",
      "File \u001B[0;32m~/opt/anaconda3/lib/python3.9/site-packages/scipy/sparse/compressed.py:27\u001B[0m, in \u001B[0;36m_cs_matrix.__init__\u001B[0;34m(self, arg1, shape, dtype, copy)\u001B[0m\n\u001B[1;32m     24\u001B[0m \u001B[38;5;28;01mclass\u001B[39;00m \u001B[38;5;21;01m_cs_matrix\u001B[39;00m(_data_matrix, _minmax_mixin, IndexMixin):\n\u001B[1;32m     25\u001B[0m     \u001B[38;5;124;03m\"\"\"base matrix class for compressed row- and column-oriented matrices\"\"\"\u001B[39;00m\n\u001B[0;32m---> 27\u001B[0m     \u001B[38;5;28;01mdef\u001B[39;00m \u001B[38;5;21m__init__\u001B[39m(\u001B[38;5;28mself\u001B[39m, arg1, shape\u001B[38;5;241m=\u001B[39m\u001B[38;5;28;01mNone\u001B[39;00m, dtype\u001B[38;5;241m=\u001B[39m\u001B[38;5;28;01mNone\u001B[39;00m, copy\u001B[38;5;241m=\u001B[39m\u001B[38;5;28;01mFalse\u001B[39;00m):\n\u001B[1;32m     28\u001B[0m         _data_matrix\u001B[38;5;241m.\u001B[39m\u001B[38;5;21m__init__\u001B[39m(\u001B[38;5;28mself\u001B[39m)\n\u001B[1;32m     30\u001B[0m         \u001B[38;5;28;01mif\u001B[39;00m isspmatrix(arg1):\n",
      "\u001B[0;31mKeyboardInterrupt\u001B[0m: "
     ]
    }
   ],
   "source": [
    "# One vs Restclassifier\n",
    "orc_clf = OneVsRestClassifier(estimator=svc).fit(X_train_tfidf, y_train)"
   ],
   "metadata": {
    "collapsed": false,
    "pycharm": {
     "name": "#%%\n"
    }
   }
  },
  {
   "cell_type": "code",
   "execution_count": 1,
   "outputs": [
    {
     "ename": "NameError",
     "evalue": "name 'clf' is not defined",
     "output_type": "error",
     "traceback": [
      "\u001B[0;31m---------------------------------------------------------------------------\u001B[0m",
      "\u001B[0;31mNameError\u001B[0m                                 Traceback (most recent call last)",
      "Input \u001B[0;32mIn [1]\u001B[0m, in \u001B[0;36m<cell line: 1>\u001B[0;34m()\u001B[0m\n\u001B[0;32m----> 1\u001B[0m \u001B[43mclf\u001B[49m\n",
      "\u001B[0;31mNameError\u001B[0m: name 'clf' is not defined"
     ]
    }
   ],
   "source": [
    "clf"
   ],
   "metadata": {
    "collapsed": false,
    "pycharm": {
     "name": "#%%\n"
    }
   }
  },
  {
   "cell_type": "code",
   "execution_count": 78,
   "outputs": [
    {
     "data": {
      "text/plain": "['sandbox linux process certain directory process exclusive rw access dir temporary directory e.g python scripting tool directory limiting much functionality process access directory except superusers course sandbox web service basically allows user arbitrary code authorization software process linux user user harm system temporary private directory file protected user webservice giving unix process exclusive rw access directory']"
     },
     "execution_count": 78,
     "metadata": {},
     "output_type": "execute_result"
    }
   ],
   "source": [
    "docs_new = [test['body_and_title_2'][0]]\n",
    "docs_new"
   ],
   "metadata": {
    "collapsed": false,
    "pycharm": {
     "name": "#%%\n"
    }
   }
  },
  {
   "cell_type": "code",
   "execution_count": null,
   "outputs": [],
   "source": [
    "X_new_counts = count_vect.transform(docs_new)\n",
    "X_new_tfidf = tfidf_transformer.transform(X_new_counts)\n",
    "\n",
    "predicted = clf.predict(X_new_tfidf)\n",
    "\n",
    "for doc, category in zip(docs_new, predicted):\n",
    "    print('%r => %s' % (doc, category))"
   ],
   "metadata": {
    "collapsed": false,
    "pycharm": {
     "name": "#%%\n"
    }
   }
  },
  {
   "cell_type": "code",
   "execution_count": null,
   "outputs": [],
   "source": [],
   "metadata": {
    "collapsed": false,
    "pycharm": {
     "name": "#%%\n"
    }
   }
  },
  {
   "cell_type": "code",
   "execution_count": null,
   "outputs": [],
   "source": [],
   "metadata": {
    "collapsed": false,
    "pycharm": {
     "name": "#%%\n"
    }
   }
  },
  {
   "cell_type": "code",
   "execution_count": 17,
   "outputs": [],
   "source": [
    "def vectorize(vector, X_train, X_test):\n",
    "    vector_fit = vector.fit(X_train)\n",
    "\n",
    "    X_train_vec = vector_fit.transform(X_train)\n",
    "    X_test_vec = vector_fit.transform(X_test)\n",
    "\n",
    "    print(\"Vectorization is completed.\")\n",
    "    return X_train_vec, X_test_vec\n",
    "\n",
    "def label_encoding(y_train):\n",
    "    \"\"\"\n",
    "        Encode the given list of class labels\n",
    "        :y_train_enc: returns list of encoded classes\n",
    "        :labels: actual class labels\n",
    "    \"\"\"\n",
    "    lbl_enc = LabelEncoder()\n",
    "\n",
    "    y_train_enc = lbl_enc.fit_transform(y_train)\n",
    "    labels = lbl_enc.classes_\n",
    "\n",
    "    return y_train_enc, labels"
   ],
   "metadata": {
    "collapsed": false,
    "pycharm": {
     "name": "#%%\n"
    }
   }
  },
  {
   "cell_type": "code",
   "execution_count": 18,
   "outputs": [
    {
     "data": {
      "text/plain": "0                     linux ubuntu process sandbox selinux\n1                        java graphics jframe jpanel paint\n2          security ssh ssh-keys openssh man-in-the-middle\n3               c# winforms sqlite datatable sqlconnection\n4                  javascript html node.js mongodb express\n                               ...                        \n49995    sql-server ssas oledb sql-server-data-tools ve...\n49996    python amazon-web-services amazon-s boto pytho...\n49997    python machine-learning deep-learning pytorch ...\n49998                 java json rest json-patch http-patch\n49999    android android-studio android-gradle-plugin g...\nName: Tags, Length: 49997, dtype: object"
     },
     "execution_count": 18,
     "metadata": {},
     "output_type": "execute_result"
    }
   ],
   "source": [
    "df['Tags']"
   ],
   "metadata": {
    "collapsed": false,
    "pycharm": {
     "name": "#%%\n"
    }
   }
  },
  {
   "cell_type": "code",
   "execution_count": 19,
   "outputs": [],
   "source": [
    "# Encode the class labels\n",
    "y_enc_train, labels = label_encoding(df['Tags'])\n",
    "\n",
    "# Split from the loaded dataset\n",
    "X_train, X_test, y_train, y_test = train_test_split(df['Body_3'], y_enc_train, test_size=0.3, shuffle=True)"
   ],
   "metadata": {
    "collapsed": false,
    "pycharm": {
     "name": "#%%\n"
    }
   }
  },
  {
   "cell_type": "code",
   "execution_count": 20,
   "outputs": [
    {
     "data": {
      "text/plain": "array(['-bit -bit bit bit llvm llvm-gcc',\n       '-bit bit bit directshow directshow.net source-filter',\n       '-bit makefile -bit autotools multiplatform', ...,\n       'zend-framework web-applications dns saas wildcard-subdomain',\n       'zend-framework zend-form wrapper containers fieldset',\n       'zooming drag shapes konvajs pan'], dtype=object)"
     },
     "execution_count": 20,
     "metadata": {},
     "output_type": "execute_result"
    }
   ],
   "source": [
    "labels"
   ],
   "metadata": {
    "collapsed": false,
    "pycharm": {
     "name": "#%%\n"
    }
   }
  },
  {
   "cell_type": "code",
   "execution_count": 21,
   "outputs": [
    {
     "data": {
      "text/plain": "CountVectorizer(max_df=2, max_features=5000)",
      "text/html": "<style>#sk-container-id-1 {color: black;background-color: white;}#sk-container-id-1 pre{padding: 0;}#sk-container-id-1 div.sk-toggleable {background-color: white;}#sk-container-id-1 label.sk-toggleable__label {cursor: pointer;display: block;width: 100%;margin-bottom: 0;padding: 0.3em;box-sizing: border-box;text-align: center;}#sk-container-id-1 label.sk-toggleable__label-arrow:before {content: \"▸\";float: left;margin-right: 0.25em;color: #696969;}#sk-container-id-1 label.sk-toggleable__label-arrow:hover:before {color: black;}#sk-container-id-1 div.sk-estimator:hover label.sk-toggleable__label-arrow:before {color: black;}#sk-container-id-1 div.sk-toggleable__content {max-height: 0;max-width: 0;overflow: hidden;text-align: left;background-color: #f0f8ff;}#sk-container-id-1 div.sk-toggleable__content pre {margin: 0.2em;color: black;border-radius: 0.25em;background-color: #f0f8ff;}#sk-container-id-1 input.sk-toggleable__control:checked~div.sk-toggleable__content {max-height: 200px;max-width: 100%;overflow: auto;}#sk-container-id-1 input.sk-toggleable__control:checked~label.sk-toggleable__label-arrow:before {content: \"▾\";}#sk-container-id-1 div.sk-estimator input.sk-toggleable__control:checked~label.sk-toggleable__label {background-color: #d4ebff;}#sk-container-id-1 div.sk-label input.sk-toggleable__control:checked~label.sk-toggleable__label {background-color: #d4ebff;}#sk-container-id-1 input.sk-hidden--visually {border: 0;clip: rect(1px 1px 1px 1px);clip: rect(1px, 1px, 1px, 1px);height: 1px;margin: -1px;overflow: hidden;padding: 0;position: absolute;width: 1px;}#sk-container-id-1 div.sk-estimator {font-family: monospace;background-color: #f0f8ff;border: 1px dotted black;border-radius: 0.25em;box-sizing: border-box;margin-bottom: 0.5em;}#sk-container-id-1 div.sk-estimator:hover {background-color: #d4ebff;}#sk-container-id-1 div.sk-parallel-item::after {content: \"\";width: 100%;border-bottom: 1px solid gray;flex-grow: 1;}#sk-container-id-1 div.sk-label:hover label.sk-toggleable__label {background-color: #d4ebff;}#sk-container-id-1 div.sk-serial::before {content: \"\";position: absolute;border-left: 1px solid gray;box-sizing: border-box;top: 0;bottom: 0;left: 50%;z-index: 0;}#sk-container-id-1 div.sk-serial {display: flex;flex-direction: column;align-items: center;background-color: white;padding-right: 0.2em;padding-left: 0.2em;position: relative;}#sk-container-id-1 div.sk-item {position: relative;z-index: 1;}#sk-container-id-1 div.sk-parallel {display: flex;align-items: stretch;justify-content: center;background-color: white;position: relative;}#sk-container-id-1 div.sk-item::before, #sk-container-id-1 div.sk-parallel-item::before {content: \"\";position: absolute;border-left: 1px solid gray;box-sizing: border-box;top: 0;bottom: 0;left: 50%;z-index: -1;}#sk-container-id-1 div.sk-parallel-item {display: flex;flex-direction: column;z-index: 1;position: relative;background-color: white;}#sk-container-id-1 div.sk-parallel-item:first-child::after {align-self: flex-end;width: 50%;}#sk-container-id-1 div.sk-parallel-item:last-child::after {align-self: flex-start;width: 50%;}#sk-container-id-1 div.sk-parallel-item:only-child::after {width: 0;}#sk-container-id-1 div.sk-dashed-wrapped {border: 1px dashed gray;margin: 0 0.4em 0.5em 0.4em;box-sizing: border-box;padding-bottom: 0.4em;background-color: white;}#sk-container-id-1 div.sk-label label {font-family: monospace;font-weight: bold;display: inline-block;line-height: 1.2em;}#sk-container-id-1 div.sk-label-container {text-align: center;}#sk-container-id-1 div.sk-container {/* jupyter's `normalize.less` sets `[hidden] { display: none; }` but bootstrap.min.css set `[hidden] { display: none !important; }` so we also need the `!important` here to be able to override the default hidden behavior on the sphinx rendered scikit-learn.org. See: https://github.com/scikit-learn/scikit-learn/issues/21755 */display: inline-block !important;position: relative;}#sk-container-id-1 div.sk-text-repr-fallback {display: none;}</style><div id=\"sk-container-id-1\" class=\"sk-top-container\"><div class=\"sk-text-repr-fallback\"><pre>CountVectorizer(max_df=2, max_features=5000)</pre><b>In a Jupyter environment, please rerun this cell to show the HTML representation or trust the notebook. <br />On GitHub, the HTML representation is unable to render, please try loading this page with nbviewer.org.</b></div><div class=\"sk-container\" hidden><div class=\"sk-item\"><div class=\"sk-estimator sk-toggleable\"><input class=\"sk-toggleable__control sk-hidden--visually\" id=\"sk-estimator-id-1\" type=\"checkbox\" checked><label for=\"sk-estimator-id-1\" class=\"sk-toggleable__label sk-toggleable__label-arrow\">CountVectorizer</label><div class=\"sk-toggleable__content\"><pre>CountVectorizer(max_df=2, max_features=5000)</pre></div></div></div></div></div>"
     },
     "execution_count": 21,
     "metadata": {},
     "output_type": "execute_result"
    }
   ],
   "source": [
    "# Bag of words (BOW) matrix\n",
    "bow_vector = CountVectorizer(ngram_range=(1, 1), analyzer='word', max_features=5000, max_df=2, min_df=1)\n",
    "bow_vector.fit(X_train)"
   ],
   "metadata": {
    "collapsed": false,
    "pycharm": {
     "name": "#%%\n"
    }
   }
  },
  {
   "cell_type": "code",
   "execution_count": 22,
   "outputs": [],
   "source": [
    "pipe = Pipeline([('bow', bow_vector),\n",
    "                 ('tfidf', TfidfTransformer())]).fit(X_train)"
   ],
   "metadata": {
    "collapsed": false,
    "pycharm": {
     "name": "#%%\n"
    }
   }
  },
  {
   "cell_type": "code",
   "execution_count": 23,
   "outputs": [],
   "source": [
    "train_tfidf = pipe.transform(X_train)\n",
    "valid_tfidf = pipe.transform(X_test)"
   ],
   "metadata": {
    "collapsed": false,
    "pycharm": {
     "name": "#%%\n"
    }
   }
  },
  {
   "cell_type": "code",
   "execution_count": 24,
   "outputs": [
    {
     "name": "stdout",
     "output_type": "stream",
     "text": [
      "(34997, 5000) (15000, 5000)\n"
     ]
    }
   ],
   "source": [
    "print(train_tfidf.shape, valid_tfidf.shape)"
   ],
   "metadata": {
    "collapsed": false,
    "pycharm": {
     "name": "#%%\n"
    }
   }
  },
  {
   "cell_type": "code",
   "execution_count": 25,
   "outputs": [],
   "source": [
    "def lsa_reduction(X_train, X_test, n_comp=120):\n",
    "    svd = TruncatedSVD(n_components=n_comp)\n",
    "    normalizer = Normalizer()\n",
    "\n",
    "    lsa_pipe = Pipeline([('svd', svd),\n",
    "                         ('normalize', normalizer)]).fit(X_train)\n",
    "\n",
    "    train_reduced = lsa_pipe.transform(X_train)\n",
    "    test_reduced = lsa_pipe.transform(X_test)\n",
    "    return train_reduced, test_reduced\n",
    "\n",
    "def lsa_nmf_reduction(X_train, X_test, n_comp=120):\n",
    "    nmf = NMF(n_components=n_comp)\n",
    "    normalizer = Normalizer()\n",
    "\n",
    "    lsa_pipe = Pipeline([('nmf', nmf),\n",
    "                         ('normalize', normalizer)]).fit(X_train)\n",
    "\n",
    "    train_reduced = lsa_pipe.transform(X_train)\n",
    "    test_reduced = lsa_pipe.transform(X_test)\n",
    "    return train_reduced, test_reduced"
   ],
   "metadata": {
    "collapsed": false,
    "pycharm": {
     "name": "#%%\n"
    }
   }
  },
  {
   "cell_type": "code",
   "execution_count": 26,
   "outputs": [],
   "source": [
    "xtrain_svd, xtest_svd = lsa_reduction(train_tfidf, valid_tfidf, 2000)\n",
    "\n",
    "# NMF dimensionality function is called only for Multinomial Naive Bayes\n",
    "# xtrain_svd, xtest_svd = lsa_nmf_reduction(train_tfidf, valid_tfidf)"
   ],
   "metadata": {
    "collapsed": false,
    "pycharm": {
     "name": "#%%\n"
    }
   }
  },
  {
   "cell_type": "code",
   "execution_count": 27,
   "outputs": [
    {
     "data": {
      "text/plain": "array([[0., 0., 0., ..., 0., 0., 0.],\n       [0., 0., 0., ..., 0., 0., 0.],\n       [0., 0., 0., ..., 0., 0., 0.],\n       ...,\n       [0., 0., 0., ..., 0., 0., 0.],\n       [0., 0., 0., ..., 0., 0., 0.],\n       [0., 0., 0., ..., 0., 0., 0.]])"
     },
     "execution_count": 27,
     "metadata": {},
     "output_type": "execute_result"
    }
   ],
   "source": [
    "xtrain_svd"
   ],
   "metadata": {
    "collapsed": false,
    "pycharm": {
     "name": "#%%\n"
    }
   }
  },
  {
   "cell_type": "code",
   "execution_count": 28,
   "outputs": [
    {
     "data": {
      "text/plain": "array([[0., 0., 0., ..., 0., 0., 0.],\n       [0., 0., 0., ..., 0., 0., 0.],\n       [0., 0., 0., ..., 0., 0., 0.],\n       ...,\n       [0., 0., 0., ..., 0., 0., 0.],\n       [0., 0., 0., ..., 0., 0., 0.],\n       [0., 0., 0., ..., 0., 0., 0.]])"
     },
     "execution_count": 28,
     "metadata": {},
     "output_type": "execute_result"
    }
   ],
   "source": [
    "xtest_svd"
   ],
   "metadata": {
    "collapsed": false,
    "pycharm": {
     "name": "#%%\n"
    }
   }
  },
  {
   "cell_type": "markdown",
   "source": [
    "# 2. Building model"
   ],
   "metadata": {
    "collapsed": false,
    "pycharm": {
     "name": "#%% md\n"
    }
   }
  },
  {
   "cell_type": "code",
   "execution_count": 29,
   "outputs": [
    {
     "name": "stderr",
     "output_type": "stream",
     "text": [
      "\n",
      "KeyboardInterrupt\n",
      "\n"
     ]
    }
   ],
   "source": [
    "sgd = SGDClassifier(random_state=0,loss='log',alpha=0.01,penalty='elasticnet')\n",
    "lr = LogisticRegression(C=1.0)\n",
    "svc = SVC(kernel='linear')\n",
    "nb = MultinomialNB()\n",
    "\n",
    "# One vs Restclassifier\n",
    "orc_clf = OneVsRestClassifier(estimator=sgd).fit(xtrain_svd, y_train)"
   ],
   "metadata": {
    "collapsed": false,
    "pycharm": {
     "name": "#%%\n"
    }
   }
  },
  {
   "cell_type": "code",
   "execution_count": null,
   "outputs": [],
   "source": [
    "print(orc_clf.)"
   ],
   "metadata": {
    "collapsed": false,
    "pycharm": {
     "name": "#%%\n"
    }
   }
  },
  {
   "cell_type": "code",
   "execution_count": 28,
   "outputs": [
    {
     "name": "stdout",
     "output_type": "stream",
     "text": [
      "{'estimator__C': 1.0, 'estimator__break_ties': False, 'estimator__cache_size': 200, 'estimator__class_weight': None, 'estimator__coef0': 0.0, 'estimator__decision_function_shape': 'ovr', 'estimator__degree': 3, 'estimator__gamma': 'scale', 'estimator__kernel': 'linear', 'estimator__max_iter': -1, 'estimator__probability': False, 'estimator__random_state': None, 'estimator__shrinking': True, 'estimator__tol': 0.001, 'estimator__verbose': False, 'estimator': SVC(kernel='linear'), 'n_jobs': None, 'verbose': 0}\n"
     ]
    }
   ],
   "source": [
    "orc_clf.get_params()"
   ],
   "metadata": {
    "collapsed": false,
    "pycharm": {
     "name": "#%%\n"
    }
   }
  },
  {
   "cell_type": "code",
   "execution_count": 29,
   "outputs": [
    {
     "ename": "TypeError",
     "evalue": "score() missing 2 required positional arguments: 'X' and 'y'",
     "output_type": "error",
     "traceback": [
      "\u001B[0;31m---------------------------------------------------------------------------\u001B[0m",
      "\u001B[0;31mTypeError\u001B[0m                                 Traceback (most recent call last)",
      "Input \u001B[0;32mIn [29]\u001B[0m, in \u001B[0;36m<cell line: 1>\u001B[0;34m()\u001B[0m\n\u001B[0;32m----> 1\u001B[0m \u001B[43morc_clf\u001B[49m\u001B[38;5;241;43m.\u001B[39;49m\u001B[43mscore\u001B[49m\u001B[43m(\u001B[49m\u001B[43m)\u001B[49m\n",
      "\u001B[0;31mTypeError\u001B[0m: score() missing 2 required positional arguments: 'X' and 'y'"
     ]
    }
   ],
   "source": [
    "print(orc_clf.__getattribute__())"
   ],
   "metadata": {
    "collapsed": false,
    "pycharm": {
     "name": "#%%\n"
    }
   }
  },
  {
   "cell_type": "code",
   "execution_count": 30,
   "outputs": [],
   "source": [
    "# Predict the test data\n",
    "y_pred = orc_clf.predict(xtest_svd)"
   ],
   "metadata": {
    "collapsed": false,
    "pycharm": {
     "name": "#%%\n"
    }
   }
  },
  {
   "cell_type": "code",
   "execution_count": 31,
   "outputs": [
    {
     "name": "stdout",
     "output_type": "stream",
     "text": [
      "Accuracy: 0.001 \tPrecision: 0.001 \tRecall: 0.001 \tF1-Score: 0.001\n",
      "\n"
     ]
    }
   ],
   "source": [
    "print(\"Accuracy: %1.3f \\tPrecision: %1.3f \\tRecall: %1.3f \\tF1-Score: %1.3f\\n\" % (accuracy_score(y_test, y_pred),\n",
    "                                                                                  precision_score(y_test, y_pred, average='micro'),\n",
    "                                                                                  recall_score(y_test, y_pred, average='micro'),\n",
    "                                                                                  f1_score(y_test, y_pred, average='micro')))"
   ],
   "metadata": {
    "collapsed": false,
    "pycharm": {
     "name": "#%%\n"
    }
   }
  },
  {
   "cell_type": "code",
   "execution_count": null,
   "outputs": [],
   "source": [
    "#jaccard score\n",
    "# 1/ basic: transforme les donnes avec tfidf - que le titre ou titre + corpus\n",
    "# 2/ prendre tags uniquement les + freq\n",
    "#3/ ONEVSCLASSIFIER avec SGD,\n",
    "#4/ utiliser jaccard score\n",
    "\n",
    "#4/ tags - mettre sous forme de list\n",
    "\n",
    "#pour aller + loin:\n",
    "# effectuer une reduction"
   ],
   "metadata": {
    "collapsed": false,
    "pycharm": {
     "name": "#%%\n"
    }
   }
  },
  {
   "cell_type": "code",
   "execution_count": null,
   "outputs": [],
   "source": [
    "# RFE is popular because it is easy to configure and use and because it is effective at selecting those features (columns) in a training dataset that are more or most relevant in predicting the target variable.\n",
    "#\n",
    "# There are two important configuration options when using RFE: the choice in the number of features to select and the choice of the algorithm used to help choose features. Both of these hyperparameters can be explored, although the performance of the method is not strongly dependent on these hyperparameters being configured well.\n",
    "\n"
   ],
   "metadata": {
    "collapsed": false,
    "pycharm": {
     "name": "#%%\n"
    }
   }
  },
  {
   "cell_type": "code",
   "execution_count": null,
   "outputs": [],
   "source": [
    "#https://machinelearningmastery.com/rfe-feature-selection-in-python/\n",
    "\n",
    "# explore the algorithm wrapped by RFE\n",
    "from numpy import mean\n",
    "from numpy import std\n",
    "from sklearn.datasets import make_classification\n",
    "from sklearn.model_selection import cross_val_score\n",
    "from sklearn.model_selection import RepeatedStratifiedKFold\n",
    "from sklearn.feature_selection import RFE\n",
    "from sklearn.linear_model import LogisticRegression\n",
    "from sklearn.linear_model import Perceptron\n",
    "from sklearn.tree import DecisionTreeClassifier\n",
    "from sklearn.ensemble import RandomForestClassifier\n",
    "from sklearn.ensemble import GradientBoostingClassifier\n",
    "from sklearn.pipeline import Pipeline\n",
    "from matplotlib import pyplot\n",
    "\n",
    "# get the dataset\n",
    "def get_dataset():\n",
    "    X, y = make_classification(n_samples=1000, n_features=10, n_informative=5, n_redundant=5, random_state=1)\n",
    "    return X, y\n",
    "\n",
    "# get a list of models to evaluate\n",
    "def get_models():\n",
    "    models = dict()\n",
    "    # lr\n",
    "    rfe = RFE(estimator=LogisticRegression(), n_features_to_select=5)\n",
    "    model = DecisionTreeClassifier()\n",
    "    models['lr'] = Pipeline(steps=[('s',rfe),('m',model)])\n",
    "    # perceptron\n",
    "    rfe = RFE(estimator=Perceptron(), n_features_to_select=5)\n",
    "    model = DecisionTreeClassifier()\n",
    "    models['per'] = Pipeline(steps=[('s',rfe),('m',model)])\n",
    "    # cart\n",
    "    rfe = RFE(estimator=DecisionTreeClassifier(), n_features_to_select=5)\n",
    "    model = DecisionTreeClassifier()\n",
    "    models['cart'] = Pipeline(steps=[('s',rfe),('m',model)])\n",
    "    # rf\n",
    "    rfe = RFE(estimator=RandomForestClassifier(), n_features_to_select=5)\n",
    "    model = DecisionTreeClassifier()\n",
    "    models['rf'] = Pipeline(steps=[('s',rfe),('m',model)])\n",
    "    # gbm\n",
    "    rfe = RFE(estimator=GradientBoostingClassifier(), n_features_to_select=5)\n",
    "    model = DecisionTreeClassifier()\n",
    "    models['gbm'] = Pipeline(steps=[('s',rfe),('m',model)])\n",
    "    return models\n",
    "\n",
    "# evaluate a give model using cross-validation\n",
    "def evaluate_model(model, X, y):\n",
    "    cv = RepeatedStratifiedKFold(n_splits=10, n_repeats=3, random_state=1)\n",
    "    scores = cross_val_score(model, X, y, scoring='accuracy', cv=cv, n_jobs=-1)\n",
    "    return scores"
   ],
   "metadata": {
    "collapsed": false,
    "pycharm": {
     "name": "#%%\n"
    }
   }
  },
  {
   "cell_type": "code",
   "execution_count": null,
   "outputs": [],
   "source": [
    "# define dataset\n",
    "X, y = get_dataset()"
   ],
   "metadata": {
    "collapsed": false,
    "pycharm": {
     "name": "#%%\n"
    }
   }
  },
  {
   "cell_type": "code",
   "execution_count": null,
   "outputs": [],
   "source": [
    "# get the models to evaluate\n",
    "models = get_models()\n",
    "# evaluate the models and store results\n",
    "results, names = list(), list()\n",
    "for name, model in models.items():\n",
    "    scores = evaluate_model(model, X, y)\n",
    "    results.append(scores)\n",
    "    names.append(name)\n",
    "    print('>%s %.3f (%.3f)' % (name, mean(scores), std(scores)))\n",
    "# plot model performance for comparison\n",
    "pyplot.boxplot(results, labels=names, showmeans=True)\n",
    "pyplot.show()"
   ],
   "metadata": {
    "collapsed": false,
    "pycharm": {
     "name": "#%%\n"
    }
   }
  }
 ],
 "metadata": {
  "kernelspec": {
   "display_name": "Python 3",
   "language": "python",
   "name": "python3"
  },
  "language_info": {
   "codemirror_mode": {
    "name": "ipython",
    "version": 2
   },
   "file_extension": ".py",
   "mimetype": "text/x-python",
   "name": "python",
   "nbconvert_exporter": "python",
   "pygments_lexer": "ipython2",
   "version": "2.7.6"
  }
 },
 "nbformat": 4,
 "nbformat_minor": 0
}