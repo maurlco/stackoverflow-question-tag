{
 "cells": [
  {
   "cell_type": "markdown",
   "source": [
    "## General Information\n"
   ],
   "metadata": {
    "collapsed": false,
    "pycharm": {
     "name": "#%% md\n"
    }
   }
  },
  {
   "cell_type": "markdown",
   "source": [
    "This notebook aim to understand the dataset and perform early cleaning:\n"
   ],
   "metadata": {
    "collapsed": false,
    "pycharm": {
     "name": "#%% md\n"
    }
   }
  },
  {
   "cell_type": "code",
   "execution_count": 18,
   "metadata": {
    "collapsed": true,
    "pycharm": {
     "name": "#%%\n"
    }
   },
   "outputs": [],
   "source": [
    "import pandas as pd\n",
    "import numpy as np\n",
    "from collections import defaultdict\n",
    "import seaborn as sns\n",
    "import nltk\n",
    "from nltk.tokenize import word_tokenize,wordpunct_tokenize\n",
    "from nltk.corpus import words\n",
    "\n",
    "from nltk.stem import WordNetLemmatizer\n",
    "\n",
    "from pandarallel import pandarallel\n",
    "from bs4 import BeautifulSoup"
   ]
  },
  {
   "cell_type": "code",
   "execution_count": 3,
   "outputs": [
    {
     "name": "stdout",
     "output_type": "stream",
     "text": [
      "INFO: Pandarallel will run on 6 workers.\n",
      "INFO: Pandarallel will use standard multiprocessing data transfer (pipe) to transfer data between the main process and workers.\n"
     ]
    }
   ],
   "source": [
    "pandarallel.initialize(progress_bar=True,\n",
    "                        nb_workers=6,\n",
    "                        #verbose=1\n",
    "                       )"
   ],
   "metadata": {
    "collapsed": false,
    "pycharm": {
     "name": "#%%\n"
    }
   }
  },
  {
   "cell_type": "code",
   "execution_count": 2,
   "outputs": [],
   "source": [
    "df = pd.read_csv('/Users/maurelco/Developer/Python/Projet 4/data/Source/QueryResults-3.csv')"
   ],
   "metadata": {
    "collapsed": false,
    "pycharm": {
     "name": "#%%\n"
    }
   }
  },
  {
   "cell_type": "code",
   "execution_count": 4,
   "outputs": [
    {
     "data": {
      "text/plain": "             Id                                              Title  \\\n0       4019784  Giving a unix process exclusive RW access to a...   \n1       4219547           automatic repaint when minimizing window   \n2       4529530  Is man-in-the-middle attack a security threat ...   \n3       4529565      Managing data access in a simple WinForms app   \n4       4529586                            Render basic HTML view?   \n...         ...                                                ...   \n49995  68396411  Bypass Vertica ERROR 3326: Execution time exce...   \n49996  68396463  A conflicting conditional operation is current...   \n49997  68396513      Problem in lr_find() in Pytorch fastai course   \n49998  68396523     JSONPatch escape slash '/' from JSONPatch+JSON   \n49999  52943256  org.gradle.internal.resolve.ArtifactNotFoundEx...   \n\n                                                    Body  \\\n0      <p>Is there a way to sandbox a linux process i...   \n1      <p>I have a JFrame, with two panels, in one pa...   \n2      <p>I am no expert in network security, so pard...   \n3      <p>I have a simple WinForms data entry app tha...   \n4      <p>I have a basic Node.js app that I am trying...   \n...                                                  ...   \n49995  <p>Using the <code>SSIS</code> tool and <code>...   \n49996  <p>Using s3fs, I am uploading a file to the al...   \n49997  <p>While following the Jupyter notebooks for t...   \n49998  <p>I've below JSON and I wanted to update few ...   \n49999  <p>I am using <code>15.0.1</code> version of F...   \n\n                                                    Tags  Score  ViewCount  \\\n0             <linux><ubuntu><process><sandbox><selinux>      2        406   \n1                <java><graphics><jframe><jpanel><paint>      1       4225   \n2      <security><ssh><ssh-keys><openssh><man-in-the-...     11      10589   \n3       <c#><winforms><sqlite><datatable><sqlconnection>      0       1670   \n4          <javascript><html><node.js><mongodb><express>    316     516830   \n...                                                  ...    ...        ...   \n49995  <sql-server><ssas><oledb><sql-server-data-tool...      0        734   \n49996  <python><amazon-web-services><amazon-s3><boto3...      0        670   \n49997  <python><machine-learning><deep-learning><pyto...      4       1260   \n49998         <java><json><rest><json-patch><http-patch>      1        509   \n49999  <android><android-studio><android-gradle-plugi...      5       7391   \n\n       FavoriteCount  AnswerCount  \n0                0.0            4  \n1                NaN            3  \n2                0.0            2  \n3                NaN            1  \n4                0.0           31  \n...              ...          ...  \n49995            NaN            1  \n49996            NaN            2  \n49997            NaN            1  \n49998            0.0            1  \n49999            0.0            4  \n\n[50000 rows x 8 columns]",
      "text/html": "<div>\n<style scoped>\n    .dataframe tbody tr th:only-of-type {\n        vertical-align: middle;\n    }\n\n    .dataframe tbody tr th {\n        vertical-align: top;\n    }\n\n    .dataframe thead th {\n        text-align: right;\n    }\n</style>\n<table border=\"1\" class=\"dataframe\">\n  <thead>\n    <tr style=\"text-align: right;\">\n      <th></th>\n      <th>Id</th>\n      <th>Title</th>\n      <th>Body</th>\n      <th>Tags</th>\n      <th>Score</th>\n      <th>ViewCount</th>\n      <th>FavoriteCount</th>\n      <th>AnswerCount</th>\n    </tr>\n  </thead>\n  <tbody>\n    <tr>\n      <th>0</th>\n      <td>4019784</td>\n      <td>Giving a unix process exclusive RW access to a...</td>\n      <td>&lt;p&gt;Is there a way to sandbox a linux process i...</td>\n      <td>&lt;linux&gt;&lt;ubuntu&gt;&lt;process&gt;&lt;sandbox&gt;&lt;selinux&gt;</td>\n      <td>2</td>\n      <td>406</td>\n      <td>0.0</td>\n      <td>4</td>\n    </tr>\n    <tr>\n      <th>1</th>\n      <td>4219547</td>\n      <td>automatic repaint when minimizing window</td>\n      <td>&lt;p&gt;I have a JFrame, with two panels, in one pa...</td>\n      <td>&lt;java&gt;&lt;graphics&gt;&lt;jframe&gt;&lt;jpanel&gt;&lt;paint&gt;</td>\n      <td>1</td>\n      <td>4225</td>\n      <td>NaN</td>\n      <td>3</td>\n    </tr>\n    <tr>\n      <th>2</th>\n      <td>4529530</td>\n      <td>Is man-in-the-middle attack a security threat ...</td>\n      <td>&lt;p&gt;I am no expert in network security, so pard...</td>\n      <td>&lt;security&gt;&lt;ssh&gt;&lt;ssh-keys&gt;&lt;openssh&gt;&lt;man-in-the-...</td>\n      <td>11</td>\n      <td>10589</td>\n      <td>0.0</td>\n      <td>2</td>\n    </tr>\n    <tr>\n      <th>3</th>\n      <td>4529565</td>\n      <td>Managing data access in a simple WinForms app</td>\n      <td>&lt;p&gt;I have a simple WinForms data entry app tha...</td>\n      <td>&lt;c#&gt;&lt;winforms&gt;&lt;sqlite&gt;&lt;datatable&gt;&lt;sqlconnection&gt;</td>\n      <td>0</td>\n      <td>1670</td>\n      <td>NaN</td>\n      <td>1</td>\n    </tr>\n    <tr>\n      <th>4</th>\n      <td>4529586</td>\n      <td>Render basic HTML view?</td>\n      <td>&lt;p&gt;I have a basic Node.js app that I am trying...</td>\n      <td>&lt;javascript&gt;&lt;html&gt;&lt;node.js&gt;&lt;mongodb&gt;&lt;express&gt;</td>\n      <td>316</td>\n      <td>516830</td>\n      <td>0.0</td>\n      <td>31</td>\n    </tr>\n    <tr>\n      <th>...</th>\n      <td>...</td>\n      <td>...</td>\n      <td>...</td>\n      <td>...</td>\n      <td>...</td>\n      <td>...</td>\n      <td>...</td>\n      <td>...</td>\n    </tr>\n    <tr>\n      <th>49995</th>\n      <td>68396411</td>\n      <td>Bypass Vertica ERROR 3326: Execution time exce...</td>\n      <td>&lt;p&gt;Using the &lt;code&gt;SSIS&lt;/code&gt; tool and &lt;code&gt;...</td>\n      <td>&lt;sql-server&gt;&lt;ssas&gt;&lt;oledb&gt;&lt;sql-server-data-tool...</td>\n      <td>0</td>\n      <td>734</td>\n      <td>NaN</td>\n      <td>1</td>\n    </tr>\n    <tr>\n      <th>49996</th>\n      <td>68396463</td>\n      <td>A conflicting conditional operation is current...</td>\n      <td>&lt;p&gt;Using s3fs, I am uploading a file to the al...</td>\n      <td>&lt;python&gt;&lt;amazon-web-services&gt;&lt;amazon-s3&gt;&lt;boto3...</td>\n      <td>0</td>\n      <td>670</td>\n      <td>NaN</td>\n      <td>2</td>\n    </tr>\n    <tr>\n      <th>49997</th>\n      <td>68396513</td>\n      <td>Problem in lr_find() in Pytorch fastai course</td>\n      <td>&lt;p&gt;While following the Jupyter notebooks for t...</td>\n      <td>&lt;python&gt;&lt;machine-learning&gt;&lt;deep-learning&gt;&lt;pyto...</td>\n      <td>4</td>\n      <td>1260</td>\n      <td>NaN</td>\n      <td>1</td>\n    </tr>\n    <tr>\n      <th>49998</th>\n      <td>68396523</td>\n      <td>JSONPatch escape slash '/' from JSONPatch+JSON</td>\n      <td>&lt;p&gt;I've below JSON and I wanted to update few ...</td>\n      <td>&lt;java&gt;&lt;json&gt;&lt;rest&gt;&lt;json-patch&gt;&lt;http-patch&gt;</td>\n      <td>1</td>\n      <td>509</td>\n      <td>0.0</td>\n      <td>1</td>\n    </tr>\n    <tr>\n      <th>49999</th>\n      <td>52943256</td>\n      <td>org.gradle.internal.resolve.ArtifactNotFoundEx...</td>\n      <td>&lt;p&gt;I am using &lt;code&gt;15.0.1&lt;/code&gt; version of F...</td>\n      <td>&lt;android&gt;&lt;android-studio&gt;&lt;android-gradle-plugi...</td>\n      <td>5</td>\n      <td>7391</td>\n      <td>0.0</td>\n      <td>4</td>\n    </tr>\n  </tbody>\n</table>\n<p>50000 rows × 8 columns</p>\n</div>"
     },
     "execution_count": 4,
     "metadata": {},
     "output_type": "execute_result"
    }
   ],
   "source": [
    "df"
   ],
   "metadata": {
    "collapsed": false,
    "pycharm": {
     "name": "#%%\n"
    }
   }
  },
  {
   "cell_type": "markdown",
   "source": [
    "### 1. Data cleaning"
   ],
   "metadata": {
    "collapsed": false,
    "pycharm": {
     "name": "#%% md\n"
    }
   }
  },
  {
   "cell_type": "markdown",
   "source": [
    "#### 1.1 NaN values"
   ],
   "metadata": {
    "collapsed": false,
    "pycharm": {
     "name": "#%% md\n"
    }
   }
  },
  {
   "cell_type": "code",
   "execution_count": 5,
   "outputs": [
    {
     "data": {
      "text/plain": "Id               50000\nTitle            49999\nBody             50000\nTags             48824\nScore              416\nViewCount        12679\nFavoriteCount        2\nAnswerCount         50\ndtype: int64"
     },
     "execution_count": 5,
     "metadata": {},
     "output_type": "execute_result"
    }
   ],
   "source": [
    "df.nunique()"
   ],
   "metadata": {
    "collapsed": false,
    "pycharm": {
     "name": "#%%\n"
    }
   }
  },
  {
   "cell_type": "code",
   "execution_count": 6,
   "outputs": [
    {
     "data": {
      "text/plain": "Id                   0\nTitle                0\nBody                 0\nTags                 0\nScore                0\nViewCount            0\nFavoriteCount    28965\nAnswerCount          0\ndtype: int64"
     },
     "execution_count": 6,
     "metadata": {},
     "output_type": "execute_result"
    }
   ],
   "source": [
    "df.isna().sum()"
   ],
   "metadata": {
    "collapsed": false,
    "pycharm": {
     "name": "#%%\n"
    }
   }
  },
  {
   "cell_type": "code",
   "execution_count": 6,
   "outputs": [
    {
     "data": {
      "text/plain": "Id               0.0000\nTitle            0.0000\nBody             0.0000\nTags             0.0000\nScore            0.0000\nViewCount        0.0000\nFavoriteCount    0.5793\nAnswerCount      0.0000\ndtype: float64"
     },
     "execution_count": 6,
     "metadata": {},
     "output_type": "execute_result"
    }
   ],
   "source": [
    "df.isna().mean()"
   ],
   "metadata": {
    "collapsed": false,
    "pycharm": {
     "name": "#%%\n"
    }
   }
  },
  {
   "cell_type": "markdown",
   "source": [
    "#### 1.2 Duplicated values"
   ],
   "metadata": {
    "collapsed": false,
    "pycharm": {
     "name": "#%% md\n"
    }
   }
  },
  {
   "cell_type": "code",
   "execution_count": 7,
   "outputs": [
    {
     "data": {
      "text/plain": "0"
     },
     "execution_count": 7,
     "metadata": {},
     "output_type": "execute_result"
    }
   ],
   "source": [
    "df.duplicated().sum()"
   ],
   "metadata": {
    "collapsed": false,
    "pycharm": {
     "name": "#%%\n"
    }
   }
  },
  {
   "cell_type": "code",
   "execution_count": 8,
   "outputs": [
    {
     "data": {
      "text/plain": "0"
     },
     "execution_count": 8,
     "metadata": {},
     "output_type": "execute_result"
    }
   ],
   "source": [
    "df.duplicated(subset='Body').sum()"
   ],
   "metadata": {
    "collapsed": false,
    "pycharm": {
     "name": "#%%\n"
    }
   }
  },
  {
   "cell_type": "markdown",
   "source": [
    "#### 1.3 Selection of important features"
   ],
   "metadata": {
    "collapsed": false,
    "pycharm": {
     "name": "#%% md\n"
    }
   }
  },
  {
   "cell_type": "code",
   "execution_count": 9,
   "outputs": [
    {
     "data": {
      "text/plain": "Id                 int64\nTitle             object\nBody              object\nTags              object\nScore              int64\nViewCount          int64\nFavoriteCount    float64\nAnswerCount        int64\ndtype: object"
     },
     "execution_count": 9,
     "metadata": {},
     "output_type": "execute_result"
    }
   ],
   "source": [
    "tmp= df.dtypes\n",
    "tmp"
   ],
   "metadata": {
    "collapsed": false,
    "pycharm": {
     "name": "#%%\n"
    }
   }
  },
  {
   "cell_type": "code",
   "execution_count": 10,
   "outputs": [
    {
     "data": {
      "text/plain": "                                               Title  \\\n0  Giving a unix process exclusive RW access to a...   \n1           automatic repaint when minimizing window   \n2  Is man-in-the-middle attack a security threat ...   \n3      Managing data access in a simple WinForms app   \n4                            Render basic HTML view?   \n\n                                                Body  \\\n0  <p>Is there a way to sandbox a linux process i...   \n1  <p>I have a JFrame, with two panels, in one pa...   \n2  <p>I am no expert in network security, so pard...   \n3  <p>I have a simple WinForms data entry app tha...   \n4  <p>I have a basic Node.js app that I am trying...   \n\n                                                Tags  \n0         <linux><ubuntu><process><sandbox><selinux>  \n1            <java><graphics><jframe><jpanel><paint>  \n2  <security><ssh><ssh-keys><openssh><man-in-the-...  \n3   <c#><winforms><sqlite><datatable><sqlconnection>  \n4      <javascript><html><node.js><mongodb><express>  ",
      "text/html": "<div>\n<style scoped>\n    .dataframe tbody tr th:only-of-type {\n        vertical-align: middle;\n    }\n\n    .dataframe tbody tr th {\n        vertical-align: top;\n    }\n\n    .dataframe thead th {\n        text-align: right;\n    }\n</style>\n<table border=\"1\" class=\"dataframe\">\n  <thead>\n    <tr style=\"text-align: right;\">\n      <th></th>\n      <th>Title</th>\n      <th>Body</th>\n      <th>Tags</th>\n    </tr>\n  </thead>\n  <tbody>\n    <tr>\n      <th>0</th>\n      <td>Giving a unix process exclusive RW access to a...</td>\n      <td>&lt;p&gt;Is there a way to sandbox a linux process i...</td>\n      <td>&lt;linux&gt;&lt;ubuntu&gt;&lt;process&gt;&lt;sandbox&gt;&lt;selinux&gt;</td>\n    </tr>\n    <tr>\n      <th>1</th>\n      <td>automatic repaint when minimizing window</td>\n      <td>&lt;p&gt;I have a JFrame, with two panels, in one pa...</td>\n      <td>&lt;java&gt;&lt;graphics&gt;&lt;jframe&gt;&lt;jpanel&gt;&lt;paint&gt;</td>\n    </tr>\n    <tr>\n      <th>2</th>\n      <td>Is man-in-the-middle attack a security threat ...</td>\n      <td>&lt;p&gt;I am no expert in network security, so pard...</td>\n      <td>&lt;security&gt;&lt;ssh&gt;&lt;ssh-keys&gt;&lt;openssh&gt;&lt;man-in-the-...</td>\n    </tr>\n    <tr>\n      <th>3</th>\n      <td>Managing data access in a simple WinForms app</td>\n      <td>&lt;p&gt;I have a simple WinForms data entry app tha...</td>\n      <td>&lt;c#&gt;&lt;winforms&gt;&lt;sqlite&gt;&lt;datatable&gt;&lt;sqlconnection&gt;</td>\n    </tr>\n    <tr>\n      <th>4</th>\n      <td>Render basic HTML view?</td>\n      <td>&lt;p&gt;I have a basic Node.js app that I am trying...</td>\n      <td>&lt;javascript&gt;&lt;html&gt;&lt;node.js&gt;&lt;mongodb&gt;&lt;express&gt;</td>\n    </tr>\n  </tbody>\n</table>\n</div>"
     },
     "execution_count": 10,
     "metadata": {},
     "output_type": "execute_result"
    }
   ],
   "source": [
    "cols = ['Title','Body','Tags']\n",
    "df = df[cols]\n",
    "df.head(5)"
   ],
   "metadata": {
    "collapsed": false,
    "pycharm": {
     "name": "#%%\n"
    }
   }
  },
  {
   "cell_type": "markdown",
   "source": [
    "#### 1.4 Delete HTML and Lower text"
   ],
   "metadata": {
    "collapsed": false,
    "pycharm": {
     "name": "#%% md\n"
    }
   }
  },
  {
   "cell_type": "code",
   "execution_count": 11,
   "outputs": [
    {
     "data": {
      "text/plain": "                                               Title  \\\n0  Giving a unix process exclusive RW access to a...   \n1           automatic repaint when minimizing window   \n2  Is man-in-the-middle attack a security threat ...   \n3      Managing data access in a simple WinForms app   \n4                            Render basic HTML view?   \n5  How to use nested-subfloders routing in nodejs...   \n6  Using generics to process asp.net form request...   \n7  Simple SELECT(*) queries very slow in Apache I...   \n8  MS SQL Server optimizer and varying table and ...   \n9                     How to wait for process child?   \n\n                                                Body  \\\n0  is there a way to sandbox a linux process into...   \n1  i have a jframe, with two panels, in one panel...   \n2  i am no expert in network security, so pardon ...   \n3  i have a simple winforms data entry app that u...   \n4  i have a basic node.js app that i am trying to...   \n5  i am working on a node project using express. ...   \n6  using jquery to post values back to an asp.net...   \n7  i'm prototyping apache ignite for use in a new...   \n8  we have a lot of queries for which we append a...   \n9  i do the usual fork + exec combination:\\nint s...   \n\n                                                Tags  \n0         <linux><ubuntu><process><sandbox><selinux>  \n1            <java><graphics><jframe><jpanel><paint>  \n2  <security><ssh><ssh-keys><openssh><man-in-the-...  \n3   <c#><winforms><sqlite><datatable><sqlconnection>  \n4      <javascript><html><node.js><mongodb><express>  \n5  <node.js><express><routes><nested-routes><modu...  \n6      <c#><asp.net><generics><reflection><webforms>  \n7  <sql><performance><key-value><ignite><in-memor...  \n8  <sql><sql-server><sql-server-2005><tsql><query...  \n9                   <linux><posix><exec><fork><wait>  ",
      "text/html": "<div>\n<style scoped>\n    .dataframe tbody tr th:only-of-type {\n        vertical-align: middle;\n    }\n\n    .dataframe tbody tr th {\n        vertical-align: top;\n    }\n\n    .dataframe thead th {\n        text-align: right;\n    }\n</style>\n<table border=\"1\" class=\"dataframe\">\n  <thead>\n    <tr style=\"text-align: right;\">\n      <th></th>\n      <th>Title</th>\n      <th>Body</th>\n      <th>Tags</th>\n    </tr>\n  </thead>\n  <tbody>\n    <tr>\n      <th>0</th>\n      <td>Giving a unix process exclusive RW access to a...</td>\n      <td>is there a way to sandbox a linux process into...</td>\n      <td>&lt;linux&gt;&lt;ubuntu&gt;&lt;process&gt;&lt;sandbox&gt;&lt;selinux&gt;</td>\n    </tr>\n    <tr>\n      <th>1</th>\n      <td>automatic repaint when minimizing window</td>\n      <td>i have a jframe, with two panels, in one panel...</td>\n      <td>&lt;java&gt;&lt;graphics&gt;&lt;jframe&gt;&lt;jpanel&gt;&lt;paint&gt;</td>\n    </tr>\n    <tr>\n      <th>2</th>\n      <td>Is man-in-the-middle attack a security threat ...</td>\n      <td>i am no expert in network security, so pardon ...</td>\n      <td>&lt;security&gt;&lt;ssh&gt;&lt;ssh-keys&gt;&lt;openssh&gt;&lt;man-in-the-...</td>\n    </tr>\n    <tr>\n      <th>3</th>\n      <td>Managing data access in a simple WinForms app</td>\n      <td>i have a simple winforms data entry app that u...</td>\n      <td>&lt;c#&gt;&lt;winforms&gt;&lt;sqlite&gt;&lt;datatable&gt;&lt;sqlconnection&gt;</td>\n    </tr>\n    <tr>\n      <th>4</th>\n      <td>Render basic HTML view?</td>\n      <td>i have a basic node.js app that i am trying to...</td>\n      <td>&lt;javascript&gt;&lt;html&gt;&lt;node.js&gt;&lt;mongodb&gt;&lt;express&gt;</td>\n    </tr>\n    <tr>\n      <th>5</th>\n      <td>How to use nested-subfloders routing in nodejs...</td>\n      <td>i am working on a node project using express. ...</td>\n      <td>&lt;node.js&gt;&lt;express&gt;&lt;routes&gt;&lt;nested-routes&gt;&lt;modu...</td>\n    </tr>\n    <tr>\n      <th>6</th>\n      <td>Using generics to process asp.net form request...</td>\n      <td>using jquery to post values back to an asp.net...</td>\n      <td>&lt;c#&gt;&lt;asp.net&gt;&lt;generics&gt;&lt;reflection&gt;&lt;webforms&gt;</td>\n    </tr>\n    <tr>\n      <th>7</th>\n      <td>Simple SELECT(*) queries very slow in Apache I...</td>\n      <td>i'm prototyping apache ignite for use in a new...</td>\n      <td>&lt;sql&gt;&lt;performance&gt;&lt;key-value&gt;&lt;ignite&gt;&lt;in-memor...</td>\n    </tr>\n    <tr>\n      <th>8</th>\n      <td>MS SQL Server optimizer and varying table and ...</td>\n      <td>we have a lot of queries for which we append a...</td>\n      <td>&lt;sql&gt;&lt;sql-server&gt;&lt;sql-server-2005&gt;&lt;tsql&gt;&lt;query...</td>\n    </tr>\n    <tr>\n      <th>9</th>\n      <td>How to wait for process child?</td>\n      <td>i do the usual fork + exec combination:\\nint s...</td>\n      <td>&lt;linux&gt;&lt;posix&gt;&lt;exec&gt;&lt;fork&gt;&lt;wait&gt;</td>\n    </tr>\n  </tbody>\n</table>\n</div>"
     },
     "execution_count": 11,
     "metadata": {},
     "output_type": "execute_result"
    }
   ],
   "source": [
    "df['Body']= df['Body'].apply(lambda x: (BeautifulSoup(x).get_text()).lower())\n",
    "df.head(10)"
   ],
   "metadata": {
    "collapsed": false,
    "pycharm": {
     "name": "#%%\n"
    }
   }
  },
  {
   "cell_type": "code",
   "execution_count": 12,
   "outputs": [
    {
     "data": {
      "text/plain": "                                               Title  \\\n0  giving a unix process exclusive rw access to a...   \n1           automatic repaint when minimizing window   \n2  is man-in-the-middle attack a security threat ...   \n3      managing data access in a simple winforms app   \n4                            render basic html view?   \n5  how to use nested-subfloders routing in nodejs...   \n6  using generics to process asp.net form request...   \n7  simple select(*) queries very slow in apache i...   \n8  ms sql server optimizer and varying table and ...   \n9                     how to wait for process child?   \n\n                                                Body  \\\n0  is there a way to sandbox a linux process into...   \n1  i have a jframe, with two panels, in one panel...   \n2  i am no expert in network security, so pardon ...   \n3  i have a simple winforms data entry app that u...   \n4  i have a basic node.js app that i am trying to...   \n5  i am working on a node project using express. ...   \n6  using jquery to post values back to an asp.net...   \n7  i'm prototyping apache ignite for use in a new...   \n8  we have a lot of queries for which we append a...   \n9  i do the usual fork + exec combination:\\nint s...   \n\n                                                Tags  \n0         <linux><ubuntu><process><sandbox><selinux>  \n1            <java><graphics><jframe><jpanel><paint>  \n2  <security><ssh><ssh-keys><openssh><man-in-the-...  \n3   <c#><winforms><sqlite><datatable><sqlconnection>  \n4      <javascript><html><node.js><mongodb><express>  \n5  <node.js><express><routes><nested-routes><modu...  \n6      <c#><asp.net><generics><reflection><webforms>  \n7  <sql><performance><key-value><ignite><in-memor...  \n8  <sql><sql-server><sql-server-2005><tsql><query...  \n9                   <linux><posix><exec><fork><wait>  ",
      "text/html": "<div>\n<style scoped>\n    .dataframe tbody tr th:only-of-type {\n        vertical-align: middle;\n    }\n\n    .dataframe tbody tr th {\n        vertical-align: top;\n    }\n\n    .dataframe thead th {\n        text-align: right;\n    }\n</style>\n<table border=\"1\" class=\"dataframe\">\n  <thead>\n    <tr style=\"text-align: right;\">\n      <th></th>\n      <th>Title</th>\n      <th>Body</th>\n      <th>Tags</th>\n    </tr>\n  </thead>\n  <tbody>\n    <tr>\n      <th>0</th>\n      <td>giving a unix process exclusive rw access to a...</td>\n      <td>is there a way to sandbox a linux process into...</td>\n      <td>&lt;linux&gt;&lt;ubuntu&gt;&lt;process&gt;&lt;sandbox&gt;&lt;selinux&gt;</td>\n    </tr>\n    <tr>\n      <th>1</th>\n      <td>automatic repaint when minimizing window</td>\n      <td>i have a jframe, with two panels, in one panel...</td>\n      <td>&lt;java&gt;&lt;graphics&gt;&lt;jframe&gt;&lt;jpanel&gt;&lt;paint&gt;</td>\n    </tr>\n    <tr>\n      <th>2</th>\n      <td>is man-in-the-middle attack a security threat ...</td>\n      <td>i am no expert in network security, so pardon ...</td>\n      <td>&lt;security&gt;&lt;ssh&gt;&lt;ssh-keys&gt;&lt;openssh&gt;&lt;man-in-the-...</td>\n    </tr>\n    <tr>\n      <th>3</th>\n      <td>managing data access in a simple winforms app</td>\n      <td>i have a simple winforms data entry app that u...</td>\n      <td>&lt;c#&gt;&lt;winforms&gt;&lt;sqlite&gt;&lt;datatable&gt;&lt;sqlconnection&gt;</td>\n    </tr>\n    <tr>\n      <th>4</th>\n      <td>render basic html view?</td>\n      <td>i have a basic node.js app that i am trying to...</td>\n      <td>&lt;javascript&gt;&lt;html&gt;&lt;node.js&gt;&lt;mongodb&gt;&lt;express&gt;</td>\n    </tr>\n    <tr>\n      <th>5</th>\n      <td>how to use nested-subfloders routing in nodejs...</td>\n      <td>i am working on a node project using express. ...</td>\n      <td>&lt;node.js&gt;&lt;express&gt;&lt;routes&gt;&lt;nested-routes&gt;&lt;modu...</td>\n    </tr>\n    <tr>\n      <th>6</th>\n      <td>using generics to process asp.net form request...</td>\n      <td>using jquery to post values back to an asp.net...</td>\n      <td>&lt;c#&gt;&lt;asp.net&gt;&lt;generics&gt;&lt;reflection&gt;&lt;webforms&gt;</td>\n    </tr>\n    <tr>\n      <th>7</th>\n      <td>simple select(*) queries very slow in apache i...</td>\n      <td>i'm prototyping apache ignite for use in a new...</td>\n      <td>&lt;sql&gt;&lt;performance&gt;&lt;key-value&gt;&lt;ignite&gt;&lt;in-memor...</td>\n    </tr>\n    <tr>\n      <th>8</th>\n      <td>ms sql server optimizer and varying table and ...</td>\n      <td>we have a lot of queries for which we append a...</td>\n      <td>&lt;sql&gt;&lt;sql-server&gt;&lt;sql-server-2005&gt;&lt;tsql&gt;&lt;query...</td>\n    </tr>\n    <tr>\n      <th>9</th>\n      <td>how to wait for process child?</td>\n      <td>i do the usual fork + exec combination:\\nint s...</td>\n      <td>&lt;linux&gt;&lt;posix&gt;&lt;exec&gt;&lt;fork&gt;&lt;wait&gt;</td>\n    </tr>\n  </tbody>\n</table>\n</div>"
     },
     "execution_count": 12,
     "metadata": {},
     "output_type": "execute_result"
    }
   ],
   "source": [
    "df['Title']= df['Title'].apply(lambda x: x.lower())\n",
    "df.head(10)"
   ],
   "metadata": {
    "collapsed": false,
    "pycharm": {
     "name": "#%%\n"
    }
   }
  },
  {
   "cell_type": "code",
   "execution_count": 13,
   "outputs": [
    {
     "data": {
      "text/plain": "\"why 0/0 is nan but 0/0.00 isn't\""
     },
     "execution_count": 13,
     "metadata": {},
     "output_type": "execute_result"
    }
   ],
   "source": [
    "df['Title'][37847]"
   ],
   "metadata": {
    "collapsed": false,
    "pycharm": {
     "name": "#%%\n"
    }
   }
  },
  {
   "cell_type": "markdown",
   "source": [
    "##### ... Saving the cleaned dataset ..."
   ],
   "metadata": {
    "collapsed": false,
    "pycharm": {
     "name": "#%% md\n"
    }
   }
  },
  {
   "cell_type": "code",
   "execution_count": 8,
   "outputs": [],
   "source": [
    "df.to_csv(\"data/cleaned/df_cleaned.csv\", index= False)"
   ],
   "metadata": {
    "collapsed": false,
    "pycharm": {
     "name": "#%%\n"
    }
   }
  },
  {
   "cell_type": "markdown",
   "source": [
    "##### ... cleaned dataset saved ..."
   ],
   "metadata": {
    "collapsed": false,
    "pycharm": {
     "name": "#%% md\n"
    }
   }
  },
  {
   "cell_type": "markdown",
   "source": [
    "#### 1.4 Analysis of the words frequency"
   ],
   "metadata": {
    "collapsed": false,
    "pycharm": {
     "name": "#%% md\n"
    }
   }
  },
  {
   "cell_type": "code",
   "execution_count": 14,
   "outputs": [
    {
     "ename": "ValueError",
     "evalue": "No objects to concatenate",
     "output_type": "error",
     "traceback": [
      "\u001B[0;31m---------------------------------------------------------------------------\u001B[0m",
      "\u001B[0;31mValueError\u001B[0m                                Traceback (most recent call last)",
      "Cell \u001B[0;32mIn[14], line 1\u001B[0m\n\u001B[0;32m----> 1\u001B[0m \u001B[43mdf\u001B[49m\u001B[38;5;241;43m.\u001B[39;49m\u001B[43mdescribe\u001B[49m\u001B[43m(\u001B[49m\u001B[43minclude\u001B[49m\u001B[38;5;241;43m=\u001B[39;49m\u001B[43mnp\u001B[49m\u001B[38;5;241;43m.\u001B[39;49m\u001B[43mnumber\u001B[49m\u001B[43m)\u001B[49m\n",
      "File \u001B[0;32m~/miniconda3/envs/tensorflow_2/lib/python3.10/site-packages/pandas/core/generic.py:10940\u001B[0m, in \u001B[0;36mNDFrame.describe\u001B[0;34m(self, percentiles, include, exclude, datetime_is_numeric)\u001B[0m\n\u001B[1;32m  10691\u001B[0m \u001B[38;5;129m@final\u001B[39m\n\u001B[1;32m  10692\u001B[0m \u001B[38;5;28;01mdef\u001B[39;00m \u001B[38;5;21mdescribe\u001B[39m(\n\u001B[1;32m  10693\u001B[0m     \u001B[38;5;28mself\u001B[39m: NDFrameT,\n\u001B[0;32m   (...)\u001B[0m\n\u001B[1;32m  10697\u001B[0m     datetime_is_numeric: bool_t \u001B[38;5;241m=\u001B[39m \u001B[38;5;28;01mFalse\u001B[39;00m,\n\u001B[1;32m  10698\u001B[0m ) \u001B[38;5;241m-\u001B[39m\u001B[38;5;241m>\u001B[39m NDFrameT:\n\u001B[1;32m  10699\u001B[0m \u001B[38;5;250m    \u001B[39m\u001B[38;5;124;03m\"\"\"\u001B[39;00m\n\u001B[1;32m  10700\u001B[0m \u001B[38;5;124;03m    Generate descriptive statistics.\u001B[39;00m\n\u001B[1;32m  10701\u001B[0m \n\u001B[0;32m   (...)\u001B[0m\n\u001B[1;32m  10938\u001B[0m \u001B[38;5;124;03m    max            NaN      3.0\u001B[39;00m\n\u001B[1;32m  10939\u001B[0m \u001B[38;5;124;03m    \"\"\"\u001B[39;00m\n\u001B[0;32m> 10940\u001B[0m     \u001B[38;5;28;01mreturn\u001B[39;00m \u001B[43mdescribe_ndframe\u001B[49m\u001B[43m(\u001B[49m\n\u001B[1;32m  10941\u001B[0m \u001B[43m        \u001B[49m\u001B[43mobj\u001B[49m\u001B[38;5;241;43m=\u001B[39;49m\u001B[38;5;28;43mself\u001B[39;49m\u001B[43m,\u001B[49m\n\u001B[1;32m  10942\u001B[0m \u001B[43m        \u001B[49m\u001B[43minclude\u001B[49m\u001B[38;5;241;43m=\u001B[39;49m\u001B[43minclude\u001B[49m\u001B[43m,\u001B[49m\n\u001B[1;32m  10943\u001B[0m \u001B[43m        \u001B[49m\u001B[43mexclude\u001B[49m\u001B[38;5;241;43m=\u001B[39;49m\u001B[43mexclude\u001B[49m\u001B[43m,\u001B[49m\n\u001B[1;32m  10944\u001B[0m \u001B[43m        \u001B[49m\u001B[43mdatetime_is_numeric\u001B[49m\u001B[38;5;241;43m=\u001B[39;49m\u001B[43mdatetime_is_numeric\u001B[49m\u001B[43m,\u001B[49m\n\u001B[1;32m  10945\u001B[0m \u001B[43m        \u001B[49m\u001B[43mpercentiles\u001B[49m\u001B[38;5;241;43m=\u001B[39;49m\u001B[43mpercentiles\u001B[49m\u001B[43m,\u001B[49m\n\u001B[1;32m  10946\u001B[0m \u001B[43m    \u001B[49m\u001B[43m)\u001B[49m\n",
      "File \u001B[0;32m~/miniconda3/envs/tensorflow_2/lib/python3.10/site-packages/pandas/core/describe.py:101\u001B[0m, in \u001B[0;36mdescribe_ndframe\u001B[0;34m(obj, include, exclude, datetime_is_numeric, percentiles)\u001B[0m\n\u001B[1;32m     93\u001B[0m \u001B[38;5;28;01melse\u001B[39;00m:\n\u001B[1;32m     94\u001B[0m     describer \u001B[38;5;241m=\u001B[39m DataFrameDescriber(\n\u001B[1;32m     95\u001B[0m         obj\u001B[38;5;241m=\u001B[39mcast(\u001B[38;5;124m\"\u001B[39m\u001B[38;5;124mDataFrame\u001B[39m\u001B[38;5;124m\"\u001B[39m, obj),\n\u001B[1;32m     96\u001B[0m         include\u001B[38;5;241m=\u001B[39minclude,\n\u001B[1;32m     97\u001B[0m         exclude\u001B[38;5;241m=\u001B[39mexclude,\n\u001B[1;32m     98\u001B[0m         datetime_is_numeric\u001B[38;5;241m=\u001B[39mdatetime_is_numeric,\n\u001B[1;32m     99\u001B[0m     )\n\u001B[0;32m--> 101\u001B[0m result \u001B[38;5;241m=\u001B[39m \u001B[43mdescriber\u001B[49m\u001B[38;5;241;43m.\u001B[39;49m\u001B[43mdescribe\u001B[49m\u001B[43m(\u001B[49m\u001B[43mpercentiles\u001B[49m\u001B[38;5;241;43m=\u001B[39;49m\u001B[43mpercentiles\u001B[49m\u001B[43m)\u001B[49m\n\u001B[1;32m    102\u001B[0m \u001B[38;5;28;01mreturn\u001B[39;00m cast(NDFrameT, result)\n",
      "File \u001B[0;32m~/miniconda3/envs/tensorflow_2/lib/python3.10/site-packages/pandas/core/describe.py:184\u001B[0m, in \u001B[0;36mDataFrameDescriber.describe\u001B[0;34m(self, percentiles)\u001B[0m\n\u001B[1;32m    181\u001B[0m     ldesc\u001B[38;5;241m.\u001B[39mappend(describe_func(series, percentiles))\n\u001B[1;32m    183\u001B[0m col_names \u001B[38;5;241m=\u001B[39m reorder_columns(ldesc)\n\u001B[0;32m--> 184\u001B[0m d \u001B[38;5;241m=\u001B[39m \u001B[43mconcat\u001B[49m\u001B[43m(\u001B[49m\n\u001B[1;32m    185\u001B[0m \u001B[43m    \u001B[49m\u001B[43m[\u001B[49m\u001B[43mx\u001B[49m\u001B[38;5;241;43m.\u001B[39;49m\u001B[43mreindex\u001B[49m\u001B[43m(\u001B[49m\u001B[43mcol_names\u001B[49m\u001B[43m,\u001B[49m\u001B[43m \u001B[49m\u001B[43mcopy\u001B[49m\u001B[38;5;241;43m=\u001B[39;49m\u001B[38;5;28;43;01mFalse\u001B[39;49;00m\u001B[43m)\u001B[49m\u001B[43m \u001B[49m\u001B[38;5;28;43;01mfor\u001B[39;49;00m\u001B[43m \u001B[49m\u001B[43mx\u001B[49m\u001B[43m \u001B[49m\u001B[38;5;129;43;01min\u001B[39;49;00m\u001B[43m \u001B[49m\u001B[43mldesc\u001B[49m\u001B[43m]\u001B[49m\u001B[43m,\u001B[49m\n\u001B[1;32m    186\u001B[0m \u001B[43m    \u001B[49m\u001B[43maxis\u001B[49m\u001B[38;5;241;43m=\u001B[39;49m\u001B[38;5;241;43m1\u001B[39;49m\u001B[43m,\u001B[49m\n\u001B[1;32m    187\u001B[0m \u001B[43m    \u001B[49m\u001B[43msort\u001B[49m\u001B[38;5;241;43m=\u001B[39;49m\u001B[38;5;28;43;01mFalse\u001B[39;49;00m\u001B[43m,\u001B[49m\n\u001B[1;32m    188\u001B[0m \u001B[43m\u001B[49m\u001B[43m)\u001B[49m\n\u001B[1;32m    189\u001B[0m d\u001B[38;5;241m.\u001B[39mcolumns \u001B[38;5;241m=\u001B[39m data\u001B[38;5;241m.\u001B[39mcolumns\u001B[38;5;241m.\u001B[39mcopy()\n\u001B[1;32m    190\u001B[0m \u001B[38;5;28;01mreturn\u001B[39;00m d\n",
      "File \u001B[0;32m~/miniconda3/envs/tensorflow_2/lib/python3.10/site-packages/pandas/util/_decorators.py:331\u001B[0m, in \u001B[0;36mdeprecate_nonkeyword_arguments.<locals>.decorate.<locals>.wrapper\u001B[0;34m(*args, **kwargs)\u001B[0m\n\u001B[1;32m    325\u001B[0m \u001B[38;5;28;01mif\u001B[39;00m \u001B[38;5;28mlen\u001B[39m(args) \u001B[38;5;241m>\u001B[39m num_allow_args:\n\u001B[1;32m    326\u001B[0m     warnings\u001B[38;5;241m.\u001B[39mwarn(\n\u001B[1;32m    327\u001B[0m         msg\u001B[38;5;241m.\u001B[39mformat(arguments\u001B[38;5;241m=\u001B[39m_format_argument_list(allow_args)),\n\u001B[1;32m    328\u001B[0m         \u001B[38;5;167;01mFutureWarning\u001B[39;00m,\n\u001B[1;32m    329\u001B[0m         stacklevel\u001B[38;5;241m=\u001B[39mfind_stack_level(),\n\u001B[1;32m    330\u001B[0m     )\n\u001B[0;32m--> 331\u001B[0m \u001B[38;5;28;01mreturn\u001B[39;00m \u001B[43mfunc\u001B[49m\u001B[43m(\u001B[49m\u001B[38;5;241;43m*\u001B[39;49m\u001B[43margs\u001B[49m\u001B[43m,\u001B[49m\u001B[43m \u001B[49m\u001B[38;5;241;43m*\u001B[39;49m\u001B[38;5;241;43m*\u001B[39;49m\u001B[43mkwargs\u001B[49m\u001B[43m)\u001B[49m\n",
      "File \u001B[0;32m~/miniconda3/envs/tensorflow_2/lib/python3.10/site-packages/pandas/core/reshape/concat.py:368\u001B[0m, in \u001B[0;36mconcat\u001B[0;34m(objs, axis, join, ignore_index, keys, levels, names, verify_integrity, sort, copy)\u001B[0m\n\u001B[1;32m    146\u001B[0m \u001B[38;5;129m@deprecate_nonkeyword_arguments\u001B[39m(version\u001B[38;5;241m=\u001B[39m\u001B[38;5;28;01mNone\u001B[39;00m, allowed_args\u001B[38;5;241m=\u001B[39m[\u001B[38;5;124m\"\u001B[39m\u001B[38;5;124mobjs\u001B[39m\u001B[38;5;124m\"\u001B[39m])\n\u001B[1;32m    147\u001B[0m \u001B[38;5;28;01mdef\u001B[39;00m \u001B[38;5;21mconcat\u001B[39m(\n\u001B[1;32m    148\u001B[0m     objs: Iterable[NDFrame] \u001B[38;5;241m|\u001B[39m Mapping[HashableT, NDFrame],\n\u001B[0;32m   (...)\u001B[0m\n\u001B[1;32m    157\u001B[0m     copy: \u001B[38;5;28mbool\u001B[39m \u001B[38;5;241m=\u001B[39m \u001B[38;5;28;01mTrue\u001B[39;00m,\n\u001B[1;32m    158\u001B[0m ) \u001B[38;5;241m-\u001B[39m\u001B[38;5;241m>\u001B[39m DataFrame \u001B[38;5;241m|\u001B[39m Series:\n\u001B[1;32m    159\u001B[0m \u001B[38;5;250m    \u001B[39m\u001B[38;5;124;03m\"\"\"\u001B[39;00m\n\u001B[1;32m    160\u001B[0m \u001B[38;5;124;03m    Concatenate pandas objects along a particular axis.\u001B[39;00m\n\u001B[1;32m    161\u001B[0m \n\u001B[0;32m   (...)\u001B[0m\n\u001B[1;32m    366\u001B[0m \u001B[38;5;124;03m    1   3   4\u001B[39;00m\n\u001B[1;32m    367\u001B[0m \u001B[38;5;124;03m    \"\"\"\u001B[39;00m\n\u001B[0;32m--> 368\u001B[0m     op \u001B[38;5;241m=\u001B[39m \u001B[43m_Concatenator\u001B[49m\u001B[43m(\u001B[49m\n\u001B[1;32m    369\u001B[0m \u001B[43m        \u001B[49m\u001B[43mobjs\u001B[49m\u001B[43m,\u001B[49m\n\u001B[1;32m    370\u001B[0m \u001B[43m        \u001B[49m\u001B[43maxis\u001B[49m\u001B[38;5;241;43m=\u001B[39;49m\u001B[43maxis\u001B[49m\u001B[43m,\u001B[49m\n\u001B[1;32m    371\u001B[0m \u001B[43m        \u001B[49m\u001B[43mignore_index\u001B[49m\u001B[38;5;241;43m=\u001B[39;49m\u001B[43mignore_index\u001B[49m\u001B[43m,\u001B[49m\n\u001B[1;32m    372\u001B[0m \u001B[43m        \u001B[49m\u001B[43mjoin\u001B[49m\u001B[38;5;241;43m=\u001B[39;49m\u001B[43mjoin\u001B[49m\u001B[43m,\u001B[49m\n\u001B[1;32m    373\u001B[0m \u001B[43m        \u001B[49m\u001B[43mkeys\u001B[49m\u001B[38;5;241;43m=\u001B[39;49m\u001B[43mkeys\u001B[49m\u001B[43m,\u001B[49m\n\u001B[1;32m    374\u001B[0m \u001B[43m        \u001B[49m\u001B[43mlevels\u001B[49m\u001B[38;5;241;43m=\u001B[39;49m\u001B[43mlevels\u001B[49m\u001B[43m,\u001B[49m\n\u001B[1;32m    375\u001B[0m \u001B[43m        \u001B[49m\u001B[43mnames\u001B[49m\u001B[38;5;241;43m=\u001B[39;49m\u001B[43mnames\u001B[49m\u001B[43m,\u001B[49m\n\u001B[1;32m    376\u001B[0m \u001B[43m        \u001B[49m\u001B[43mverify_integrity\u001B[49m\u001B[38;5;241;43m=\u001B[39;49m\u001B[43mverify_integrity\u001B[49m\u001B[43m,\u001B[49m\n\u001B[1;32m    377\u001B[0m \u001B[43m        \u001B[49m\u001B[43mcopy\u001B[49m\u001B[38;5;241;43m=\u001B[39;49m\u001B[43mcopy\u001B[49m\u001B[43m,\u001B[49m\n\u001B[1;32m    378\u001B[0m \u001B[43m        \u001B[49m\u001B[43msort\u001B[49m\u001B[38;5;241;43m=\u001B[39;49m\u001B[43msort\u001B[49m\u001B[43m,\u001B[49m\n\u001B[1;32m    379\u001B[0m \u001B[43m    \u001B[49m\u001B[43m)\u001B[49m\n\u001B[1;32m    381\u001B[0m     \u001B[38;5;28;01mreturn\u001B[39;00m op\u001B[38;5;241m.\u001B[39mget_result()\n",
      "File \u001B[0;32m~/miniconda3/envs/tensorflow_2/lib/python3.10/site-packages/pandas/core/reshape/concat.py:425\u001B[0m, in \u001B[0;36m_Concatenator.__init__\u001B[0;34m(self, objs, axis, join, keys, levels, names, ignore_index, verify_integrity, copy, sort)\u001B[0m\n\u001B[1;32m    422\u001B[0m     objs \u001B[38;5;241m=\u001B[39m \u001B[38;5;28mlist\u001B[39m(objs)\n\u001B[1;32m    424\u001B[0m \u001B[38;5;28;01mif\u001B[39;00m \u001B[38;5;28mlen\u001B[39m(objs) \u001B[38;5;241m==\u001B[39m \u001B[38;5;241m0\u001B[39m:\n\u001B[0;32m--> 425\u001B[0m     \u001B[38;5;28;01mraise\u001B[39;00m \u001B[38;5;167;01mValueError\u001B[39;00m(\u001B[38;5;124m\"\u001B[39m\u001B[38;5;124mNo objects to concatenate\u001B[39m\u001B[38;5;124m\"\u001B[39m)\n\u001B[1;32m    427\u001B[0m \u001B[38;5;28;01mif\u001B[39;00m keys \u001B[38;5;129;01mis\u001B[39;00m \u001B[38;5;28;01mNone\u001B[39;00m:\n\u001B[1;32m    428\u001B[0m     objs \u001B[38;5;241m=\u001B[39m \u001B[38;5;28mlist\u001B[39m(com\u001B[38;5;241m.\u001B[39mnot_none(\u001B[38;5;241m*\u001B[39mobjs))\n",
      "\u001B[0;31mValueError\u001B[0m: No objects to concatenate"
     ]
    }
   ],
   "source": [
    "df.describe(include=np.number)"
   ],
   "metadata": {
    "collapsed": false,
    "pycharm": {
     "name": "#%%\n"
    }
   }
  },
  {
   "cell_type": "code",
   "execution_count": 15,
   "outputs": [
    {
     "data": {
      "text/plain": "                                        Title  \\\ncount                                   50000   \nunique                                  49999   \ntop     login method customization using gina   \nfreq                                        2   \n\n                                                     Body  \\\ncount                                               50000   \nunique                                              50000   \ntop     is there a way to sandbox a linux process into...   \nfreq                                                    1   \n\n                                                     Tags  \ncount                                               50000  \nunique                                              48824  \ntop     <javascript><jquery><html><css><twitter-bootst...  \nfreq                                                   46  ",
      "text/html": "<div>\n<style scoped>\n    .dataframe tbody tr th:only-of-type {\n        vertical-align: middle;\n    }\n\n    .dataframe tbody tr th {\n        vertical-align: top;\n    }\n\n    .dataframe thead th {\n        text-align: right;\n    }\n</style>\n<table border=\"1\" class=\"dataframe\">\n  <thead>\n    <tr style=\"text-align: right;\">\n      <th></th>\n      <th>Title</th>\n      <th>Body</th>\n      <th>Tags</th>\n    </tr>\n  </thead>\n  <tbody>\n    <tr>\n      <th>count</th>\n      <td>50000</td>\n      <td>50000</td>\n      <td>50000</td>\n    </tr>\n    <tr>\n      <th>unique</th>\n      <td>49999</td>\n      <td>50000</td>\n      <td>48824</td>\n    </tr>\n    <tr>\n      <th>top</th>\n      <td>login method customization using gina</td>\n      <td>is there a way to sandbox a linux process into...</td>\n      <td>&lt;javascript&gt;&lt;jquery&gt;&lt;html&gt;&lt;css&gt;&lt;twitter-bootst...</td>\n    </tr>\n    <tr>\n      <th>freq</th>\n      <td>2</td>\n      <td>1</td>\n      <td>46</td>\n    </tr>\n  </tbody>\n</table>\n</div>"
     },
     "execution_count": 15,
     "metadata": {},
     "output_type": "execute_result"
    }
   ],
   "source": [
    "df.describe(include=object)"
   ],
   "metadata": {
    "collapsed": false,
    "pycharm": {
     "name": "#%%\n"
    }
   }
  },
  {
   "cell_type": "code",
   "execution_count": 16,
   "outputs": [
    {
     "data": {
      "text/plain": "<javascript><jquery><html><css><twitter-bootstrap>         46\n<javascript><php><jquery><html><ajax>                      29\n<javascript><php><jquery><html><css>                       19\n<javascript><node.js><mongodb><express><mongoose>          16\n<javascript><php><jquery><mysql><ajax>                     16\n<javascript><php><jquery><ajax><json>                      12\n<python><selenium><xpath><css-selectors><webdriverwait>    11\n<javascript><php><jquery><ajax><forms>                     11\n<javascript><jquery><html><css><iframe>                    10\n<c#><asp.net><asp.net-mvc><asp.net-mvc-4><razor>           10\nName: Tags, dtype: int64"
     },
     "execution_count": 16,
     "metadata": {},
     "output_type": "execute_result"
    }
   ],
   "source": [
    "df.Tags.value_counts()[:10]"
   ],
   "metadata": {
    "collapsed": false,
    "pycharm": {
     "name": "#%%\n"
    }
   }
  },
  {
   "cell_type": "code",
   "execution_count": 19,
   "outputs": [
    {
     "data": {
      "text/plain": "<seaborn.axisgrid.FacetGrid at 0x2868d22c0>"
     },
     "execution_count": 19,
     "metadata": {},
     "output_type": "execute_result"
    },
    {
     "data": {
      "text/plain": "<Figure size 500x500 with 1 Axes>",
      "image/png": "[encoded data removed]"
     },
     "metadata": {},
     "output_type": "display_data"
    }
   ],
   "source": [
    "tmp = df.Body.str.len()\n",
    "sns.displot(tmp)"
   ],
   "metadata": {
    "collapsed": false,
    "pycharm": {
     "name": "#%%\n"
    }
   }
  },
  {
   "cell_type": "code",
   "execution_count": 22,
   "outputs": [
    {
     "data": {
      "text/plain": "<AxesSubplot: >"
     },
     "execution_count": 22,
     "metadata": {},
     "output_type": "execute_result"
    },
    {
     "data": {
      "text/plain": "<Figure size 640x480 with 1 Axes>",
      "image/png": "[encoded data removed]"
     },
     "metadata": {},
     "output_type": "display_data"
    }
   ],
   "source": [
    "sns.boxplot(tmp[tmp < 4000])"
   ],
   "metadata": {
    "collapsed": false,
    "pycharm": {
     "name": "#%%\n"
    }
   }
  },
  {
   "cell_type": "code",
   "execution_count": 23,
   "outputs": [
    {
     "data": {
      "text/plain": "                                               Title  \\\n0  giving a unix process exclusive rw access to a...   \n1           automatic repaint when minimizing window   \n2  is man-in-the-middle attack a security threat ...   \n3      managing data access in a simple winforms app   \n4                            render basic html view?   \n5  how to use nested-subfloders routing in nodejs...   \n6  using generics to process asp.net form request...   \n7  simple select(*) queries very slow in apache i...   \n8  ms sql server optimizer and varying table and ...   \n9                     how to wait for process child?   \n\n                                                Body  \\\n0  is there a way to sandbox a linux process into...   \n1  i have a jframe, with two panels, in one panel...   \n2  i am no expert in network security, so pardon ...   \n3  i have a simple winforms data entry app that u...   \n4  i have a basic node.js app that i am trying to...   \n5  i am working on a node project using express. ...   \n6  using jquery to post values back to an asp.net...   \n7  i'm prototyping apache ignite for use in a new...   \n8  we have a lot of queries for which we append a...   \n9  i do the usual fork + exec combination:\\nint s...   \n\n                                                Tags  _len_txt  \n0         <linux><ubuntu><process><sandbox><selinux>       840  \n1            <java><graphics><jframe><jpanel><paint>      4960  \n2  <security><ssh><ssh-keys><openssh><man-in-the-...       660  \n3   <c#><winforms><sqlite><datatable><sqlconnection>      3859  \n4      <javascript><html><node.js><mongodb><express>       513  \n5  <node.js><express><routes><nested-routes><modu...      1029  \n6      <c#><asp.net><generics><reflection><webforms>      1083  \n7  <sql><performance><key-value><ignite><in-memor...      1521  \n8  <sql><sql-server><sql-server-2005><tsql><query...       579  \n9                   <linux><posix><exec><fork><wait>       411  ",
      "text/html": "<div>\n<style scoped>\n    .dataframe tbody tr th:only-of-type {\n        vertical-align: middle;\n    }\n\n    .dataframe tbody tr th {\n        vertical-align: top;\n    }\n\n    .dataframe thead th {\n        text-align: right;\n    }\n</style>\n<table border=\"1\" class=\"dataframe\">\n  <thead>\n    <tr style=\"text-align: right;\">\n      <th></th>\n      <th>Title</th>\n      <th>Body</th>\n      <th>Tags</th>\n      <th>_len_txt</th>\n    </tr>\n  </thead>\n  <tbody>\n    <tr>\n      <th>0</th>\n      <td>giving a unix process exclusive rw access to a...</td>\n      <td>is there a way to sandbox a linux process into...</td>\n      <td>&lt;linux&gt;&lt;ubuntu&gt;&lt;process&gt;&lt;sandbox&gt;&lt;selinux&gt;</td>\n      <td>840</td>\n    </tr>\n    <tr>\n      <th>1</th>\n      <td>automatic repaint when minimizing window</td>\n      <td>i have a jframe, with two panels, in one panel...</td>\n      <td>&lt;java&gt;&lt;graphics&gt;&lt;jframe&gt;&lt;jpanel&gt;&lt;paint&gt;</td>\n      <td>4960</td>\n    </tr>\n    <tr>\n      <th>2</th>\n      <td>is man-in-the-middle attack a security threat ...</td>\n      <td>i am no expert in network security, so pardon ...</td>\n      <td>&lt;security&gt;&lt;ssh&gt;&lt;ssh-keys&gt;&lt;openssh&gt;&lt;man-in-the-...</td>\n      <td>660</td>\n    </tr>\n    <tr>\n      <th>3</th>\n      <td>managing data access in a simple winforms app</td>\n      <td>i have a simple winforms data entry app that u...</td>\n      <td>&lt;c#&gt;&lt;winforms&gt;&lt;sqlite&gt;&lt;datatable&gt;&lt;sqlconnection&gt;</td>\n      <td>3859</td>\n    </tr>\n    <tr>\n      <th>4</th>\n      <td>render basic html view?</td>\n      <td>i have a basic node.js app that i am trying to...</td>\n      <td>&lt;javascript&gt;&lt;html&gt;&lt;node.js&gt;&lt;mongodb&gt;&lt;express&gt;</td>\n      <td>513</td>\n    </tr>\n    <tr>\n      <th>5</th>\n      <td>how to use nested-subfloders routing in nodejs...</td>\n      <td>i am working on a node project using express. ...</td>\n      <td>&lt;node.js&gt;&lt;express&gt;&lt;routes&gt;&lt;nested-routes&gt;&lt;modu...</td>\n      <td>1029</td>\n    </tr>\n    <tr>\n      <th>6</th>\n      <td>using generics to process asp.net form request...</td>\n      <td>using jquery to post values back to an asp.net...</td>\n      <td>&lt;c#&gt;&lt;asp.net&gt;&lt;generics&gt;&lt;reflection&gt;&lt;webforms&gt;</td>\n      <td>1083</td>\n    </tr>\n    <tr>\n      <th>7</th>\n      <td>simple select(*) queries very slow in apache i...</td>\n      <td>i'm prototyping apache ignite for use in a new...</td>\n      <td>&lt;sql&gt;&lt;performance&gt;&lt;key-value&gt;&lt;ignite&gt;&lt;in-memor...</td>\n      <td>1521</td>\n    </tr>\n    <tr>\n      <th>8</th>\n      <td>ms sql server optimizer and varying table and ...</td>\n      <td>we have a lot of queries for which we append a...</td>\n      <td>&lt;sql&gt;&lt;sql-server&gt;&lt;sql-server-2005&gt;&lt;tsql&gt;&lt;query...</td>\n      <td>579</td>\n    </tr>\n    <tr>\n      <th>9</th>\n      <td>how to wait for process child?</td>\n      <td>i do the usual fork + exec combination:\\nint s...</td>\n      <td>&lt;linux&gt;&lt;posix&gt;&lt;exec&gt;&lt;fork&gt;&lt;wait&gt;</td>\n      <td>411</td>\n    </tr>\n  </tbody>\n</table>\n</div>"
     },
     "execution_count": 23,
     "metadata": {},
     "output_type": "execute_result"
    }
   ],
   "source": [
    "df[\"_len_txt\"] = tmp\n",
    "df.head(10)"
   ],
   "metadata": {
    "collapsed": false,
    "pycharm": {
     "name": "#%%\n"
    }
   }
  },
  {
   "cell_type": "code",
   "execution_count": 24,
   "outputs": [
    {
     "data": {
      "text/plain": "                                                   Title  \\\n19855  why the web.config isn't copied when i publish...   \n42477  how do i check if the browser supports cookies...   \n39277  how to hide all url in firefox status bar when...   \n2267                      concatenating two std::vectors   \n12364                   creating a div element in jquery   \n8160        where can i find a list of all hql keywords?   \n2281                 encrypt and decrypt a string in c#?   \n25416     how to eliminate outlier in spotfire box plots   \n47642                        expand value_counts() view?   \n26297  what parts of .net aren't available in monotou...   \n\n                                                    Body  \\\n19855                               how to correct it?\\n   \n42477                        especially for the iphone\\n   \n39277               anyone can give me the answer? tq.\\n   \n2267            how do i concatenate two std::vectors?\\n   \n12364         how do i create a div element in jquery?\\n   \n8160      where can i find a list of all hql keywords?\\n   \n2281     how can i encrypt and decrypt a string in c#?\\n   \n25416  thanks for your help in advance.\\nregards,\\nraj\\n   \n47642  does anybody know how i visualize all values?\\n\\n   \n26297  what are some key bindings that aren't include...   \n\n                                                    Tags  _len_txt  \n19855  <.net><asp.net><visual-studio><visual-studio-2...        19  \n42477     <javascript><jquery><iphone><session><cookies>        26  \n39277         <firefox><url><hyperlink><hide><statusbar>        35  \n2267        <c++><vector><stl><concatenation><stdvector>        39  \n12364  <javascript><jquery><html><append><jquery-append>        41  \n8160                <java><hibernate><jpa><hql><keyword>        45  \n2281          <c#><.net><encryption><mono><cryptography>        46  \n25416                <max><min><box><spotfire><outliers>        46  \n47642  <python><pandas><count><distinct-values><visua...        47  \n26297  <.net><iphone><mobile><xamarin.ios><mobile-web...        49  ",
      "text/html": "<div>\n<style scoped>\n    .dataframe tbody tr th:only-of-type {\n        vertical-align: middle;\n    }\n\n    .dataframe tbody tr th {\n        vertical-align: top;\n    }\n\n    .dataframe thead th {\n        text-align: right;\n    }\n</style>\n<table border=\"1\" class=\"dataframe\">\n  <thead>\n    <tr style=\"text-align: right;\">\n      <th></th>\n      <th>Title</th>\n      <th>Body</th>\n      <th>Tags</th>\n      <th>_len_txt</th>\n    </tr>\n  </thead>\n  <tbody>\n    <tr>\n      <th>19855</th>\n      <td>why the web.config isn't copied when i publish...</td>\n      <td>how to correct it?\\n</td>\n      <td>&lt;.net&gt;&lt;asp.net&gt;&lt;visual-studio&gt;&lt;visual-studio-2...</td>\n      <td>19</td>\n    </tr>\n    <tr>\n      <th>42477</th>\n      <td>how do i check if the browser supports cookies...</td>\n      <td>especially for the iphone\\n</td>\n      <td>&lt;javascript&gt;&lt;jquery&gt;&lt;iphone&gt;&lt;session&gt;&lt;cookies&gt;</td>\n      <td>26</td>\n    </tr>\n    <tr>\n      <th>39277</th>\n      <td>how to hide all url in firefox status bar when...</td>\n      <td>anyone can give me the answer? tq.\\n</td>\n      <td>&lt;firefox&gt;&lt;url&gt;&lt;hyperlink&gt;&lt;hide&gt;&lt;statusbar&gt;</td>\n      <td>35</td>\n    </tr>\n    <tr>\n      <th>2267</th>\n      <td>concatenating two std::vectors</td>\n      <td>how do i concatenate two std::vectors?\\n</td>\n      <td>&lt;c++&gt;&lt;vector&gt;&lt;stl&gt;&lt;concatenation&gt;&lt;stdvector&gt;</td>\n      <td>39</td>\n    </tr>\n    <tr>\n      <th>12364</th>\n      <td>creating a div element in jquery</td>\n      <td>how do i create a div element in jquery?\\n</td>\n      <td>&lt;javascript&gt;&lt;jquery&gt;&lt;html&gt;&lt;append&gt;&lt;jquery-append&gt;</td>\n      <td>41</td>\n    </tr>\n    <tr>\n      <th>8160</th>\n      <td>where can i find a list of all hql keywords?</td>\n      <td>where can i find a list of all hql keywords?\\n</td>\n      <td>&lt;java&gt;&lt;hibernate&gt;&lt;jpa&gt;&lt;hql&gt;&lt;keyword&gt;</td>\n      <td>45</td>\n    </tr>\n    <tr>\n      <th>2281</th>\n      <td>encrypt and decrypt a string in c#?</td>\n      <td>how can i encrypt and decrypt a string in c#?\\n</td>\n      <td>&lt;c#&gt;&lt;.net&gt;&lt;encryption&gt;&lt;mono&gt;&lt;cryptography&gt;</td>\n      <td>46</td>\n    </tr>\n    <tr>\n      <th>25416</th>\n      <td>how to eliminate outlier in spotfire box plots</td>\n      <td>thanks for your help in advance.\\nregards,\\nraj\\n</td>\n      <td>&lt;max&gt;&lt;min&gt;&lt;box&gt;&lt;spotfire&gt;&lt;outliers&gt;</td>\n      <td>46</td>\n    </tr>\n    <tr>\n      <th>47642</th>\n      <td>expand value_counts() view?</td>\n      <td>does anybody know how i visualize all values?\\n\\n</td>\n      <td>&lt;python&gt;&lt;pandas&gt;&lt;count&gt;&lt;distinct-values&gt;&lt;visua...</td>\n      <td>47</td>\n    </tr>\n    <tr>\n      <th>26297</th>\n      <td>what parts of .net aren't available in monotou...</td>\n      <td>what are some key bindings that aren't include...</td>\n      <td>&lt;.net&gt;&lt;iphone&gt;&lt;mobile&gt;&lt;xamarin.ios&gt;&lt;mobile-web...</td>\n      <td>49</td>\n    </tr>\n  </tbody>\n</table>\n</div>"
     },
     "execution_count": 24,
     "metadata": {},
     "output_type": "execute_result"
    }
   ],
   "source": [
    "df.sort_values('_len_txt').head(10)"
   ],
   "metadata": {
    "collapsed": false,
    "pycharm": {
     "name": "#%%\n"
    }
   }
  },
  {
   "cell_type": "code",
   "execution_count": 25,
   "outputs": [
    {
     "data": {
      "text/plain": "                                                   Title  \\\n44198  active model serializer - increasing render pe...   \n49523    gradle error when deploying to nexus repository   \n31542  glassfish 3.1.2.2. build 5 ear application dep...   \n39564  getting \"gateway timeout\" error when using zuu...   \n28964   connecting to mysql server from docker container   \n8809   how do i configure webservicetemplate to send ...   \n44927  getting org.springframework.beans.factory.smar...   \n20092          arcgis for android with popup and routing   \n6176   how do i fix shocking/lagging movement in this...   \n14967  webkit @font-face rendering issue - some eleme...   \n\n                                                    Body  \\\n44198  i'm running into a particular situation where ...   \n49523  today, i have been migrating some java plugins...   \n31542  i am getting digester error in my production e...   \n39564  i am developing spring boot microservices for ...   \n28964  i am a total noob when it come to docker. i am...   \n8809   i have  configured keystore and trustore for t...   \n44927  org.apache.maven.lifecycle.lifecycleexecutione...   \n20092  i want do develop an android app with the sdk ...   \n6176   edit: important, examples must be used in fire...   \n14967  i'm busy building a site on my local server, a...   \n\n                                                    Tags  _len_txt  \n44198  <ruby-on-rails><json><ruby-on-rails-4><seriali...     28569  \n49523  <java><gradle><intellij-idea><nexus3><maven-pu...     28732  \n31542  <java><linux><glassfish><glassfish-3><apache-c...     28796  \n39564  <spring-boot><spring-cloud><netflix-eureka><ne...     28981  \n28964  <java><mysql><spring-boot><docker><spring-data...     29281  \n8809      <java><web-services><soap><spring-ws><two-way>     29481  \n44927  <java><spring><spring-security><maven-3><aspec...     29648  \n20092            <java><android><routing><popup><arcgis>     29986  \n6176               <javascript><ajax><html><canvas><lag>     33171  \n14967            <html><css><firefox><webkit><font-face>     34559  ",
      "text/html": "<div>\n<style scoped>\n    .dataframe tbody tr th:only-of-type {\n        vertical-align: middle;\n    }\n\n    .dataframe tbody tr th {\n        vertical-align: top;\n    }\n\n    .dataframe thead th {\n        text-align: right;\n    }\n</style>\n<table border=\"1\" class=\"dataframe\">\n  <thead>\n    <tr style=\"text-align: right;\">\n      <th></th>\n      <th>Title</th>\n      <th>Body</th>\n      <th>Tags</th>\n      <th>_len_txt</th>\n    </tr>\n  </thead>\n  <tbody>\n    <tr>\n      <th>44198</th>\n      <td>active model serializer - increasing render pe...</td>\n      <td>i'm running into a particular situation where ...</td>\n      <td>&lt;ruby-on-rails&gt;&lt;json&gt;&lt;ruby-on-rails-4&gt;&lt;seriali...</td>\n      <td>28569</td>\n    </tr>\n    <tr>\n      <th>49523</th>\n      <td>gradle error when deploying to nexus repository</td>\n      <td>today, i have been migrating some java plugins...</td>\n      <td>&lt;java&gt;&lt;gradle&gt;&lt;intellij-idea&gt;&lt;nexus3&gt;&lt;maven-pu...</td>\n      <td>28732</td>\n    </tr>\n    <tr>\n      <th>31542</th>\n      <td>glassfish 3.1.2.2. build 5 ear application dep...</td>\n      <td>i am getting digester error in my production e...</td>\n      <td>&lt;java&gt;&lt;linux&gt;&lt;glassfish&gt;&lt;glassfish-3&gt;&lt;apache-c...</td>\n      <td>28796</td>\n    </tr>\n    <tr>\n      <th>39564</th>\n      <td>getting \"gateway timeout\" error when using zuu...</td>\n      <td>i am developing spring boot microservices for ...</td>\n      <td>&lt;spring-boot&gt;&lt;spring-cloud&gt;&lt;netflix-eureka&gt;&lt;ne...</td>\n      <td>28981</td>\n    </tr>\n    <tr>\n      <th>28964</th>\n      <td>connecting to mysql server from docker container</td>\n      <td>i am a total noob when it come to docker. i am...</td>\n      <td>&lt;java&gt;&lt;mysql&gt;&lt;spring-boot&gt;&lt;docker&gt;&lt;spring-data...</td>\n      <td>29281</td>\n    </tr>\n    <tr>\n      <th>8809</th>\n      <td>how do i configure webservicetemplate to send ...</td>\n      <td>i have  configured keystore and trustore for t...</td>\n      <td>&lt;java&gt;&lt;web-services&gt;&lt;soap&gt;&lt;spring-ws&gt;&lt;two-way&gt;</td>\n      <td>29481</td>\n    </tr>\n    <tr>\n      <th>44927</th>\n      <td>getting org.springframework.beans.factory.smar...</td>\n      <td>org.apache.maven.lifecycle.lifecycleexecutione...</td>\n      <td>&lt;java&gt;&lt;spring&gt;&lt;spring-security&gt;&lt;maven-3&gt;&lt;aspec...</td>\n      <td>29648</td>\n    </tr>\n    <tr>\n      <th>20092</th>\n      <td>arcgis for android with popup and routing</td>\n      <td>i want do develop an android app with the sdk ...</td>\n      <td>&lt;java&gt;&lt;android&gt;&lt;routing&gt;&lt;popup&gt;&lt;arcgis&gt;</td>\n      <td>29986</td>\n    </tr>\n    <tr>\n      <th>6176</th>\n      <td>how do i fix shocking/lagging movement in this...</td>\n      <td>edit: important, examples must be used in fire...</td>\n      <td>&lt;javascript&gt;&lt;ajax&gt;&lt;html&gt;&lt;canvas&gt;&lt;lag&gt;</td>\n      <td>33171</td>\n    </tr>\n    <tr>\n      <th>14967</th>\n      <td>webkit @font-face rendering issue - some eleme...</td>\n      <td>i'm busy building a site on my local server, a...</td>\n      <td>&lt;html&gt;&lt;css&gt;&lt;firefox&gt;&lt;webkit&gt;&lt;font-face&gt;</td>\n      <td>34559</td>\n    </tr>\n  </tbody>\n</table>\n</div>"
     },
     "execution_count": 25,
     "metadata": {},
     "output_type": "execute_result"
    }
   ],
   "source": [
    "df.sort_values('_len_txt').tail(10)"
   ],
   "metadata": {
    "collapsed": false,
    "pycharm": {
     "name": "#%%\n"
    }
   }
  },
  {
   "cell_type": "code",
   "execution_count": 26,
   "outputs": [
    {
     "data": {
      "text/plain": "                                               Title  \\\n0  giving a unix process exclusive rw access to a...   \n1           automatic repaint when minimizing window   \n2  is man-in-the-middle attack a security threat ...   \n3      managing data access in a simple winforms app   \n4                            render basic html view?   \n\n                                                Body  \\\n0  is there a way to sandbox a linux process into...   \n1  i have a jframe, with two panels, in one panel...   \n2  i am no expert in network security, so pardon ...   \n3  i have a simple winforms data entry app that u...   \n4  i have a basic node.js app that i am trying to...   \n\n                                                Tags  \n0         <linux><ubuntu><process><sandbox><selinux>  \n1            <java><graphics><jframe><jpanel><paint>  \n2  <security><ssh><ssh-keys><openssh><man-in-the-...  \n3   <c#><winforms><sqlite><datatable><sqlconnection>  \n4      <javascript><html><node.js><mongodb><express>  ",
      "text/html": "<div>\n<style scoped>\n    .dataframe tbody tr th:only-of-type {\n        vertical-align: middle;\n    }\n\n    .dataframe tbody tr th {\n        vertical-align: top;\n    }\n\n    .dataframe thead th {\n        text-align: right;\n    }\n</style>\n<table border=\"1\" class=\"dataframe\">\n  <thead>\n    <tr style=\"text-align: right;\">\n      <th></th>\n      <th>Title</th>\n      <th>Body</th>\n      <th>Tags</th>\n    </tr>\n  </thead>\n  <tbody>\n    <tr>\n      <th>0</th>\n      <td>giving a unix process exclusive rw access to a...</td>\n      <td>is there a way to sandbox a linux process into...</td>\n      <td>&lt;linux&gt;&lt;ubuntu&gt;&lt;process&gt;&lt;sandbox&gt;&lt;selinux&gt;</td>\n    </tr>\n    <tr>\n      <th>1</th>\n      <td>automatic repaint when minimizing window</td>\n      <td>i have a jframe, with two panels, in one panel...</td>\n      <td>&lt;java&gt;&lt;graphics&gt;&lt;jframe&gt;&lt;jpanel&gt;&lt;paint&gt;</td>\n    </tr>\n    <tr>\n      <th>2</th>\n      <td>is man-in-the-middle attack a security threat ...</td>\n      <td>i am no expert in network security, so pardon ...</td>\n      <td>&lt;security&gt;&lt;ssh&gt;&lt;ssh-keys&gt;&lt;openssh&gt;&lt;man-in-the-...</td>\n    </tr>\n    <tr>\n      <th>3</th>\n      <td>managing data access in a simple winforms app</td>\n      <td>i have a simple winforms data entry app that u...</td>\n      <td>&lt;c#&gt;&lt;winforms&gt;&lt;sqlite&gt;&lt;datatable&gt;&lt;sqlconnection&gt;</td>\n    </tr>\n    <tr>\n      <th>4</th>\n      <td>render basic html view?</td>\n      <td>i have a basic node.js app that i am trying to...</td>\n      <td>&lt;javascript&gt;&lt;html&gt;&lt;node.js&gt;&lt;mongodb&gt;&lt;express&gt;</td>\n    </tr>\n  </tbody>\n</table>\n</div>"
     },
     "execution_count": 26,
     "metadata": {},
     "output_type": "execute_result"
    }
   ],
   "source": [
    "df.drop(columns='_len_txt',inplace=True)\n",
    "df.head(5)"
   ],
   "metadata": {
    "collapsed": false,
    "pycharm": {
     "name": "#%%\n"
    }
   }
  },
  {
   "cell_type": "markdown",
   "source": [
    "### 2 Preliminary text processing analysis"
   ],
   "metadata": {
    "collapsed": false,
    "pycharm": {
     "name": "#%% md\n"
    }
   }
  },
  {
   "cell_type": "markdown",
   "source": [
    "#### 2.1 Tokenization selection"
   ],
   "metadata": {
    "collapsed": false,
    "pycharm": {
     "name": "#%% md\n"
    }
   }
  },
  {
   "cell_type": "code",
   "execution_count": 27,
   "outputs": [],
   "source": [
    "def display_tokens_info(tokens):\n",
    "    \"\"\"display info about corpus\"\"\"\n",
    "    print(f\"nb tokens {len(tokens)}, nb tokens uniques {len(set(tokens))}\")\n",
    "    print(tokens[:1000])"
   ],
   "metadata": {
    "collapsed": false,
    "pycharm": {
     "name": "#%%\n"
    }
   }
  },
  {
   "cell_type": "code",
   "execution_count": 28,
   "outputs": [
    {
     "data": {
      "text/plain": "18829    i have these data in thhe codebehind and tried...\nName: Body, dtype: object"
     },
     "execution_count": 28,
     "metadata": {},
     "output_type": "execute_result"
    }
   ],
   "source": [
    "doc = df.Body.sample(1)\n",
    "doc"
   ],
   "metadata": {
    "collapsed": false,
    "pycharm": {
     "name": "#%%\n"
    }
   }
  },
  {
   "cell_type": "code",
   "execution_count": 29,
   "outputs": [
    {
     "data": {
      "text/plain": "'i have these data in thhe codebehind and tried to pass it to javascript function in various format: array of list, json string but no way to get data by a javascript var object.\\nhere the last format of data in the code behind:\\n    list<string>[] array2 = new list<string>[listlenght];\\n    array2.initialize();\\n\\n    for (int ii = 0; ii < listlenght; ii++)\\n    {\\n    array2[ii] = new list<string>();\\n       array2[ii].add(convert.tostring(dt.rows[ii][5]));\\n       array2[ii].add(convert.tostring(dt.rows[ii][9]));\\n       array2[ii].add(convert.tostring(dt.rows[ii][10]));\\n       array2[ii].add(convert.tostring(dt.rows[ii][11]));\\n\\n    }\\n\\nthen tried to call javascriot in this way:\\n   string createarrayscript = string.format(\"var array2 = [{0},{1},{2},{3}];\",         string.join(\",\",\",\",\",\", array2));\\n\\nbut return an error: formatexception was unhandled by user code\\nthe index (zero based) must be greater than or equal to zero and less than the size of the list of topics.\\nthis is the call to the function:\\n    page.clientscript.registerstartupscript(this.gettype(), \"registerpoiarray\",      createarrayscript, true);\\nhere the javascript var format:\\n    var markers = poi;\\n\\n        var markers = [\\n{\\n\"title\": \"via andria, roma\",\\n\"lat\": 41.8902643,\\n\"lng\": 12.6638589,\\n\"description\": \"fdsad\"\\n},\\n{\\n\"title\": \"via canosa, roma\",\\n\"lat\": 41.8838417,\\n\"lng\": 12.5438227,\\n\"description\": \"fdsad\"\\n},\\n{\\n\"title\": \"via taranto, milano\",\\n\"lat\": 45.4383343,\\n\"lng\": 9.1505354,\\n\"description\": \"fdsad\"\\n},\\n{\\n\"title\": \"via barletta, roma\",\\n\"lat\": 41.9102707,\\n\"lng\": 12.4580826,\\n\"description\": \"fdsad\"\\n}];\\n\\ni can not pass this array in javascript. help me please \\n'"
     },
     "execution_count": 29,
     "metadata": {},
     "output_type": "execute_result"
    }
   ],
   "source": [
    "doc = doc.values[0]\n",
    "doc"
   ],
   "metadata": {
    "collapsed": false,
    "pycharm": {
     "name": "#%%\n"
    }
   }
  },
  {
   "cell_type": "code",
   "execution_count": 30,
   "outputs": [
    {
     "name": "stdout",
     "output_type": "stream",
     "text": [
      "tag : <javascript><php><jquery><ajax><laravel>\n",
      "title : ajax laravel return view 500 error\n",
      "i am getting each slider value in slide (jquery ui slider) via ajax to my controller.\n",
      "the slider + ajax looks like this:\n",
      "    $(\"#slidernumch\").slider({\n",
      "        range: \"min\",\n",
      "        min: 0,\n",
      "        max: 20,\n",
      "        step: 1,\n",
      "        value: numbersofchapters,\n",
      "        change : function(e, slider){\n",
      "            $('#sliderappendnumch').empty();\n",
      "            var slidervalue  = slider.value;\n",
      "            var getsliderval = document.getelementbyid('slidervalue').value = slidervalue;\n",
      "            var getprid      = document.getelementbyid('editid').value;\n",
      "\n",
      "            $.ajaxsetup({\n",
      "                headers: {\n",
      "                    'x-csrf-token': $('meta[name=\"csrf-token\"]').attr('content')\n",
      "                }\n",
      "            });\n",
      "            $.ajax({\n",
      "                type: 'post',\n",
      "                url: \"{{ route('editproductpost', $product->id) }}\",\n",
      "                headers: {\n",
      "                    'x-requested-with': 'xmlhttprequest'\n",
      "                },\n",
      "                data: {\n",
      "                    value: getsliderval,\n",
      "                    productid : getprid\n",
      "                },\n",
      "                success: function (option) {\n",
      "                    console.log(getsliderval);\n",
      "                }\n",
      "            });\n",
      "        },\n",
      "    });\n",
      "\n",
      "thus i do have this in my head:\n",
      "<meta name=\"csrf-token\" content=\"{{ csrf_token() }}\">\n",
      "\n",
      "my route looks like this:\n",
      "route::post('edit/{productid}', ['as' => 'editproductpost', 'uses' => 'productcontroller@editproductpost']);\n",
      "\n",
      "and in my controller method i call it like this:\n",
      "public function editproductpost(request $request)\n",
      "{\n",
      "    $slidervalue = $request->get('value');\n",
      "    log::info($slidervalue);\n",
      "\n",
      "    return view('productrom.edit', [\n",
      "        'slidervalue' => $slidervalue\n",
      "    ]);\n",
      "}\n",
      "\n",
      "log::info($slidervalue) tells me that i do get the correct slider value on each slide.\n",
      "when i try to return back to my edit view i get this error in the console:\n",
      "\n",
      "post http://localhost/myapp/public/product/edit/73 500 (internal\n",
      "  server error)\n",
      "\n",
      "how can i solve this?\n",
      "edit\n",
      "since i have this line in my view:\n",
      "<form action=\"{{ route($route) }}\"...>\n",
      "\n",
      "the route variable was not defined so i added this in my return statement.\n",
      "return view('productrom.edit', [\n",
      "    'slidervalue' => $slidervalue,\n",
      "    'route' => 'editproductpost'\n",
      "]);\n",
      "\n",
      "the error is gone but when i try to access the $slidervalue variable like this:\n",
      "<p>{{ isset($slidervalue) ? $slidervalue : \"nothing\" }}</p>\n",
      "\n",
      "it prints me nothing\n",
      "edit\n",
      "controller:\n",
      "    public function editproductpost(request $request)\n",
      "    {\n",
      "\n",
      "        return response()->json([\n",
      "            'slidervalue' => $request->get('value')\n",
      "        ]);\n",
      "   }\n",
      "\n",
      "view(ajax):\n",
      "        $.ajaxsetup({\n",
      "            headers: {\n",
      "                'x-csrf-token': $('meta[name=\"csrf-token\"]').attr('content')\n",
      "            }\n",
      "        });\n",
      "        $.ajax({\n",
      "            type: 'post',\n",
      "            url: \"{{ route('editproductpost', $product->id) }}\",\n",
      "            headers: {\n",
      "                'x-requested-with': 'xmlhttprequest'\n",
      "            },\n",
      "            data: {\n",
      "                value: getsliderval,\n",
      "                productid : getprid\n",
      "            },\n",
      "            success: function (response) {\n",
      "                // check it has some data\n",
      "                if (response.length) {\n",
      "                    // spit it out\n",
      "                    console.log(response);\n",
      "                } else {\n",
      "                    console.log('nothing returned');\n",
      "                }\n",
      "            }\n",
      "        });\n",
      "\n",
      "...\n",
      "\n",
      "\n"
     ]
    }
   ],
   "source": [
    "txt_1 = f\"tag : {df['Tags'][27287]}\\n\"\n",
    "txt_2 = f\"title : {df['Title'][27287]}\\n\"\n",
    "print(txt_1+txt_2+df['Body'][27287]+\"...\"+\"\\n\\n\")"
   ],
   "metadata": {
    "collapsed": false,
    "pycharm": {
     "name": "#%%\n"
    }
   }
  },
  {
   "cell_type": "code",
   "execution_count": 31,
   "outputs": [
    {
     "name": "stdout",
     "output_type": "stream",
     "text": [
      "nb tokens 444, nb tokens uniques 126\n",
      "['i', 'have', 'these', 'data', 'in', 'thhe', 'codebehind', 'and', 'tried', 'to', 'pass', 'it', 'to', 'javascript', 'function', 'in', 'various', 'format', ':', 'array', 'of', 'list', ',', 'json', 'string', 'but', 'no', 'way', 'to', 'get', 'data', 'by', 'a', 'javascript', 'var', 'object', '.', 'here', 'the', 'last', 'format', 'of', 'data', 'in', 'the', 'code', 'behind', ':', 'list', '<', 'string', '>', '[', ']', 'array2', '=', 'new', 'list', '<', 'string', '>', '[', 'listlenght', ']', ';', 'array2.initialize', '(', ')', ';', 'for', '(', 'int', 'ii', '=', '0', ';', 'ii', '<', 'listlenght', ';', 'ii++', ')', '{', 'array2', '[', 'ii', ']', '=', 'new', 'list', '<', 'string', '>', '(', ')', ';', 'array2', '[', 'ii', ']', '.add', '(', 'convert.tostring', '(', 'dt.rows', '[', 'ii', ']', '[', '5', ']', ')', ')', ';', 'array2', '[', 'ii', ']', '.add', '(', 'convert.tostring', '(', 'dt.rows', '[', 'ii', ']', '[', '9', ']', ')', ')', ';', 'array2', '[', 'ii', ']', '.add', '(', 'convert.tostring', '(', 'dt.rows', '[', 'ii', ']', '[', '10', ']', ')', ')', ';', 'array2', '[', 'ii', ']', '.add', '(', 'convert.tostring', '(', 'dt.rows', '[', 'ii', ']', '[', '11', ']', ')', ')', ';', '}', 'then', 'tried', 'to', 'call', 'javascriot', 'in', 'this', 'way', ':', 'string', 'createarrayscript', '=', 'string.format', '(', '``', 'var', 'array2', '=', '[', '{', '0', '}', ',', '{', '1', '}', ',', '{', '2', '}', ',', '{', '3', '}', ']', ';', \"''\", ',', 'string.join', '(', '``', ',', \"''\", ',', \"''\", ',', \"''\", ',', \"''\", ',', \"''\", ',', 'array2', ')', ')', ';', 'but', 'return', 'an', 'error', ':', 'formatexception', 'was', 'unhandled', 'by', 'user', 'code', 'the', 'index', '(', 'zero', 'based', ')', 'must', 'be', 'greater', 'than', 'or', 'equal', 'to', 'zero', 'and', 'less', 'than', 'the', 'size', 'of', 'the', 'list', 'of', 'topics', '.', 'this', 'is', 'the', 'call', 'to', 'the', 'function', ':', 'page.clientscript.registerstartupscript', '(', 'this.gettype', '(', ')', ',', '``', 'registerpoiarray', \"''\", ',', 'createarrayscript', ',', 'true', ')', ';', 'here', 'the', 'javascript', 'var', 'format', ':', 'var', 'markers', '=', 'poi', ';', 'var', 'markers', '=', '[', '{', \"''\", 'title', \"''\", ':', '``', 'via', 'andria', ',', 'roma', \"''\", ',', \"''\", 'lat', \"''\", ':', '41.8902643', ',', \"''\", 'lng', \"''\", ':', '12.6638589', ',', \"''\", 'description', \"''\", ':', '``', 'fdsad', \"''\", '}', ',', '{', \"''\", 'title', \"''\", ':', '``', 'via', 'canosa', ',', 'roma', \"''\", ',', \"''\", 'lat', \"''\", ':', '41.8838417', ',', \"''\", 'lng', \"''\", ':', '12.5438227', ',', \"''\", 'description', \"''\", ':', '``', 'fdsad', \"''\", '}', ',', '{', \"''\", 'title', \"''\", ':', '``', 'via', 'taranto', ',', 'milano', \"''\", ',', \"''\", 'lat', \"''\", ':', '45.4383343', ',', \"''\", 'lng', \"''\", ':', '9.1505354', ',', \"''\", 'description', \"''\", ':', '``', 'fdsad', \"''\", '}', ',', '{', \"''\", 'title', \"''\", ':', '``', 'via', 'barletta', ',', 'roma', \"''\", ',', \"''\", 'lat', \"''\", ':', '41.9102707', ',', \"''\", 'lng', \"''\", ':', '12.4580826', ',', \"''\", 'description', \"''\", ':', '``', 'fdsad', \"''\", '}', ']', ';', 'i', 'can', 'not', 'pass', 'this', 'array', 'in', 'javascript', '.', 'help', 'me', 'please']\n"
     ]
    }
   ],
   "source": [
    "tokens_1 = word_tokenize(doc)\n",
    "display_tokens_info(tokens_1)"
   ],
   "metadata": {
    "collapsed": false,
    "pycharm": {
     "name": "#%%\n"
    }
   }
  },
  {
   "cell_type": "code",
   "execution_count": 32,
   "outputs": [
    {
     "name": "stdout",
     "output_type": "stream",
     "text": [
      "nb tokens 408, nb tokens uniques 150\n",
      "['i', 'have', 'these', 'data', 'in', 'thhe', 'codebehind', 'and', 'tried', 'to', 'pass', 'it', 'to', 'javascript', 'function', 'in', 'various', 'format', ':', 'array', 'of', 'list', ',', 'json', 'string', 'but', 'no', 'way', 'to', 'get', 'data', 'by', 'a', 'javascript', 'var', 'object', '.', 'here', 'the', 'last', 'format', 'of', 'data', 'in', 'the', 'code', 'behind', ':', 'list', '<', 'string', '>[]', 'array2', '=', 'new', 'list', '<', 'string', '>[', 'listlenght', '];', 'array2', '.', 'initialize', '();', 'for', '(', 'int', 'ii', '=', '0', ';', 'ii', '<', 'listlenght', ';', 'ii', '++)', '{', 'array2', '[', 'ii', ']', '=', 'new', 'list', '<', 'string', '>();', 'array2', '[', 'ii', '].', 'add', '(', 'convert', '.', 'tostring', '(', 'dt', '.', 'rows', '[', 'ii', '][', '5', ']));', 'array2', '[', 'ii', '].', 'add', '(', 'convert', '.', 'tostring', '(', 'dt', '.', 'rows', '[', 'ii', '][', '9', ']));', 'array2', '[', 'ii', '].', 'add', '(', 'convert', '.', 'tostring', '(', 'dt', '.', 'rows', '[', 'ii', '][', '10', ']));', 'array2', '[', 'ii', '].', 'add', '(', 'convert', '.', 'tostring', '(', 'dt', '.', 'rows', '[', 'ii', '][', '11', ']));', '}', 'then', 'tried', 'to', 'call', 'javascriot', 'in', 'this', 'way', ':', 'string', 'createarrayscript', '=', 'string', '.', 'format', '(\"', 'var', 'array2', '=', '[{', '0', '},{', '1', '},{', '2', '},{', '3', '}];\",', 'string', '.', 'join', '(\",\",\",\",\",\",', 'array2', '));', 'but', 'return', 'an', 'error', ':', 'formatexception', 'was', 'unhandled', 'by', 'user', 'code', 'the', 'index', '(', 'zero', 'based', ')', 'must', 'be', 'greater', 'than', 'or', 'equal', 'to', 'zero', 'and', 'less', 'than', 'the', 'size', 'of', 'the', 'list', 'of', 'topics', '.', 'this', 'is', 'the', 'call', 'to', 'the', 'function', ':', 'page', '.', 'clientscript', '.', 'registerstartupscript', '(', 'this', '.', 'gettype', '(),', '\"', 'registerpoiarray', '\",', 'createarrayscript', ',', 'true', ');', 'here', 'the', 'javascript', 'var', 'format', ':', 'var', 'markers', '=', 'poi', ';', 'var', 'markers', '=', '[', '{', '\"', 'title', '\":', '\"', 'via', 'andria', ',', 'roma', '\",', '\"', 'lat', '\":', '41', '.', '8902643', ',', '\"', 'lng', '\":', '12', '.', '6638589', ',', '\"', 'description', '\":', '\"', 'fdsad', '\"', '},', '{', '\"', 'title', '\":', '\"', 'via', 'canosa', ',', 'roma', '\",', '\"', 'lat', '\":', '41', '.', '8838417', ',', '\"', 'lng', '\":', '12', '.', '5438227', ',', '\"', 'description', '\":', '\"', 'fdsad', '\"', '},', '{', '\"', 'title', '\":', '\"', 'via', 'taranto', ',', 'milano', '\",', '\"', 'lat', '\":', '45', '.', '4383343', ',', '\"', 'lng', '\":', '9', '.', '1505354', ',', '\"', 'description', '\":', '\"', 'fdsad', '\"', '},', '{', '\"', 'title', '\":', '\"', 'via', 'barletta', ',', 'roma', '\",', '\"', 'lat', '\":', '41', '.', '9102707', ',', '\"', 'lng', '\":', '12', '.', '4580826', ',', '\"', 'description', '\":', '\"', 'fdsad', '\"', '}];', 'i', 'can', 'not', 'pass', 'this', 'array', 'in', 'javascript', '.', 'help', 'me', 'please']\n"
     ]
    }
   ],
   "source": [
    "tokens_2 = wordpunct_tokenize(doc)\n",
    "display_tokens_info(tokens_2)"
   ],
   "metadata": {
    "collapsed": false,
    "pycharm": {
     "name": "#%%\n"
    }
   }
  },
  {
   "cell_type": "code",
   "execution_count": 33,
   "outputs": [],
   "source": [
    "stop_words = set(nltk.corpus.stopwords.words('English'))"
   ],
   "metadata": {
    "collapsed": false,
    "pycharm": {
     "name": "#%%\n"
    }
   }
  },
  {
   "cell_type": "code",
   "execution_count": 34,
   "outputs": [
    {
     "name": "stdout",
     "output_type": "stream",
     "text": [
      "nb tokens 391, nb tokens uniques 100\n",
      "['data', 'thhe', 'codebehind', 'tried', 'pass', 'javascript', 'function', 'various', 'format', ':', 'array', 'list', ',', 'json', 'string', 'way', 'get', 'data', 'javascript', 'var', 'object', '.', 'last', 'format', 'data', 'code', 'behind', ':', 'list', '<', 'string', '>', '[', ']', 'array2', '=', 'new', 'list', '<', 'string', '>', '[', 'listlenght', ']', ';', 'array2.initialize', '(', ')', ';', '(', 'int', 'ii', '=', '0', ';', 'ii', '<', 'listlenght', ';', 'ii++', ')', '{', 'array2', '[', 'ii', ']', '=', 'new', 'list', '<', 'string', '>', '(', ')', ';', 'array2', '[', 'ii', ']', '.add', '(', 'convert.tostring', '(', 'dt.rows', '[', 'ii', ']', '[', '5', ']', ')', ')', ';', 'array2', '[', 'ii', ']', '.add', '(', 'convert.tostring', '(', 'dt.rows', '[', 'ii', ']', '[', '9', ']', ')', ')', ';', 'array2', '[', 'ii', ']', '.add', '(', 'convert.tostring', '(', 'dt.rows', '[', 'ii', ']', '[', '10', ']', ')', ')', ';', 'array2', '[', 'ii', ']', '.add', '(', 'convert.tostring', '(', 'dt.rows', '[', 'ii', ']', '[', '11', ']', ')', ')', ';', '}', 'tried', 'call', 'javascriot', 'way', ':', 'string', 'createarrayscript', '=', 'string.format', '(', '``', 'var', 'array2', '=', '[', '{', '0', '}', ',', '{', '1', '}', ',', '{', '2', '}', ',', '{', '3', '}', ']', ';', \"''\", ',', 'string.join', '(', '``', ',', \"''\", ',', \"''\", ',', \"''\", ',', \"''\", ',', \"''\", ',', 'array2', ')', ')', ';', 'return', 'error', ':', 'formatexception', 'unhandled', 'user', 'code', 'index', '(', 'zero', 'based', ')', 'must', 'greater', 'equal', 'zero', 'less', 'size', 'list', 'topics', '.', 'call', 'function', ':', 'page.clientscript.registerstartupscript', '(', 'this.gettype', '(', ')', ',', '``', 'registerpoiarray', \"''\", ',', 'createarrayscript', ',', 'true', ')', ';', 'javascript', 'var', 'format', ':', 'var', 'markers', '=', 'poi', ';', 'var', 'markers', '=', '[', '{', \"''\", 'title', \"''\", ':', '``', 'via', 'andria', ',', 'roma', \"''\", ',', \"''\", 'lat', \"''\", ':', '41.8902643', ',', \"''\", 'lng', \"''\", ':', '12.6638589', ',', \"''\", 'description', \"''\", ':', '``', 'fdsad', \"''\", '}', ',', '{', \"''\", 'title', \"''\", ':', '``', 'via', 'canosa', ',', 'roma', \"''\", ',', \"''\", 'lat', \"''\", ':', '41.8838417', ',', \"''\", 'lng', \"''\", ':', '12.5438227', ',', \"''\", 'description', \"''\", ':', '``', 'fdsad', \"''\", '}', ',', '{', \"''\", 'title', \"''\", ':', '``', 'via', 'taranto', ',', 'milano', \"''\", ',', \"''\", 'lat', \"''\", ':', '45.4383343', ',', \"''\", 'lng', \"''\", ':', '9.1505354', ',', \"''\", 'description', \"''\", ':', '``', 'fdsad', \"''\", '}', ',', '{', \"''\", 'title', \"''\", ':', '``', 'via', 'barletta', ',', 'roma', \"''\", ',', \"''\", 'lat', \"''\", ':', '41.9102707', ',', \"''\", 'lng', \"''\", ':', '12.4580826', ',', \"''\", 'description', \"''\", ':', '``', 'fdsad', \"''\", '}', ']', ';', 'pass', 'array', 'javascript', '.', 'help', 'please']\n"
     ]
    }
   ],
   "source": [
    "tokens_1 = [ w for w in tokens_1 if w not in stop_words]\n",
    "display_tokens_info(tokens_1)"
   ],
   "metadata": {
    "collapsed": false,
    "pycharm": {
     "name": "#%%\n"
    }
   }
  },
  {
   "cell_type": "code",
   "execution_count": 35,
   "outputs": [
    {
     "name": "stdout",
     "output_type": "stream",
     "text": [
      "nb tokens 354, nb tokens uniques 124\n",
      "['data', 'thhe', 'codebehind', 'tried', 'pass', 'javascript', 'function', 'various', 'format', ':', 'array', 'list', ',', 'json', 'string', 'way', 'get', 'data', 'javascript', 'var', 'object', '.', 'last', 'format', 'data', 'code', 'behind', ':', 'list', '<', 'string', '>[]', 'array2', '=', 'new', 'list', '<', 'string', '>[', 'listlenght', '];', 'array2', '.', 'initialize', '();', '(', 'int', 'ii', '=', '0', ';', 'ii', '<', 'listlenght', ';', 'ii', '++)', '{', 'array2', '[', 'ii', ']', '=', 'new', 'list', '<', 'string', '>();', 'array2', '[', 'ii', '].', 'add', '(', 'convert', '.', 'tostring', '(', 'dt', '.', 'rows', '[', 'ii', '][', '5', ']));', 'array2', '[', 'ii', '].', 'add', '(', 'convert', '.', 'tostring', '(', 'dt', '.', 'rows', '[', 'ii', '][', '9', ']));', 'array2', '[', 'ii', '].', 'add', '(', 'convert', '.', 'tostring', '(', 'dt', '.', 'rows', '[', 'ii', '][', '10', ']));', 'array2', '[', 'ii', '].', 'add', '(', 'convert', '.', 'tostring', '(', 'dt', '.', 'rows', '[', 'ii', '][', '11', ']));', '}', 'tried', 'call', 'javascriot', 'way', ':', 'string', 'createarrayscript', '=', 'string', '.', 'format', '(\"', 'var', 'array2', '=', '[{', '0', '},{', '1', '},{', '2', '},{', '3', '}];\",', 'string', '.', 'join', '(\",\",\",\",\",\",', 'array2', '));', 'return', 'error', ':', 'formatexception', 'unhandled', 'user', 'code', 'index', '(', 'zero', 'based', ')', 'must', 'greater', 'equal', 'zero', 'less', 'size', 'list', 'topics', '.', 'call', 'function', ':', 'page', '.', 'clientscript', '.', 'registerstartupscript', '(', '.', 'gettype', '(),', '\"', 'registerpoiarray', '\",', 'createarrayscript', ',', 'true', ');', 'javascript', 'var', 'format', ':', 'var', 'markers', '=', 'poi', ';', 'var', 'markers', '=', '[', '{', '\"', 'title', '\":', '\"', 'via', 'andria', ',', 'roma', '\",', '\"', 'lat', '\":', '41', '.', '8902643', ',', '\"', 'lng', '\":', '12', '.', '6638589', ',', '\"', 'description', '\":', '\"', 'fdsad', '\"', '},', '{', '\"', 'title', '\":', '\"', 'via', 'canosa', ',', 'roma', '\",', '\"', 'lat', '\":', '41', '.', '8838417', ',', '\"', 'lng', '\":', '12', '.', '5438227', ',', '\"', 'description', '\":', '\"', 'fdsad', '\"', '},', '{', '\"', 'title', '\":', '\"', 'via', 'taranto', ',', 'milano', '\",', '\"', 'lat', '\":', '45', '.', '4383343', ',', '\"', 'lng', '\":', '9', '.', '1505354', ',', '\"', 'description', '\":', '\"', 'fdsad', '\"', '},', '{', '\"', 'title', '\":', '\"', 'via', 'barletta', ',', 'roma', '\",', '\"', 'lat', '\":', '41', '.', '9102707', ',', '\"', 'lng', '\":', '12', '.', '4580826', ',', '\"', 'description', '\":', '\"', 'fdsad', '\"', '}];', 'pass', 'array', 'javascript', '.', 'help', 'please']\n"
     ]
    }
   ],
   "source": [
    "tokens_2 = [ w for w in tokens_2 if w not in stop_words]\n",
    "display_tokens_info(tokens_2)"
   ],
   "metadata": {
    "collapsed": false,
    "pycharm": {
     "name": "#%%\n"
    }
   }
  },
  {
   "cell_type": "code",
   "execution_count": 36,
   "outputs": [
    {
     "name": "stdout",
     "output_type": "stream",
     "text": [
      "nb tokens 238, nb tokens uniques 116\n",
      "['i', 'have', 'these', 'data', 'in', 'thhe', 'codebehind', 'and', 'tried', 'to', 'pass', 'it', 'to', 'javascript', 'function', 'in', 'various', 'format', 'array', 'of', 'list', 'json', 'string', 'but', 'no', 'way', 'to', 'get', 'data', 'by', 'a', 'javascript', 'var', 'object', 'here', 'the', 'last', 'format', 'of', 'data', 'in', 'the', 'code', 'behind', 'list', 'string', 'array2', 'new', 'list', 'string', 'listlenght', 'array2', 'initialize', 'for', 'int', 'ii', '0', 'ii', 'listlenght', 'ii', 'array2', 'ii', 'new', 'list', 'string', 'array2', 'ii', 'add', 'convert', 'tostring', 'dt', 'rows', 'ii', '5', 'array2', 'ii', 'add', 'convert', 'tostring', 'dt', 'rows', 'ii', '9', 'array2', 'ii', 'add', 'convert', 'tostring', 'dt', 'rows', 'ii', '10', 'array2', 'ii', 'add', 'convert', 'tostring', 'dt', 'rows', 'ii', '11', 'then', 'tried', 'to', 'call', 'javascriot', 'in', 'this', 'way', 'string', 'createarrayscript', 'string', 'format', 'var', 'array2', '0', '1', '2', '3', 'string', 'join', 'array2', 'but', 'return', 'an', 'error', 'formatexception', 'was', 'unhandled', 'by', 'user', 'code', 'the', 'index', 'zero', 'based', 'must', 'be', 'greater', 'than', 'or', 'equal', 'to', 'zero', 'and', 'less', 'than', 'the', 'size', 'of', 'the', 'list', 'of', 'topics', 'this', 'is', 'the', 'call', 'to', 'the', 'function', 'page', 'clientscript', 'registerstartupscript', 'this', 'gettype', 'registerpoiarray', 'createarrayscript', 'true', 'here', 'the', 'javascript', 'var', 'format', 'var', 'markers', 'poi', 'var', 'markers', 'title', 'via', 'andria', 'roma', 'lat', '41', '8902643', 'lng', '12', '6638589', 'description', 'fdsad', 'title', 'via', 'canosa', 'roma', 'lat', '41', '8838417', 'lng', '12', '5438227', 'description', 'fdsad', 'title', 'via', 'taranto', 'milano', 'lat', '45', '4383343', 'lng', '9', '1505354', 'description', 'fdsad', 'title', 'via', 'barletta', 'roma', 'lat', '41', '9102707', 'lng', '12', '4580826', 'description', 'fdsad', 'i', 'can', 'not', 'pass', 'this', 'array', 'in', 'javascript', 'help', 'me', 'please']\n"
     ]
    }
   ],
   "source": [
    "tokenizer = nltk.RegexpTokenizer(r\"\\w+\")\n",
    "tokens_3 = tokenizer.tokenize(doc)\n",
    "display_tokens_info(tokens_3)"
   ],
   "metadata": {
    "collapsed": false,
    "pycharm": {
     "name": "#%%\n"
    }
   }
  },
  {
   "cell_type": "code",
   "execution_count": 37,
   "outputs": [
    {
     "name": "stdout",
     "output_type": "stream",
     "text": [
      "nb tokens 184, nb tokens uniques 90\n",
      "['data', 'thhe', 'codebehind', 'tried', 'pass', 'javascript', 'function', 'various', 'format', 'array', 'list', 'json', 'string', 'way', 'get', 'data', 'javascript', 'var', 'object', 'last', 'format', 'data', 'code', 'behind', 'list', 'string', 'array2', 'new', 'list', 'string', 'listlenght', 'array2', 'initialize', 'int', 'ii', '0', 'ii', 'listlenght', 'ii', 'array2', 'ii', 'new', 'list', 'string', 'array2', 'ii', 'add', 'convert', 'tostring', 'dt', 'rows', 'ii', '5', 'array2', 'ii', 'add', 'convert', 'tostring', 'dt', 'rows', 'ii', '9', 'array2', 'ii', 'add', 'convert', 'tostring', 'dt', 'rows', 'ii', '10', 'array2', 'ii', 'add', 'convert', 'tostring', 'dt', 'rows', 'ii', '11', 'tried', 'call', 'javascriot', 'way', 'string', 'createarrayscript', 'string', 'format', 'var', 'array2', '0', '1', '2', '3', 'string', 'join', 'array2', 'return', 'error', 'formatexception', 'unhandled', 'user', 'code', 'index', 'zero', 'based', 'must', 'greater', 'equal', 'zero', 'less', 'size', 'list', 'topics', 'call', 'function', 'page', 'clientscript', 'registerstartupscript', 'gettype', 'registerpoiarray', 'createarrayscript', 'true', 'javascript', 'var', 'format', 'var', 'markers', 'poi', 'var', 'markers', 'title', 'via', 'andria', 'roma', 'lat', '41', '8902643', 'lng', '12', '6638589', 'description', 'fdsad', 'title', 'via', 'canosa', 'roma', 'lat', '41', '8838417', 'lng', '12', '5438227', 'description', 'fdsad', 'title', 'via', 'taranto', 'milano', 'lat', '45', '4383343', 'lng', '9', '1505354', 'description', 'fdsad', 'title', 'via', 'barletta', 'roma', 'lat', '41', '9102707', 'lng', '12', '4580826', 'description', 'fdsad', 'pass', 'array', 'javascript', 'help', 'please']\n"
     ]
    }
   ],
   "source": [
    "tokens_3 = [ w for w in tokens_3 if w not in stop_words]\n",
    "display_tokens_info(tokens_3)"
   ],
   "metadata": {
    "collapsed": false,
    "pycharm": {
     "name": "#%%\n"
    }
   }
  },
  {
   "cell_type": "markdown",
   "source": [
    "#### 1.6 1st text processing function / test ..."
   ],
   "metadata": {
    "collapsed": false,
    "pycharm": {
     "name": "#%% md\n"
    }
   }
  },
  {
   "cell_type": "code",
   "execution_count": 38,
   "outputs": [],
   "source": [
    "def process_text(doc,\n",
    "                 rejoin=False):\n",
    "\n",
    "    #tokenizer\n",
    "    tokenizer = nltk.RegexpTokenizer(r'\\w+')\n",
    "    raw_tokens_list = tokenizer.tokenize(doc)\n",
    "\n",
    "    # stop words:\n",
    "    cleaned_tokens_list = [word for word in raw_tokens_list if word not in stop_words]\n",
    "\n",
    "    if rejoin:\n",
    "        return \" \".join(cleaned_tokens_list)\n",
    "\n",
    "    return cleaned_tokens_list"
   ],
   "metadata": {
    "collapsed": false,
    "pycharm": {
     "name": "#%%\n"
    }
   }
  },
  {
   "cell_type": "code",
   "execution_count": 39,
   "outputs": [
    {
     "name": "stdout",
     "output_type": "stream",
     "text": [
      "nb tokens 184, nb tokens uniques 90\n",
      "['data', 'thhe', 'codebehind', 'tried', 'pass', 'javascript', 'function', 'various', 'format', 'array', 'list', 'json', 'string', 'way', 'get', 'data', 'javascript', 'var', 'object', 'last', 'format', 'data', 'code', 'behind', 'list', 'string', 'array2', 'new', 'list', 'string', 'listlenght', 'array2', 'initialize', 'int', 'ii', '0', 'ii', 'listlenght', 'ii', 'array2', 'ii', 'new', 'list', 'string', 'array2', 'ii', 'add', 'convert', 'tostring', 'dt', 'rows', 'ii', '5', 'array2', 'ii', 'add', 'convert', 'tostring', 'dt', 'rows', 'ii', '9', 'array2', 'ii', 'add', 'convert', 'tostring', 'dt', 'rows', 'ii', '10', 'array2', 'ii', 'add', 'convert', 'tostring', 'dt', 'rows', 'ii', '11', 'tried', 'call', 'javascriot', 'way', 'string', 'createarrayscript', 'string', 'format', 'var', 'array2', '0', '1', '2', '3', 'string', 'join', 'array2', 'return', 'error', 'formatexception', 'unhandled', 'user', 'code', 'index', 'zero', 'based', 'must', 'greater', 'equal', 'zero', 'less', 'size', 'list', 'topics', 'call', 'function', 'page', 'clientscript', 'registerstartupscript', 'gettype', 'registerpoiarray', 'createarrayscript', 'true', 'javascript', 'var', 'format', 'var', 'markers', 'poi', 'var', 'markers', 'title', 'via', 'andria', 'roma', 'lat', '41', '8902643', 'lng', '12', '6638589', 'description', 'fdsad', 'title', 'via', 'canosa', 'roma', 'lat', '41', '8838417', 'lng', '12', '5438227', 'description', 'fdsad', 'title', 'via', 'taranto', 'milano', 'lat', '45', '4383343', 'lng', '9', '1505354', 'description', 'fdsad', 'title', 'via', 'barletta', 'roma', 'lat', '41', '9102707', 'lng', '12', '4580826', 'description', 'fdsad', 'pass', 'array', 'javascript', 'help', 'please']\n"
     ]
    }
   ],
   "source": [
    "tokens_4 = process_text(doc)\n",
    "display_tokens_info(tokens_4)"
   ],
   "metadata": {
    "collapsed": false,
    "pycharm": {
     "name": "#%%\n"
    }
   }
  },
  {
   "cell_type": "markdown",
   "source": [
    "#### 2.3 Generalization of preliminary text processing to full corpus of answers"
   ],
   "metadata": {
    "collapsed": false,
    "pycharm": {
     "name": "#%% md\n"
    }
   }
  },
  {
   "cell_type": "code",
   "execution_count": 40,
   "outputs": [
    {
     "data": {
      "text/plain": "\"is there a way to sandbox a linux process into a certain directory, and give this process exclusive rw access to this dir? for example, create a temporary working directory, and start e.g. python or another scripting tool in such a way that it can only write in this directory, without limiting too much of its functionality. and also that only this process can access read from this directory (except for superusers of course).\\ni need this to sandbox a web service that basically allows users to run arbitrary code. we currently do authorization in the software itself, but in the end all processes run as one and the same linux user. we would need a way in which a user cannot do any harm on the system, but does have a temporary private working directory to write and read files that is protected from the other users of the webservice.\\ni have a jframe, with two panels, in one panel i draw a line, as i was working i minimized the window of the java program i'm doing, when i maximized it the lin\""
     },
     "execution_count": 40,
     "metadata": {},
     "output_type": "execute_result"
    }
   ],
   "source": [
    "raw_corpus = \"\".join(df.Body.values)\n",
    "raw_corpus[:1000]"
   ],
   "metadata": {
    "collapsed": false,
    "pycharm": {
     "name": "#%%\n"
    }
   }
  },
  {
   "cell_type": "code",
   "execution_count": 41,
   "outputs": [
    {
     "name": "stdout",
     "output_type": "stream",
     "text": [
      "nb tokens 8148022, nb tokens uniques 359980\n",
      "['way', 'sandbox', 'linux', 'process', 'certain', 'directory', 'give', 'process', 'exclusive', 'rw', 'access', 'dir', 'example', 'create', 'temporary', 'working', 'directory', 'start', 'e', 'g', 'python', 'another', 'scripting', 'tool', 'way', 'write', 'directory', 'without', 'limiting', 'much', 'functionality', 'also', 'process', 'access', 'read', 'directory', 'except', 'superusers', 'course', 'need', 'sandbox', 'web', 'service', 'basically', 'allows', 'users', 'run', 'arbitrary', 'code', 'currently', 'authorization', 'software', 'end', 'processes', 'run', 'one', 'linux', 'user', 'would', 'need', 'way', 'user', 'cannot', 'harm', 'system', 'temporary', 'private', 'working', 'directory', 'write', 'read', 'files', 'protected', 'users', 'webservice', 'jframe', 'two', 'panels', 'one', 'panel', 'draw', 'line', 'working', 'minimized', 'window', 'java', 'program', 'maximized', 'line', 'drew', 'different', 'repainted', 'different', 'place', 'anyone', 'idea', 'lock', 'painting', 'minimize', 'screw', 'drawing', 'thank', 'import', 'java', 'awt', 'import', 'javax', 'swing', 'import', 'java', 'awt', 'event', 'import', 'java', 'io', 'import', 'java', 'util', 'import', 'javax', 'imageio', 'imageio', 'import', 'java', 'awt', 'graphics', 'import', 'java', 'awt', 'image', 'bufferedimage', 'import', 'java', 'io', 'file', 'class', 'jframepaint1', 'extends', 'jframe', 'implements', 'actionlistener', 'implements', 'actionlistener', 'public', 'static', 'int', 'activa', '0', 'public', 'static', 'jbutton', 'drawing', 'new', 'jbutton', 'drawing', 'public', 'static', 'jbutton', 'erase', 'new', 'jbutton', 'erase', 'public', 'static', 'int', 'x1', '0', 'y1', '0', 'x2', '0', 'y2', '0', 'public', 'jframepaint1', 'row', 'column', 'jpanel', 'container', 'new', 'jpanel', 'new', 'jpanel', 'new', 'gridlayout', '2', '1', 'jpanel', 'header', 'new', 'jpanel', 'header', 'setlayout', 'new', 'gridlayout', '50', '2', 'header', 'setlayout', 'new', 'flowlayout', 'header', 'setlayout', 'new', 'boxlayout', 'header', 'boxlayout', 'line_axis', 'container', 'setlayout', 'new', 'boxlayout', 'container', 'boxlayout', 'page_axis', 'lo', 'quite', 'ahorita', 'container', 'setlayout', 'new', 'flowlayout', 'contentcomponent', 'c', 'new', 'contentcomponent', 'drawing', 'addactionlistener', 'erase', 'addactionlistener', 'header', 'setsize', '30', '30', 'drawing', 'setalignmenty', 'component', 'bottom_alignment', 'container', 'add', 'box', 'createrigidarea', 'new', 'dimension', '100', '0', 'header', 'add', 'drawing', 'lo', 'quite', 'ahorita', 'header', 'add', 'erase', 'container', 'add', 'header', 'container', 'add', 'box', 'createrigidarea', 'new', 'dimension', '5', '0', 'header', 'add', 'drawing', 'container', 'add', 'header', 'container', 'add', 'c', 'lo', 'quite', 'ahorita', 'add', 'container', 'add', 'c', 'add', 'c', 'public', 'static', 'void', 'main', 'string', 'jframepaint1', 'ventanadiverti', 'new', 'jframepaint1', 'ventanadiverti', 'setsize', '800', '700', 'ventanadiverti', 'setlocation', '200', '0', 'ventanadiverti', 'settitle', 'diverti', 'ventanadiverti', 'setresizable', 'false', 'ventanadiverti', 'setdefaultcloseoperation', 'jframe', 'exit_on_close', 'ventanadiverti', 'setvisible', 'true', 'jframe', 'f', 'new', 'jframe', 'jframepaint1', 'f', 'new', 'jframepaint1', 'f', 'settitle', 'drawing', 'graphics', 'frames', 'f', 'setsize', '800', '650', 'f', 'setlocation', '200', '50', 'f', 'setdefaultcloseoperation', 'jframe', 'exit_on_close', 'f', 'setcontentpane', 'new', 'contentcomponent', 'f', 'getcontentpane', 'add', 'b', 'f', 'addwindowlistener', 'b', 'addactionlistener', 'f', 'setvisible', 'true', 'static', 'class', 'contentcomponent', 'extends', 'jpanel', 'public', 'void', 'paint', 'graphics', 'g', 'bufferedimage', 'image', 'reset', 'variables', 'makes', 'repaint', 'look', 'comments', 'see', 'happens', 'x1', '0', 'y1', '0', 'x2', '0', 'y2', '0', 'try', 'image', 'imageio', 'read', 'new', 'file', 'image', 'name', 'path', 'catch', 'ioexception', 'ex', 'handle', 'exception', 'g', 'setcolor', 'color', 'red', 'void', 'fillrect', 'int', 'x', 'int', 'int', 'width', 'int', 'height', 'fills', 'specified', 'rectangle', 'g', 'fillrect', '0', '0', '800', '600', 'activa', '1', 'g', 'setcolor', 'color', 'black', 'g', 'drawrect', '40', '40', '150', '80', 'int', 'x', '40', 'int', '40', 'int', '0', '4', 'g', 'drawrect', 'x', '10', '10', '150', '80', 'x', 'x', '10', '10', 'drawline', 'int', 'x1', 'int', 'y1', 'int', 'x2', 'int', 'y2', 'draws', 'line', 'points', 'x1', 'y1', 'x2', 'y2', 'graphics', 'context', 'coordinate', 'system', 'x1', '20', 'x2', '20', 'y2', '50', 'g', 'drawline', 'x1', 'y1', 'x2', 'y2', 'x2', '30', 'y1', 'y2', 'g', 'drawline', 'x1', 'y1', 'x2', 'y2', 'g', 'drawline', '20', '0', '20', '50', 'activa', '0', 'del', 'paint', 'public', 'void', 'actionperformed', 'actionevent', 'e', 'e', 'getsource', 'drawing', 'system', 'println', 'entro', 'activa', '0', 'activa', '1', 'repaint', 'e', 'getsource', 'erase', 'activa', '0', 'x1', '0', 'y1', '0', 'x2', '0', 'y2', '0', 'repaint', 'public', 'void', 'windowclosing', 'windowevent', 'e', 'system', 'exit', '0', 'public', 'void', 'windowopened', 'windowevent', 'e', 'public', 'void', 'windowclosed', 'windowevent', 'e', 'public', 'void', 'windowactivated', 'windowevent', 'e', 'public', 'void', 'windowdeactivated', 'windowevent', 'e', 'public', 'void', 'windowiconified', 'windowevent', 'e', 'public', 'void', 'windowdeiconified', 'windowevent', 'e', 'expert', 'network', 'security', 'pardon', 'question', 'smart', 'automating', 'logins', 'machines', 'using', 'ssh', 'currently', 'avoiding', 'host', 'key', 'warnings', 'using', 'stricthostkeychecking', 'naively', 'understand', 'someone', 'impersonate', 'server', 'risk', 'losing', 'password', 'case', 'however', 'using', 'public', 'private', 'key', 'based', 'authentication', 'using', 'passwordauthentication', 'intruder', 'still', 'cause', 'harm', 'basically', 'ssh', 'stricthostkeychecking', 'passwordauthentication', '1', 'intruder', 'decipher', 'private', 'key', '2', 'security', 'threats', 'regards', 'jp', 'simple', 'winforms', 'data', 'entry', 'app', 'uses', 'sqlite', 'always', 'single', 'user', 'app', 'always', 'local', 'database', 'multiple', 'tabs', 'usercontrols', 'serving', 'content', 'tabs', 'time', 'tab', 'selected', 'appropriate', 'usercontrol', 'initialized', 'old', 'one', 'removed', 'using', 'tabpage', 'controls', 'remove', 'usercontrol', 'initializes', 'generic', 'dataaccess', 'object', 'wraps', 'database', 'stuff', 'reused', 'tab', 'content', 'issue', 'open', 'sqliteconnection', 'duration', 'life', 'tab', 'usercontrol', 'read', 'elsewhere', 'good', 'practice', 'want', 'overkill', 'design', 'elaborate', 'data', 'layers', 'business', 'object', 'layers', 'partly', 'know', 'partly', 'think', 'necessary', 'app', 'basically', 'keeping', 'connection', 'adapter', 'datatable', 'sqlcommand', 'etc', 'objects', 'memory', 'reusing', 'different', 'sql', 'query', 'parameters', 'get', 'cached', 'data', 'methods', 'like', 'rowcount', 'problem', 'loaddata', 'method', 'clearing', 'previous', 'query', 'results', 'datatable', 'manually', 'beginning', 'tried', 'figuring', 'way', 'use', 'using', 'sqliteconnection', 'objects', 'redo', 'whole', 'dataload', 'stuff', 'similar', 'simple', 'things', 'like', 'rowcount', 'looking', 'suggestions', 'comments', 'approach', 'data', 'access', 'dataaccess', 'class', 'public', 'class', 'dataaccess', 'private', 'sqliteconnection', 'connection', 'new', 'sqliteconnection', 'global', 'dbconnectionstring', 'private', 'datatable', 'datatable', 'new', 'datatable', 'private', 'sqlitedataadapter', 'dataadapter', 'new', 'sqlitedataadapter', 'private', 'sqlitecommandbuilder', 'commandbuilder', 'new', 'sqlitecommandbuilder', 'private', 'sqlitecommand', 'command', 'new', 'sqlitecommand', 'private', 'bindingsource', 'bindingsource', 'new', 'bindingsource', 'public', 'dataaccess', 'dataadapter', 'selectcommand', 'command', 'commandbuilder', 'dataadapter', 'dataadapter', 'bindingsource', 'datasource', 'datatable', 'dataaccess', 'connection', 'dispose', 'public', 'bindingsource', 'bindingsource', 'get', 'return', 'bindingsource', 'public', 'void', 'loaddata', 'string', 'sql', 'dictionary', 'string', 'string', 'parameters', 'try', 'datatable', 'clear', 'command', 'connection', 'connection', 'ignore', 'sql', 'parameter', 'already', 'commandtext', 'assumes', 'sql', 'never', 'changes', 'per', 'instance', 'command', 'commandtext', 'null', 'command', 'commandtext', 'sql', 'foreach', 'keyvaluepair', 'string', 'string', 'parameter', 'parameters', 'command', 'parameters', 'contains', 'parameter', 'key', 'command', 'parameters', 'parameter', 'key', 'value', 'parameter', 'value', 'else', 'command', 'parameters', 'add', 'new', 'sqliteparameter', 'parameter', 'key', 'command', 'parameters', 'parameter', 'key', 'value', 'parameter', 'value', 'dataadapter', 'fill', 'datatable', 'catch', 'sqlexception', 'messagebox', 'show', 'data', 'problem', 'need', 'display', 'wrong', 'later', 'public', 'int', 'rowcount', 'return', 'datatable', 'rows', 'count', 'public', 'string', 'getfieldvalue', 'int', 'row_index', 'string', 'column_name', 'return', 'datatable', 'rows', 'row_index', 'column_name', 'tostring', 'public', 'void', 'save', 'dataadapter', 'update', 'datatable', 'public', 'void', 'newrow', 'dictionary', 'string', 'string', 'fields', 'datarow', 'datarow', 'datatable', 'newrow', 'foreach', 'keyvaluepair', 'string', 'string', 'field', 'fields', 'datarow', 'field', 'key', 'field', 'value', 'datatable', 'rows', 'add', 'datarow', 'basic', 'node', 'js', 'app', 'trying', 'get', 'ground', 'using', 'express', 'framework', 'views', 'folder', 'index', 'html', 'file', 'receive', 'following', 'error', 'loading', 'web', 'page', 'error', 'cannot', 'find', 'module', 'html', 'code', 'var', 'express', 'require', 'express', 'var', 'app', 'express', 'createserver', 'app', 'use', 'express', 'staticprovider', '__dirname', 'public', 'app', 'get', 'function', 'req', 'res', 'res', 'render', 'index', 'html', 'app', 'listen', '8080', '127', '0', '0', '1', 'missing', 'working', 'node', 'project', 'using', 'express', 'folders', 'routes', 'folder', 'include', 'several']\n"
     ]
    }
   ],
   "source": [
    "corpus = process_text(raw_corpus, rejoin=False)\n",
    "display_tokens_info(corpus)"
   ],
   "metadata": {
    "collapsed": false,
    "pycharm": {
     "name": "#%%\n"
    }
   }
  },
  {
   "cell_type": "markdown",
   "source": [
    "#### 2.4 Preliminary Analysis of Frequency"
   ],
   "metadata": {
    "collapsed": false,
    "pycharm": {
     "name": "#%% md\n"
    }
   }
  },
  {
   "cell_type": "code",
   "execution_count": 42,
   "outputs": [
    {
     "data": {
      "text/plain": "0         97896\n1         83539\n2         46145\njava      45187\nclass     43944\nnew       40865\ndata      38073\nusing     36803\nname      35810\nstring    35187\ndtype: int64"
     },
     "execution_count": 42,
     "metadata": {},
     "output_type": "execute_result"
    }
   ],
   "source": [
    "tmp = pd.Series(corpus).value_counts()\n",
    "tmp[:10]"
   ],
   "metadata": {
    "collapsed": false,
    "pycharm": {
     "name": "#%%\n"
    }
   }
  },
  {
   "cell_type": "code",
   "execution_count": 47,
   "outputs": [
    {
     "data": {
      "text/plain": "359980"
     },
     "execution_count": 47,
     "metadata": {},
     "output_type": "execute_result"
    }
   ],
   "source": [
    "len(tmp)"
   ],
   "metadata": {
    "collapsed": false,
    "pycharm": {
     "name": "#%%\n"
    }
   }
  },
  {
   "cell_type": "code",
   "execution_count": 43,
   "outputs": [
    {
     "data": {
      "text/plain": "xcodes                   1\nfilter_3                 1\nfilter_2                 1\ncclist                   1\ncclist_onrowdatabound    1\nem2em                    1\ntomogram                 1\nbtnprocess               1\nword7                    1\n016666667                1\ndtype: int64"
     },
     "execution_count": 43,
     "metadata": {},
     "output_type": "execute_result"
    }
   ],
   "source": [
    "tmp.tail(10)"
   ],
   "metadata": {
    "collapsed": false,
    "pycharm": {
     "name": "#%%\n"
    }
   }
  },
  {
   "cell_type": "code",
   "execution_count": 45,
   "outputs": [
    {
     "data": {
      "text/plain": "<AxesSubplot: >"
     },
     "execution_count": 45,
     "metadata": {},
     "output_type": "execute_result"
    },
    {
     "data": {
      "text/plain": "<Figure size 640x480 with 1 Axes>",
      "image/png": "[encoded data removed]"
     },
     "metadata": {},
     "output_type": "display_data"
    }
   ],
   "source": [
    "sns.boxplot(tmp[tmp < 30])"
   ],
   "metadata": {
    "collapsed": false,
    "pycharm": {
     "name": "#%%\n"
    }
   }
  },
  {
   "cell_type": "code",
   "execution_count": 46,
   "outputs": [
    {
     "data": {
      "text/plain": "162340"
     },
     "execution_count": 46,
     "metadata": {},
     "output_type": "execute_result"
    }
   ],
   "source": [
    "list_unique_words = list((tmp[tmp == 1]).index)\n",
    "len(list_unique_words)"
   ],
   "metadata": {
    "collapsed": false,
    "pycharm": {
     "name": "#%%\n"
    }
   }
  },
  {
   "cell_type": "markdown",
   "source": [
    "##### ... saving the words appearing only once in the corpus ..."
   ],
   "metadata": {
    "collapsed": false,
    "pycharm": {
     "name": "#%% md\n"
    }
   }
  },
  {
   "cell_type": "code",
   "execution_count": null,
   "outputs": [],
   "source": [
    "list_unique_words_df = pd.DataFrame({\"words\" : list_unique_words})\n",
    "list_unique_words_df.to_csv(\"data/cleaned/unique_words.csv\", index=False)\n",
    "list_unique_words_df"
   ],
   "metadata": {
    "collapsed": false,
    "pycharm": {
     "name": "#%%\n"
    }
   }
  },
  {
   "cell_type": "code",
   "execution_count": null,
   "outputs": [],
   "source": [
    "list_min_5_words = list((tmp[tmp < 5]).index)"
   ],
   "metadata": {
    "collapsed": false,
    "pycharm": {
     "name": "#%%\n"
    }
   }
  },
  {
   "cell_type": "code",
   "execution_count": null,
   "outputs": [],
   "source": [
    "len(list_min_5_words )"
   ],
   "metadata": {
    "collapsed": false,
    "pycharm": {
     "name": "#%%\n"
    }
   }
  },
  {
   "cell_type": "code",
   "execution_count": null,
   "outputs": [],
   "source": [
    "list_min_5_words.sample(20)"
   ],
   "metadata": {
    "collapsed": false,
    "pycharm": {
     "name": "#%%\n"
    }
   }
  },
  {
   "cell_type": "markdown",
   "source": [
    "##### ... saving the words apperaing 5 times or less in the corpus ..."
   ],
   "metadata": {
    "collapsed": false,
    "pycharm": {
     "name": "#%% md\n"
    }
   }
  },
  {
   "cell_type": "code",
   "execution_count": null,
   "outputs": [],
   "source": [
    "list_min_5_words_df = pd.DataFrame({\"words\" : list_min_5_words})\n",
    "list_min_5_words_df.to_csv(\"data/cleaned/min_5_words.csv\", index=False)"
   ],
   "metadata": {
    "collapsed": false,
    "pycharm": {
     "name": "#%%\n"
    }
   }
  },
  {
   "cell_type": "code",
   "execution_count": null,
   "outputs": [],
   "source": [
    "list_min_10_words = list((tmp[tmp < 10]).index)\n",
    "len(list_min_10_words)"
   ],
   "metadata": {
    "collapsed": false,
    "pycharm": {
     "name": "#%%\n"
    }
   }
  },
  {
   "cell_type": "markdown",
   "source": [
    "##### ... saving the words appearing 10 times or less in the corpus ..."
   ],
   "metadata": {
    "collapsed": false,
    "pycharm": {
     "name": "#%% md\n"
    }
   }
  },
  {
   "cell_type": "code",
   "execution_count": null,
   "outputs": [],
   "source": [
    "list_min_10_words_df = pd.DataFrame({\"words\" : list_min_10_words})\n",
    "list_min_10_words_df.to_csv(\"data/cleaned/min_10_words.csv\", index=False)"
   ],
   "metadata": {
    "collapsed": false,
    "pycharm": {
     "name": "#%%\n"
    }
   }
  }
 ],
 "metadata": {
  "kernelspec": {
   "display_name": "Python 3",
   "language": "python",
   "name": "python3"
  },
  "language_info": {
   "codemirror_mode": {
    "name": "ipython",
    "version": 2
   },
   "file_extension": ".py",
   "mimetype": "text/x-python",
   "name": "python",
   "nbconvert_exporter": "python",
   "pygments_lexer": "ipython2",
   "version": "2.7.6"
  }
 },
 "nbformat": 4,
 "nbformat_minor": 0
}